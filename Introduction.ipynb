{
 "cells": [
  {
   "cell_type": "markdown",
   "metadata": {
    "slideshow": {
     "slide_type": "slide"
    }
   },
   "source": [
    "# Introduction à Python"
   ]
  },
  {
   "cell_type": "markdown",
   "metadata": {
    "slideshow": {
     "slide_type": "slide"
    }
   },
   "source": [
    "## Qu'est-ce qu'un langage informatique ?\""
   ]
  },
  {
   "cell_type": "markdown",
   "metadata": {
    "slideshow": {
     "slide_type": "notes"
    }
   },
   "source": [
    "L'objectif d'un langage informatique est de décrire un ensemble d'instructions que l'on souhaite faire exécuter par un ordinateur. Le langage que comprend l'ordinateur (l'assembleur) est un langage trop primitif pour être simple et rapide à utiliser. C'est pour cela qu'il existe des langages dits évolués. Parmi ces langages on peut distinguer les <b><i>langages compilés</i></b> (par exemple, le C, le Fortran, le C++,...), des <b><i>langages interprétés</i></b> (Basic, Python,...). Dans le premier cas, le programme est traduit en langage machine par un <b><i>compilateur</i></b> dans sa totalité pour être exécuté directement par le processeur. Les langages interprétés sont quant à eux traduits et exécutés ligne par ligne par un <b><i>interpréteur</i></b>. Les langages interprétés sont plus lents à l'exécution puisque le langage machine généré n'est pas optimisé à l'échelle du code dans son ensemble, mais uniquement à l'échelle de la ligne de code. Cependant, ils sont plus faciles à utiliser : on peut faire une modification      sans avoir à recompiler, ou simplement voir le résultat de chaque instruction au fur et à mesure de l'exécution. Notez qu'il existe des langages comme Matlab qui sont interprétés lors de la phase de développement mais qui peuvent être compilés <i>in fine</i> pour minimiser le temps d'exécution."
   ]
  },
  {
   "cell_type": "markdown",
   "metadata": {
    "slideshow": {
     "slide_type": "fragment"
    }
   },
   "source": [
    "<img src=\"figures/langages.png\" width=\"420\">"
   ]
  },
  {
   "cell_type": "markdown",
   "metadata": {
    "slideshow": {
     "slide_type": "slide"
    }
   },
   "source": [
    "## Utilité de la programmation pour la Physique"
   ]
  },
  {
   "cell_type": "markdown",
   "metadata": {
    "slideshow": {
     "slide_type": "notes"
    }
   },
   "source": [
    "La recherche en Physique peut être découpée en trois activités principales : la théorie, l'expérience, et la simulation numérique. Chacune d'entre elles utilise l'outil informatique à sa manière. De façon très schématique, la théorie peut avoir recours à des outils de <b><i>calcul formel</b></i> (pour résoudre analytiquement une équation), faire des expériences nécessite d'<b><i>acquérir des données</b></i> (par exemple sur un oscilloscope), de <b><i>commander des appareils</b></i> (démarrer un moteur, faire varier son courant d'alimentation, ...) et d'<b><i>analyser les données</b></i> (ajustement de courbes, traitement du signal,...). La simulation numérique, vise à <b><i>résoudre numériquement des équations</b></i> que ni l'homme ni la machine ne savent résoudre analytiquement (éléments finis, différences finies, méthode Monte Carlo,...). Python ayant des possibilités limitées en ce qui concerne le calcul formel (il existe pour cela des logiciels spécialisés comme Mathematica ou Maple), l'objectif de ce cours sera de donner des bases de Python pour les expériences et la simulation numérique."
   ]
  },
  {
   "cell_type": "markdown",
   "metadata": {
    "slideshow": {
     "slide_type": "fragment"
    }
   },
   "source": [
    "<img src=\"figures/info_physique.png\" width=\"420\">"
   ]
  },
  {
   "cell_type": "markdown",
   "metadata": {
    "slideshow": {
     "slide_type": "slide"
    }
   },
   "source": [
    "## Qu'est ce que Python ?"
   ]
  },
  {
   "cell_type": "markdown",
   "metadata": {
    "slideshow": {
     "slide_type": "notes"
    }
   },
   "source": [
    "Python est un langage interprété, pour un usage général, (contrairement à Matlab, qui est uniquement dédié aux scientifiques et industriels). Par exemple Python est aussi bien utilisé par Google que par des scientifiques, ou bien des développeurs d'applications pour smartphone. Le langage Python est un ensemble minimal d'instructions à partir desquelles on peut construire des <b><i>modules</i></b> qui peuvent eux-mêmes faire appel à des librairies écrites en C. Ces modules contiennent des fonctions. Par exemples Python ne contient pas à la base les fonctions mathématiques <i>cosinus</i> et <i>sinus</i>. Mais ces fonctions existent dans le module <i>Math</i>. De cette manière, en Python, le programmeur ne charge dans la mémoire que les fonctions dont il a besoin. Dans ce cours nous apprendrons à nous servir de trois modules extrêmement utiles en Physique : <i>Numpy</i>, <i>Scipy</i> et <i>Matplotib</i>."
   ]
  },
  {
   "cell_type": "markdown",
   "metadata": {
    "slideshow": {
     "slide_type": "fragment"
    }
   },
   "source": [
    "<img src=\"figures/python.png\" width=\"420\">"
   ]
  },
  {
   "cell_type": "markdown",
   "metadata": {
    "slideshow": {
     "slide_type": "slide"
    }
   },
   "source": [
    "## La communauté Python"
   ]
  },
  {
   "cell_type": "markdown",
   "metadata": {
    "slideshow": {
     "slide_type": "notes"
    }
   },
   "source": [
    "Dès lors qu'un langage de programmation a du succès, il se crée une communauté qui peut regouper des millions d'utilisateurs. C'est le cas de Python. Ainsi lorsque vous avez le moindre souci, que vous cherchez un module, ou que l'interpréteur renvoie un message d'erreur que vous ne comprenez pas, il suffit en général de le coller dans Google pour trouver une réponse ou une solution. Sinon vous pouvez utiliser [StackOverflow](http://stackoverflow.com/) pour soumettre votre problème à la communauté. En général, une réponse viendra très rapidement."
   ]
  },
  {
   "cell_type": "markdown",
   "metadata": {
    "slideshow": {
     "slide_type": "slide"
    }
   },
   "source": [
    "## Les bonnes pratiques en Python - PEP 8 style guide"
   ]
  },
  {
   "cell_type": "markdown",
   "metadata": {
    "slideshow": {
     "slide_type": "notes"
    }
   },
   "source": [
    "Vous trouverez <a href= \"https://www.python.org/dev/peps/pep-0008/\">ici</a> un guide des bonnes pratiques en Python. (exemple : choisir des minuscules pour les variables, etc...). Elles visent à simplifier la lecture et la compréhension d'un code écrit par quelqu'un d'autre."
   ]
  },
  {
   "cell_type": "markdown",
   "metadata": {
    "slideshow": {
     "slide_type": "slide"
    }
   },
   "source": [
    "## Outils de gestion du code source"
   ]
  },
  {
   "cell_type": "markdown",
   "metadata": {
    "slideshow": {
     "slide_type": "notes"
    }
   },
   "source": [
    "Lorsque l'on écrit du code dans quelque langage que ce soit, il est important de garder trace de toutes les modifications opérées au cours du temps, afin de pouvoir revenir à une version antérieure en un clic. Cela est d'autant plus vrai lorsque plusieurs personnes travaillent sur le même code en même temps, ce qui est très souvent le cas dans les laboratoires de Physique. Pour cela il existe des outils puissants, dont le plus emblématique est [GitHub](https://github.com/). Ce type d'outil permet de gérer les différentes versions d'un projet informatique collaboratif de manière efficace, mais également d'un article ou d'une thèse. Il permet également de rendre disponible du code sur internet et d'inviter le tout venant à collaborer à votre projet. Le code source de la plupart des modules de Python sont sur ce type d'outil. Nous n'utiliserons pas GitHub dans ce cours mais je vous invite à l'utiliser dans vos projets futurs."
   ]
  },
  {
   "cell_type": "markdown",
   "metadata": {
    "slideshow": {
     "slide_type": "fragment"
    }
   },
   "source": [
    "* Github\n",
    "* Bitbucket\n",
    "* ..."
   ]
  },
  {
   "cell_type": "markdown",
   "metadata": {
    "slideshow": {
     "slide_type": "slide"
    }
   },
   "source": [
    "## Les différents environnements Python"
   ]
  },
  {
   "cell_type": "markdown",
   "metadata": {
    "slideshow": {
     "slide_type": "notes"
    }
   },
   "source": [
    "L'environnement Python est le logiciel dans lequel tourne l'interpréteur Python. Il existe plusieurs environnements, plus ou moins pratiques suivant l'usage. Pour avoir accès à des environnements Python, il faut d'abord installer Python, ou mieux, une <b>distribution Python</b>, c'est-à-dire un interpréteur+un ou des environnements+des modules."
   ]
  },
  {
   "cell_type": "markdown",
   "metadata": {
    "slideshow": {
     "slide_type": "slide"
    }
   },
   "source": [
    "### Installer Python 3.6 (sous Windows, Mac, Linux)"
   ]
  },
  {
   "cell_type": "markdown",
   "metadata": {
    "slideshow": {
     "slide_type": "fragment"
    }
   },
   "source": [
    "<img src=\"figures/anaconda.png\" width=\"60\">"
   ]
  },
  {
   "cell_type": "markdown",
   "metadata": {
    "slideshow": {
     "slide_type": "notes"
    }
   },
   "source": [
    "Il existe actuellement deux versions de Python, la version 2.7, et la version 3.6. La communauté scientifique utilisant les deux j'ai fait le choix de me baser sur la plus récente. Au niveau de ce cours, les différences entre ces deux versions sont minimes et ne gèneront pas ceux qui auraient besoin d'utiliser Python 2.7. Il est possible d'installer l'interpréteur Python 2.7 ou 3.6 seul, puis au gré des besoins d'installer les différents modules grâce l'installeur <i><b>pip</b></i>. Néanmoins, pour un usage scientifique il est préférable d'installer <b><i>une distribution</i></b>, qui regroupe l'interpréteur Python et un certain nombre de modules et d'environnements. Il existe plusieurs distributions. Sous Windows je recommande <b><i>Anaconda (Python 3.6 version) </i></b> téléchargeable [ici](https://www.anaconda.com/download/).\n",
    "\n",
    "Tous les environnements décrits ci-dessous sont inclus dans la distribution Anaconda."
   ]
  },
  {
   "cell_type": "markdown",
   "metadata": {
    "slideshow": {
     "slide_type": "slide"
    }
   },
   "source": [
    "### L'interpréteur python dans une boîte de commande sous Windows ou Linux"
   ]
  },
  {
   "cell_type": "markdown",
   "metadata": {
    "slideshow": {
     "slide_type": "fragment"
    }
   },
   "source": [
    "<img src=\"figures/ms_dos3.jpg\" width=\"600\">"
   ]
  },
  {
   "cell_type": "markdown",
   "metadata": {
    "slideshow": {
     "slide_type": "notes"
    }
   },
   "source": [
    "La manière la plus simple (mais la moins pratique) d'utiliser Python est de lancer l'interpréteur dans une console MS-Dos (sous Windows) ou dans une console sous Linux. Dans l'exemple ci-dessus (sous Windows), taper <b>python</b> après l'invite <b>c:\\</b> lance l'interpréteur Python. Les commandes que l'on tape ensuite après la nouvelle invite <b>>>></b> seront interprétées comme étant du Python, et non plus des commandes MS-DOS (ou Linux). On le voit ici avec l'utilisation de la commande Python `print` pour afficher la chaîne de caractères 'Hello World', puis la valeur de la variable <b>b</b> calculée à partir de <b>a</b>."
   ]
  },
  {
   "cell_type": "markdown",
   "metadata": {
    "slideshow": {
     "slide_type": "notes"
    }
   },
   "source": [
    "Plutôt que d'entrer les lignes de commande les unes après les autres dans l'interpréteur, il est aussi possible de les écrire les unes après les autres dans un fichier <b>mon_programme.py</b> que l'on appelle un script, puis de lancer ce script directement dans MS-DOS avec la commande <b>python mon_programme.py</b> ou alors directement dans l'interpréteur avec la commande <b>execfile('mon_programme.py')</b>. L'interpréteur éxécute alors toutes les lignes de commandes les unes après les autres sans s'arrêter."
   ]
  },
  {
   "cell_type": "markdown",
   "metadata": {
    "slideshow": {
     "slide_type": "slide"
    }
   },
   "source": [
    "<img src=\"figures/ms_dos2.jpg\" width=\"600\">"
   ]
  },
  {
   "cell_type": "markdown",
   "metadata": {
    "slideshow": {
     "slide_type": "slide"
    }
   },
   "source": [
    "### L'environnement JuPyter"
   ]
  },
  {
   "cell_type": "markdown",
   "metadata": {
    "slideshow": {
     "slide_type": "notes"
    }
   },
   "source": [
    "JuPyter est une console interactive qui est très utilisée. Elle pallie nombre de limitations de l'interpréteur Python standard décrit ci-dessus. Entre autres, elle possède les fonctionnalités suivantes :\n",
    "* Historique des commandes à l'aide des flèches <i>haut</i> et <i>bas</i> du clavier. \n",
    "* Auto-complétion avec la touche <i>Tab</i>\n",
    "* Possibilité d'entrer plusieurs lignes de codes avant de les exécuter grâce à <i>Ctrl+Entrée</i>.\n",
    "* Accès simple à la documentation des fonctions.\n",
    "* Beaucoup d'autres fonctionnalités dont nous n'aurons pas besoin dans ce cours.\n",
    "\n",
    "On peut lancer une console JuPyter depuis une boite de commande en tapant <i>jupyter qtconsole</i> directement depuis l'interface graphique Anaconda en cliquant sur l'icône :"
   ]
  },
  {
   "cell_type": "markdown",
   "metadata": {
    "slideshow": {
     "slide_type": "fragment"
    }
   },
   "source": [
    "<img src=\"figures/jupyter_console.png\" width=\"100\">"
   ]
  },
  {
   "cell_type": "markdown",
   "metadata": {
    "slideshow": {
     "slide_type": "fragment"
    }
   },
   "source": [
    "<img src=\"figures/jupyter_console_exp.png\" width=\"600\">"
   ]
  },
  {
   "cell_type": "markdown",
   "metadata": {
    "slideshow": {
     "slide_type": "slide"
    }
   },
   "source": [
    "### Redémarrer la console"
   ]
  },
  {
   "cell_type": "markdown",
   "metadata": {
    "slideshow": {
     "slide_type": "fragment"
    }
   },
   "source": [
    "Pour effacer les variables chargées dans la mémoire, il est souvent utile de réinitialiser la console. Cela s'effectue grâce à la combinaison \" <b>Ctrl + Shift + . </b>\""
   ]
  },
  {
   "cell_type": "markdown",
   "metadata": {
    "slideshow": {
     "slide_type": "slide"
    }
   },
   "source": [
    "### L'environnement JuPyter Notebook"
   ]
  },
  {
   "cell_type": "markdown",
   "metadata": {
    "slideshow": {
     "slide_type": "notes"
    }
   },
   "source": [
    "JuPyter Notebook, est une version évoluée de JuPyter qui fonctionne dans le navigateur web et permet de mélanger texte formatté (Html, LaTex) et du code interprété. L'interface Python ressemble à <i>Mathematica</i> ou <i>Maple</i>. Pour lancer JuPyter Notebook, taper <i>jupyter notebook</i> dans un boîte de commande ou bien cliquer sur l'icône ci-dessous, dans l'interface graphique Anaconda."
   ]
  },
  {
   "cell_type": "markdown",
   "metadata": {
    "slideshow": {
     "slide_type": "fragment"
    }
   },
   "source": [
    "<img src=\"figures/jupyter_notebook.png\" width=\"100\">"
   ]
  },
  {
   "cell_type": "markdown",
   "metadata": {
    "slideshow": {
     "slide_type": "slide"
    }
   },
   "source": [
    "<img src=\"figures/jupyter_notebook_exp.png\" width=\"800\">"
   ]
  },
  {
   "cell_type": "markdown",
   "metadata": {
    "slideshow": {
     "slide_type": "slide"
    }
   },
   "source": [
    "### L'environnement Spyder"
   ]
  },
  {
   "cell_type": "markdown",
   "metadata": {
    "slideshow": {
     "slide_type": "notes"
    }
   },
   "source": [
    "L'environnement Spyder inclut un éditeur de code avec coloration syntaxique et la console JuPyter. Il permet également de voir l'ensemble des variables chargées dans la mémoire à un instant donné, il inclus la documentation, l'historique des commandes, un explorateur de fichiers, le debuggage est facilité... Il ressemble aux premières versions de l'environnement Matlab, (même s'il est beaucoup plus rudimentaire). C'est Spyder que nous utiliserons pour ce cours. Pour le lancer, taper <i>spyder</i> dans une boite de commande ou bien cliquer sur l'icône dans Anaconda :"
   ]
  },
  {
   "cell_type": "markdown",
   "metadata": {
    "slideshow": {
     "slide_type": "fragment"
    }
   },
   "source": [
    "<img src=\"figures/spyder_ico.png\" width=\"80\">"
   ]
  },
  {
   "cell_type": "markdown",
   "metadata": {
    "slideshow": {
     "slide_type": "slide"
    }
   },
   "source": [
    "<img src=\"figures/spyder_exp.png\" width=\"700\">"
   ]
  }
 ],
 "metadata": {
  "kernelspec": {
   "display_name": "Python 3",
   "language": "python",
   "name": "python3"
  },
  "language_info": {
   "codemirror_mode": {
    "name": "ipython",
    "version": 3
   },
   "file_extension": ".py",
   "mimetype": "text/x-python",
   "name": "python",
   "nbconvert_exporter": "python",
   "pygments_lexer": "ipython3",
   "version": "3.6.5"
  }
 },
 "nbformat": 4,
 "nbformat_minor": 1
}
