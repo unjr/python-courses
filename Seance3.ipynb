{
 "cells": [
  {
   "cell_type": "markdown",
   "metadata": {},
   "source": [
    "# NumPy"
   ]
  },
  {
   "cell_type": "markdown",
   "metadata": {},
   "source": [
    "## Exercice 1"
   ]
  },
  {
   "cell_type": "code",
   "execution_count": 4,
   "metadata": {},
   "outputs": [],
   "source": [
    "def ma_fonction(x):\n",
    "    return(1/(1+x**2))"
   ]
  },
  {
   "cell_type": "code",
   "execution_count": 74,
   "metadata": {},
   "outputs": [
    {
     "data": {
      "text/plain": [
       "0.7853981629806992"
      ]
     },
     "execution_count": 74,
     "metadata": {},
     "output_type": "execute_result"
    }
   ],
   "source": [
    "# Methode des rectangles\n",
    "def rectangles(f,a,b,h):\n",
    "    abscisses = np.linspace(a,b,h)\n",
    "    resultat = 0\n",
    "    for i in range(len(abscisses)-1):\n",
    "        x1 = abscisses[i]; x2 = abscisses[i+1];\n",
    "        resultat += (f(x2) + f(x1))*(x2-x1)/2\n",
    "    return resultat\n",
    "rectangles(ma_fonction,0,1,10000)"
   ]
  },
  {
   "cell_type": "code",
   "execution_count": 79,
   "metadata": {},
   "outputs": [
    {
     "ename": "ValueError",
     "evalue": "operands could not be broadcast together with shapes (10000,) (9999,) ",
     "output_type": "error",
     "traceback": [
      "\u001b[0;31m---------------------------------------------------------------------------\u001b[0m",
      "\u001b[0;31mValueError\u001b[0m                                Traceback (most recent call last)",
      "\u001b[0;32m<ipython-input-79-9b41f146a043>\u001b[0m in \u001b[0;36m<module>\u001b[0;34m()\u001b[0m\n\u001b[1;32m      4\u001b[0m     \u001b[0mdiffAbs\u001b[0m \u001b[0;34m=\u001b[0m \u001b[0mnp\u001b[0m\u001b[0;34m.\u001b[0m\u001b[0mdiff\u001b[0m\u001b[0;34m(\u001b[0m\u001b[0mabscisses\u001b[0m\u001b[0;34m)\u001b[0m\u001b[0;34m/\u001b[0m\u001b[0;36m2\u001b[0m\u001b[0;34m\u001b[0m\u001b[0m\n\u001b[1;32m      5\u001b[0m     \u001b[0;32mreturn\u001b[0m\u001b[0;34m(\u001b[0m\u001b[0msum\u001b[0m\u001b[0;34m(\u001b[0m\u001b[0mf\u001b[0m\u001b[0;34m(\u001b[0m\u001b[0mabscisses\u001b[0m\u001b[0;34m)\u001b[0m\u001b[0;34m*\u001b[0m\u001b[0mdiffAbs\u001b[0m\u001b[0;34m)\u001b[0m\u001b[0;34m)\u001b[0m\u001b[0;34m\u001b[0m\u001b[0m\n\u001b[0;32m----> 6\u001b[0;31m \u001b[0mintegration\u001b[0m\u001b[0;34m(\u001b[0m\u001b[0mma_fonction\u001b[0m\u001b[0;34m,\u001b[0m\u001b[0;36m0\u001b[0m\u001b[0;34m,\u001b[0m\u001b[0;36m1\u001b[0m\u001b[0;34m,\u001b[0m\u001b[0;36m10000\u001b[0m\u001b[0;34m)\u001b[0m\u001b[0;34m\u001b[0m\u001b[0m\n\u001b[0m",
      "\u001b[0;32m<ipython-input-79-9b41f146a043>\u001b[0m in \u001b[0;36mintegration\u001b[0;34m(f, a, b, h)\u001b[0m\n\u001b[1;32m      3\u001b[0m     \u001b[0mabscisses\u001b[0m \u001b[0;34m=\u001b[0m \u001b[0mnp\u001b[0m\u001b[0;34m.\u001b[0m\u001b[0mlinspace\u001b[0m\u001b[0;34m(\u001b[0m\u001b[0ma\u001b[0m\u001b[0;34m,\u001b[0m\u001b[0mb\u001b[0m\u001b[0;34m,\u001b[0m\u001b[0mh\u001b[0m\u001b[0;34m)\u001b[0m\u001b[0;34m\u001b[0m\u001b[0m\n\u001b[1;32m      4\u001b[0m     \u001b[0mdiffAbs\u001b[0m \u001b[0;34m=\u001b[0m \u001b[0mnp\u001b[0m\u001b[0;34m.\u001b[0m\u001b[0mdiff\u001b[0m\u001b[0;34m(\u001b[0m\u001b[0mabscisses\u001b[0m\u001b[0;34m)\u001b[0m\u001b[0;34m/\u001b[0m\u001b[0;36m2\u001b[0m\u001b[0;34m\u001b[0m\u001b[0m\n\u001b[0;32m----> 5\u001b[0;31m     \u001b[0;32mreturn\u001b[0m\u001b[0;34m(\u001b[0m\u001b[0msum\u001b[0m\u001b[0;34m(\u001b[0m\u001b[0mf\u001b[0m\u001b[0;34m(\u001b[0m\u001b[0mabscisses\u001b[0m\u001b[0;34m)\u001b[0m\u001b[0;34m*\u001b[0m\u001b[0mdiffAbs\u001b[0m\u001b[0;34m)\u001b[0m\u001b[0;34m)\u001b[0m\u001b[0;34m\u001b[0m\u001b[0m\n\u001b[0m\u001b[1;32m      6\u001b[0m \u001b[0mintegration\u001b[0m\u001b[0;34m(\u001b[0m\u001b[0mma_fonction\u001b[0m\u001b[0;34m,\u001b[0m\u001b[0;36m0\u001b[0m\u001b[0;34m,\u001b[0m\u001b[0;36m1\u001b[0m\u001b[0;34m,\u001b[0m\u001b[0;36m10000\u001b[0m\u001b[0;34m)\u001b[0m\u001b[0;34m\u001b[0m\u001b[0m\n",
      "\u001b[0;31mValueError\u001b[0m: operands could not be broadcast together with shapes (10000,) (9999,) "
     ]
    }
   ],
   "source": [
    "def rectangles2(f,a,b,h):\n",
    "    abscisses = np.linspace(a,b,h)\n",
    "    diffAbs = np.diff(abscisses)/2\n",
    "    return(sum(f(abscisses)*diffAbs))\n",
    "rectangles2(ma_fonction,0,1,10000)"
   ]
  },
  {
   "cell_type": "code",
   "execution_count": null,
   "metadata": {},
   "outputs": [],
   "source": [
    "# Methode de Simpson\n",
    "def Simpson(f,a,b,h):\n",
    "    "
   ]
  },
  {
   "cell_type": "code",
   "execution_count": 77,
   "metadata": {},
   "outputs": [
    {
     "name": "stdout",
     "output_type": "stream",
     "text": [
      "[0.         0.11111111 0.22222222 0.33333333 0.44444444 0.55555556\n",
      " 0.66666667 0.77777778 0.88888889 1.        ]\n",
      "[0.11111111 0.11111111 0.11111111 0.11111111 0.11111111 0.11111111\n",
      " 0.11111111 0.11111111 0.11111111]\n"
     ]
    }
   ],
   "source": [
    "abscisses = np.linspace(0,1,10)\n",
    "print(abscisses)\n",
    "diffAbs = np.diff(abscisses)\n",
    "print(diffAbs)"
   ]
  },
  {
   "cell_type": "code",
   "execution_count": 10,
   "metadata": {},
   "outputs": [
    {
     "data": {
      "text/plain": [
       "0.7833333333333333"
      ]
     },
     "execution_count": 10,
     "metadata": {},
     "output_type": "execute_result"
    }
   ],
   "source": [
    "monIntegrale = integration_Simpson(ma_fonction,0,1)\n",
    "monIntegrale"
   ]
  },
  {
   "cell_type": "code",
   "execution_count": 11,
   "metadata": {},
   "outputs": [
    {
     "data": {
      "text/plain": [
       "0.3333333333333333"
      ]
     },
     "execution_count": 11,
     "metadata": {},
     "output_type": "execute_result"
    }
   ],
   "source": [
    "integraleCarre = integration_Simpson(lambda x:x**2,0,1)\n",
    "integraleCarre"
   ]
  },
  {
   "cell_type": "code",
   "execution_count": 18,
   "metadata": {},
   "outputs": [
    {
     "name": "stdout",
     "output_type": "stream",
     "text": [
      "0.33333333333333337 +/-3.700743415417189e-15\n"
     ]
    }
   ],
   "source": [
    "# Integration avec SciPy\n",
    "import scipy.integrate as integrate\n",
    "integraleCarreSP,abserr = integrate.quad(lambda x:x**2,0,1)\n",
    "print(str(integraleCarreSP)+' +/-' + str(abserr))"
   ]
  },
  {
   "cell_type": "code",
   "execution_count": 19,
   "metadata": {},
   "outputs": [
    {
     "name": "stdout",
     "output_type": "stream",
     "text": [
      "0.7853981633974484 +/-8.719671245021581e-15\n"
     ]
    }
   ],
   "source": [
    "monIntegraleSP,abserr = integrate.quad(ma_fonction,0,1)\n",
    "print(str(monIntegraleSP)+' +/-' + str(abserr))"
   ]
  },
  {
   "cell_type": "code",
   "execution_count": 21,
   "metadata": {},
   "outputs": [],
   "source": [
    "# Autre fonction\n",
    "def deuxieme_fonction(x):\n",
    "    if x > 0.5:\n",
    "        return(1/(1+x**2))\n",
    "    else:\n",
    "        return(-1/(1+x**2))"
   ]
  },
  {
   "cell_type": "code",
   "execution_count": 22,
   "metadata": {},
   "outputs": [],
   "source": [
    "import numpy as np\n",
    "tableau1D = np.linspace(0,5,100)"
   ]
  },
  {
   "cell_type": "code",
   "execution_count": 25,
   "metadata": {},
   "outputs": [],
   "source": [
    "# Vectorisation de la fonction\n",
    "fonction_vectorisee = np.vectorize(deuxieme_fonction)"
   ]
  },
  {
   "cell_type": "code",
   "execution_count": 32,
   "metadata": {},
   "outputs": [
    {
     "name": "stdout",
     "output_type": "stream",
     "text": [
      "[-1.         -0.99745573 -0.98990001 -0.97755835 -0.96078816 -0.94005371\n",
      " -0.91589571 -0.88889897 -0.85966143 -0.82876712  0.79676449  0.76415094\n",
      "  0.73136333  0.69877371  0.66668934  0.63535589  0.60496266  0.57564901\n",
      "  0.54751131  0.52060979  0.494975    0.47061366  0.44751381  0.42564927\n",
      "  0.40498327  0.38547156  0.3670649   0.34971098  0.33335601  0.31794589\n",
      "  0.30342714  0.28974753  0.27685659  0.26470588  0.25324927  0.24244298\n",
      "  0.23224568  0.22261845  0.21352476  0.20493037  0.19680328  0.18911357\n",
      "  0.18183336  0.17493664  0.16839917  0.16219839  0.1563133   0.15072433\n",
      "  0.14541327  0.14036319  0.13555829  0.13098388  0.12662627  0.1224727\n",
      "  0.11851126  0.11473088  0.11112119  0.10767253  0.10437589  0.10122281\n",
      "  0.09820543  0.09531636  0.0925487   0.08989599  0.08735216  0.08491155\n",
      "  0.08256881  0.08031895  0.07815727  0.07607936  0.07408107  0.0721585\n",
      "  0.07030796  0.068526    0.06680936  0.06515496  0.0635599   0.06202144\n",
      "  0.06053699  0.05910412  0.05772051  0.05638397  0.05509244  0.05384396\n",
      "  0.05263667  0.05146881  0.05033872  0.04924482  0.0481856   0.04715964\n",
      "  0.04616559  0.04520214  0.04426809  0.04336227  0.04248356  0.04163092\n",
      "  0.04080333  0.03999984  0.03921953  0.03846154]\n"
     ]
    }
   ],
   "source": [
    "# On applique la fonction au tableau 1D\n",
    "tableauResultat = fonction_vectorisee(tableau1D)\n",
    "print(tableauResultat)"
   ]
  },
  {
   "cell_type": "code",
   "execution_count": 43,
   "metadata": {},
   "outputs": [
    {
     "name": "stdout",
     "output_type": "stream",
     "text": [
      "[1.         1.         1.         1.         1.         1.\n",
      " 1.         1.         1.         1.         0.79676449 0.76415094\n",
      " 0.73136333 0.69877371 0.66668934 0.63535589 0.60496266 0.57564901\n",
      " 0.54751131 0.52060979 0.494975   0.47061366 0.44751381 0.42564927\n",
      " 0.40498327 0.38547156 0.3670649  0.34971098 0.33335601 0.31794589\n",
      " 0.30342714 0.28974753 0.27685659 0.26470588 0.25324927 0.24244298\n",
      " 0.23224568 0.22261845 0.21352476 0.20493037 0.19680328 0.18911357\n",
      " 0.18183336 0.17493664 0.16839917 0.16219839 0.1563133  0.15072433\n",
      " 0.14541327 0.14036319 0.13555829 0.13098388 0.12662627 0.1224727\n",
      " 0.11851126 0.11473088 0.11112119 0.10767253 0.10437589 0.10122281\n",
      " 0.09820543 0.09531636 0.0925487  0.08989599 0.08735216 0.08491155\n",
      " 0.08256881 0.08031895 0.07815727 0.07607936 0.07408107 0.0721585\n",
      " 0.07030796 0.068526   0.06680936 0.06515496 0.0635599  0.06202144\n",
      " 0.06053699 0.05910412 0.05772051 0.05638397 0.05509244 0.05384396\n",
      " 0.05263667 0.05146881 0.05033872 0.04924482 0.0481856  0.04715964\n",
      " 0.04616559 0.04520214 0.04426809 0.04336227 0.04248356 0.04163092\n",
      " 0.04080333 0.03999984 0.03921953 0.03846154]\n"
     ]
    }
   ],
   "source": [
    "tableauResultatPositif = np.ones(np.size(tableauResultat))\n",
    "\n",
    "for i,el in enumerate(tableauResultat):\n",
    "    if el>0:\n",
    "        tableauResultatPositif[i] = el\n",
    "\n",
    "print(tableauResultatPositif)"
   ]
  },
  {
   "cell_type": "code",
   "execution_count": 47,
   "metadata": {},
   "outputs": [
    {
     "name": "stdout",
     "output_type": "stream",
     "text": [
      "[False False False False False False False False False False  True  True\n",
      "  True  True  True  True  True  True  True  True  True  True  True  True\n",
      "  True  True  True  True  True  True  True  True  True  True  True  True\n",
      "  True  True  True  True  True  True  True  True  True  True  True  True\n",
      "  True  True  True  True  True  True  True  True  True  True  True  True\n",
      "  True  True  True  True  True  True  True  True  True  True  True  True\n",
      "  True  True  True  True  True  True  True  True  True  True  True  True\n",
      "  True  True  True  True  True  True  True  True  True  True  True  True\n",
      "  True  True  True  True]\n"
     ]
    }
   ],
   "source": [
    "tableauResultatPositif = np.ones(np.size(tableauResultat))\n",
    "cond = tableauResultat>0\n",
    "tableauResultatPositif = tableauResultat[cond]\n",
    "print(cond)"
   ]
  },
  {
   "cell_type": "code",
   "execution_count": 48,
   "metadata": {},
   "outputs": [
    {
     "name": "stdout",
     "output_type": "stream",
     "text": [
      "[0.79676449 0.76415094 0.73136333 0.69877371 0.66668934 0.63535589\n",
      " 0.60496266 0.57564901 0.54751131 0.52060979 0.494975   0.47061366\n",
      " 0.44751381 0.42564927 0.40498327 0.38547156 0.3670649  0.34971098\n",
      " 0.33335601 0.31794589 0.30342714 0.28974753 0.27685659 0.26470588\n",
      " 0.25324927 0.24244298 0.23224568 0.22261845 0.21352476 0.20493037\n",
      " 0.19680328 0.18911357 0.18183336 0.17493664 0.16839917 0.16219839\n",
      " 0.1563133  0.15072433 0.14541327 0.14036319 0.13555829 0.13098388\n",
      " 0.12662627 0.1224727  0.11851126 0.11473088 0.11112119 0.10767253\n",
      " 0.10437589 0.10122281 0.09820543 0.09531636 0.0925487  0.08989599\n",
      " 0.08735216 0.08491155 0.08256881 0.08031895 0.07815727 0.07607936\n",
      " 0.07408107 0.0721585  0.07030796 0.068526   0.06680936 0.06515496\n",
      " 0.0635599  0.06202144 0.06053699 0.05910412 0.05772051 0.05638397\n",
      " 0.05509244 0.05384396 0.05263667 0.05146881 0.05033872 0.04924482\n",
      " 0.0481856  0.04715964 0.04616559 0.04520214 0.04426809 0.04336227\n",
      " 0.04248356 0.04163092 0.04080333 0.03999984 0.03921953 0.03846154]\n"
     ]
    }
   ],
   "source": [
    "print(tableauResultatPositif)"
   ]
  },
  {
   "cell_type": "code",
   "execution_count": 69,
   "metadata": {},
   "outputs": [],
   "source": []
  }
 ],
 "metadata": {
  "kernelspec": {
   "display_name": "Python 3",
   "language": "python",
   "name": "python3"
  },
  "language_info": {
   "codemirror_mode": {
    "name": "ipython",
    "version": 3
   },
   "file_extension": ".py",
   "mimetype": "text/x-python",
   "name": "python",
   "nbconvert_exporter": "python",
   "pygments_lexer": "ipython3",
   "version": "3.6.5"
  }
 },
 "nbformat": 4,
 "nbformat_minor": 2
}
