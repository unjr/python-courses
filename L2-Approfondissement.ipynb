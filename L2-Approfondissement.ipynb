{
 "cells": [
  {
   "cell_type": "markdown",
   "metadata": {
    "slideshow": {
     "slide_type": "slide"
    }
   },
   "source": [
    "# Autres types pour représenter des données"
   ]
  },
  {
   "cell_type": "markdown",
   "metadata": {
    "slideshow": {
     "slide_type": "notes"
    }
   },
   "source": [
    "Nous avons vu les types fondamentaux utiles pour représenter des nombres (les entiers, les nombres à virgule flottante, les nombres complexes et le booléens). Il existe également des <i>chaînes de caractères</i> pour représenter du texte, des listes, des tuples et des dictionnaires. L'objet de cette partie est de les présenter."
   ]
  },
  {
   "cell_type": "markdown",
   "metadata": {
    "slideshow": {
     "slide_type": "slide"
    }
   },
   "source": [
    "## Les chaînes de caractères"
   ]
  },
  {
   "cell_type": "markdown",
   "metadata": {
    "slideshow": {
     "slide_type": "fragment"
    }
   },
   "source": [
    "Dans le chapitre précédent, nous avons déjà introduit une chaine de caractères. "
   ]
  },
  {
   "cell_type": "code",
   "execution_count": 1,
   "metadata": {
    "slideshow": {
     "slide_type": "fragment"
    }
   },
   "outputs": [
    {
     "name": "stdout",
     "output_type": "stream",
     "text": [
      "Hello World\n"
     ]
    }
   ],
   "source": [
    "ma_chaine = 'Hello World'\n",
    "print(ma_chaine)\n"
   ]
  },
  {
   "cell_type": "markdown",
   "metadata": {
    "slideshow": {
     "slide_type": "notes"
    }
   },
   "source": [
    "On la définit grâce à des guillemets. On a le choix entre les guillemets simples ' ou bien les guillemets doubles \". Le type d'une chaine de caractères est `str`, raccourcis pour string."
   ]
  },
  {
   "cell_type": "code",
   "execution_count": 2,
   "metadata": {
    "slideshow": {
     "slide_type": "slide"
    }
   },
   "outputs": [
    {
     "data": {
      "text/plain": [
       "str"
      ]
     },
     "execution_count": 2,
     "metadata": {},
     "output_type": "execute_result"
    }
   ],
   "source": [
    "type(ma_chaine)"
   ]
  },
  {
   "cell_type": "markdown",
   "metadata": {
    "slideshow": {
     "slide_type": "slide"
    }
   },
   "source": [
    "On peut calculer la longueur de chaine grâce à la fonction `len` (pour length)."
   ]
  },
  {
   "cell_type": "raw",
   "metadata": {
    "slideshow": {
     "slide_type": "fragment"
    }
   },
   "source": [
    "#### Longueur de chaîne"
   ]
  },
  {
   "cell_type": "code",
   "execution_count": 3,
   "metadata": {
    "slideshow": {
     "slide_type": "fragment"
    }
   },
   "outputs": [
    {
     "data": {
      "text/plain": [
       "11"
      ]
     },
     "execution_count": 3,
     "metadata": {},
     "output_type": "execute_result"
    }
   ],
   "source": [
    "# Longueur de la chaine de caractère\n",
    "len(ma_chaine)"
   ]
  },
  {
   "cell_type": "markdown",
   "metadata": {
    "slideshow": {
     "slide_type": "slide"
    }
   },
   "source": [
    "#### Chaîne sur plusieurs lignes"
   ]
  },
  {
   "cell_type": "markdown",
   "metadata": {
    "slideshow": {
     "slide_type": "fragment"
    }
   },
   "source": [
    "Le caractère saut de ligne est <b>\\n</b>."
   ]
  },
  {
   "cell_type": "code",
   "execution_count": 4,
   "metadata": {
    "slideshow": {
     "slide_type": "fragment"
    }
   },
   "outputs": [
    {
     "name": "stdout",
     "output_type": "stream",
     "text": [
      "Bien cordialement,\n",
      "Le responsable d'UE\n"
     ]
    }
   ],
   "source": [
    "print(\"Bien cordialement,\\nLe responsable d'UE\")"
   ]
  },
  {
   "cell_type": "markdown",
   "metadata": {
    "slideshow": {
     "slide_type": "slide"
    }
   },
   "source": [
    "On peut écrire une chaine de caractères sur plusieurs lignes en utilisant des triples guillemets (''' ou \"\"\") pour la définir."
   ]
  },
  {
   "cell_type": "code",
   "execution_count": 75,
   "metadata": {
    "slideshow": {
     "slide_type": "fragment"
    }
   },
   "outputs": [
    {
     "name": "stdout",
     "output_type": "stream",
     "text": [
      "Bonjour,\n",
      "\n",
      "je voudrais un café s'il vous plait.\n",
      "\n",
      "Merci.\n"
     ]
    }
   ],
   "source": [
    "# Chaine sur plusieurs lignes\n",
    "ma_chaine = \"\"\"Bonjour,\n",
    "\n",
    "je voudrais un café s'il vous plait.\n",
    "\n",
    "Merci.\"\"\"\n",
    "print(ma_chaine)"
   ]
  },
  {
   "cell_type": "markdown",
   "metadata": {
    "slideshow": {
     "slide_type": "slide"
    }
   },
   "source": [
    "#### Attributs et méthodes d'objet"
   ]
  },
  {
   "cell_type": "markdown",
   "metadata": {
    "slideshow": {
     "slide_type": "notes"
    }
   },
   "source": [
    "De la même manière que pour le type `cplx`, l'objet 'chaine de caractère' contient des fonctions que l'on appelle grâce au \".\" (suivi de la touche tabulation dans la console ipython, on voit apparaitre un menu déroulant donnant la liste des fonctions disponibles)."
   ]
  },
  {
   "cell_type": "code",
   "execution_count": 15,
   "metadata": {
    "slideshow": {
     "slide_type": "fragment"
    }
   },
   "outputs": [
    {
     "data": {
      "text/plain": [
       "'HELLO wORLD'"
      ]
     },
     "execution_count": 15,
     "metadata": {},
     "output_type": "execute_result"
    }
   ],
   "source": [
    "# Compter le nombre de \"o\" dans la chaine de caractère ma_chaine\n",
    "ma_chaine = 'hello World'\n",
    "ma_chaine.count('o')\n",
    "\n",
    "ma_chaine.swapcase()"
   ]
  },
  {
   "cell_type": "code",
   "execution_count": 16,
   "metadata": {
    "slideshow": {
     "slide_type": "fragment"
    }
   },
   "outputs": [
    {
     "data": {
      "text/plain": [
       "'HELLO WORLD'"
      ]
     },
     "execution_count": 16,
     "metadata": {},
     "output_type": "execute_result"
    }
   ],
   "source": [
    "# Rendre majuscules tous les caractères\n",
    "ma_chaine.upper()"
   ]
  },
  {
   "cell_type": "code",
   "execution_count": 17,
   "metadata": {
    "slideshow": {
     "slide_type": "fragment"
    }
   },
   "outputs": [
    {
     "data": {
      "text/plain": [
       "True"
      ]
     },
     "execution_count": 17,
     "metadata": {},
     "output_type": "execute_result"
    }
   ],
   "source": [
    "# Tester si la chaîne de caractères est un espace\n",
    "ma_chaine = ' '\n",
    "ma_chaine.isspace()"
   ]
  },
  {
   "cell_type": "markdown",
   "metadata": {
    "slideshow": {
     "slide_type": "notes"
    }
   },
   "source": [
    "Et bien d'autres fonctions très pratiques pour manipuler rapidement les chaines de caractère."
   ]
  },
  {
   "cell_type": "markdown",
   "metadata": {
    "slideshow": {
     "slide_type": "slide"
    }
   },
   "source": [
    "#### Indexer une chaine de caractères"
   ]
  },
  {
   "cell_type": "markdown",
   "metadata": {
    "slideshow": {
     "slide_type": "fragment"
    }
   },
   "source": [
    "Pour indexer une chaine de caratères on utilise les crochets <b>[</b> et <b>]</b>."
   ]
  },
  {
   "cell_type": "code",
   "execution_count": 18,
   "metadata": {
    "slideshow": {
     "slide_type": "fragment"
    }
   },
   "outputs": [
    {
     "data": {
      "text/plain": [
       "'W'"
      ]
     },
     "execution_count": 18,
     "metadata": {},
     "output_type": "execute_result"
    }
   ],
   "source": [
    "# Extraire le 6ème caractère\n",
    "ma_chaine = 'Hello World'\n",
    "ma_chaine[6]"
   ]
  },
  {
   "cell_type": "markdown",
   "metadata": {
    "slideshow": {
     "slide_type": "slide"
    }
   },
   "source": [
    "<b>ATTENTION :</b> En Python les indices débutent toujours à 0. Ainsi"
   ]
  },
  {
   "cell_type": "code",
   "execution_count": 19,
   "metadata": {
    "slideshow": {
     "slide_type": "fragment"
    }
   },
   "outputs": [
    {
     "data": {
      "text/plain": [
       "'H'"
      ]
     },
     "execution_count": 19,
     "metadata": {},
     "output_type": "execute_result"
    }
   ],
   "source": [
    "# Extraire le premier terme d'une liste\n",
    "ma_chaine[0]"
   ]
  },
  {
   "cell_type": "code",
   "execution_count": 20,
   "metadata": {
    "slideshow": {
     "slide_type": "fragment"
    }
   },
   "outputs": [
    {
     "data": {
      "text/plain": [
       "'llo'"
      ]
     },
     "execution_count": 20,
     "metadata": {},
     "output_type": "execute_result"
    }
   ],
   "source": [
    "# Extraire une partie de la chaine\n",
    "# L'indice 2 est inclus, l'indice 5 est exclus\n",
    "ma_chaine[2:5]"
   ]
  },
  {
   "cell_type": "code",
   "execution_count": 12,
   "metadata": {
    "slideshow": {
     "slide_type": "slide"
    }
   },
   "outputs": [
    {
     "data": {
      "text/plain": [
       "'orld'"
      ]
     },
     "execution_count": 12,
     "metadata": {},
     "output_type": "execute_result"
    }
   ],
   "source": [
    "# Extraire la sous-chaine qui commence au caractère placé\n",
    "# en 8ème position\n",
    "# Omettre l'indice à droite du signe \":\" revient à prendre\n",
    "# l'indice maximal (ici 10) \n",
    "ma_chaine[7:]"
   ]
  },
  {
   "cell_type": "code",
   "execution_count": 13,
   "metadata": {
    "slideshow": {
     "slide_type": "fragment"
    }
   },
   "outputs": [
    {
     "data": {
      "text/plain": [
       "'Hello W'"
      ]
     },
     "execution_count": 13,
     "metadata": {},
     "output_type": "execute_result"
    }
   ],
   "source": [
    "# Extraire la sous-chaine qui termine juste avant le caractère placé\n",
    "# en 8ème position\n",
    "# Omettre l'indice à gauche du signe \":\" revient à prendre\n",
    "# l'indice minimal (toujours 0) \n",
    "ma_chaine[:7]"
   ]
  },
  {
   "cell_type": "code",
   "execution_count": 14,
   "metadata": {
    "slideshow": {
     "slide_type": "slide"
    }
   },
   "outputs": [
    {
     "data": {
      "text/plain": [
       "'HloWrd'"
      ]
     },
     "execution_count": 14,
     "metadata": {},
     "output_type": "execute_result"
    }
   ],
   "source": [
    "# Extraire certains caractères en utilisant la notation \n",
    "# indice de départ:indice d'arrivée:pas\n",
    "# Par exemple si on veut extraire les caractères d'indices pairs \n",
    "# (indice de départ 0, indice d'arrivée = indice final et pas de 2) \n",
    "ma_chaine[::2]"
   ]
  },
  {
   "cell_type": "markdown",
   "metadata": {
    "slideshow": {
     "slide_type": "fragment"
    }
   },
   "source": [
    "Ici l'indice de départ est omis, c'est donc 0, l'indice d'arrivée est omis, c'est donc 10."
   ]
  },
  {
   "cell_type": "markdown",
   "metadata": {
    "slideshow": {
     "slide_type": "slide"
    }
   },
   "source": [
    "#### Concaténation de chaines de caractères"
   ]
  },
  {
   "cell_type": "markdown",
   "metadata": {
    "slideshow": {
     "slide_type": "fragment"
    }
   },
   "source": [
    "Pour concaténer deux chaines on peut utiliser le symbole \"+\"."
   ]
  },
  {
   "cell_type": "code",
   "execution_count": 15,
   "metadata": {
    "slideshow": {
     "slide_type": "fragment"
    }
   },
   "outputs": [
    {
     "name": "stdout",
     "output_type": "stream",
     "text": [
      "Hello World\n"
     ]
    }
   ],
   "source": [
    "# Concaténation de trois chaines\n",
    "ma_chaine1 = 'Hello'\n",
    "ma_chaine2 = ' '\n",
    "ma_chaine3 = 'World'\n",
    "ma_chaine = ma_chaine1 + ma_chaine2 + ma_chaine3\n",
    "print(ma_chaine)"
   ]
  },
  {
   "cell_type": "markdown",
   "metadata": {
    "slideshow": {
     "slide_type": "slide"
    }
   },
   "source": [
    "#### Formatage d'une chaîne de caractères avec l'instruction `format`"
   ]
  },
  {
   "cell_type": "markdown",
   "metadata": {
    "slideshow": {
     "slide_type": "notes"
    }
   },
   "source": [
    "Il peut être utile d'insérer un ou plusieurs éléments variables dans une chaine de caractères. Par exemple si l'on souhaite afficher l'heure à différents instants de la journée sous la forme : <b>\"Il est 18h30\"</b>, sans avoir à tout récrire à chaque fois, on doit pouvoir insérer 18 et 30 dans la chaine sans la récrire. Voici comment procéder :"
   ]
  },
  {
   "cell_type": "code",
   "execution_count": 21,
   "metadata": {
    "slideshow": {
     "slide_type": "fragment"
    }
   },
   "outputs": [
    {
     "name": "stdout",
     "output_type": "stream",
     "text": [
      "Il est 18h30\n"
     ]
    }
   ],
   "source": [
    "# Ecrire \"Il est (heures) h (minutes)\" \n",
    "heures = 18\n",
    "minutes = 30\n",
    "s = 'Il est {0}h{1}'.format(heures, minutes)\n",
    "print(s)"
   ]
  },
  {
   "cell_type": "markdown",
   "metadata": {
    "slideshow": {
     "slide_type": "fragment"
    }
   },
   "source": [
    "`heures` est inséré dans la chaîne à l'endroit où se trouve \"{0}\" et `minutes` à l'endroit ou se trouve \"{1}\". Notez que l'on n'est pas limité à 2 arguments. "
   ]
  },
  {
   "cell_type": "markdown",
   "metadata": {
    "slideshow": {
     "slide_type": "slide"
    }
   },
   "source": [
    "#### Parcourir une chaine de caractères avec une boucle `for`"
   ]
  },
  {
   "cell_type": "code",
   "execution_count": 17,
   "metadata": {
    "slideshow": {
     "slide_type": "fragment"
    }
   },
   "outputs": [
    {
     "name": "stdout",
     "output_type": "stream",
     "text": [
      "L\n",
      "e\n",
      " \n",
      "p\n",
      "e\n",
      "t\n",
      "i\n",
      "t\n",
      " \n",
      "c\n",
      "h\n",
      "a\n",
      "t\n",
      " \n",
      "m\n",
      "i\n",
      "a\n",
      "u\n",
      "l\n",
      "e\n"
     ]
    }
   ],
   "source": [
    "chaine = \"Le petit chat miaule\"\n",
    "for i in chaine:\n",
    "    print(i)"
   ]
  },
  {
   "cell_type": "code",
   "execution_count": 47,
   "metadata": {},
   "outputs": [
    {
     "name": "stdout",
     "output_type": "stream",
     "text": [
      "14\n"
     ]
    }
   ],
   "source": [
    "s = 'Le vin est bon'\n",
    "longueur = len(s)\n",
    "print(longueur)"
   ]
  },
  {
   "cell_type": "code",
   "execution_count": 48,
   "metadata": {},
   "outputs": [
    {
     "name": "stdout",
     "output_type": "stream",
     "text": [
      "vin\n"
     ]
    }
   ],
   "source": [
    "terme = s[3:6]\n",
    "print(terme)"
   ]
  },
  {
   "cell_type": "code",
   "execution_count": 50,
   "metadata": {},
   "outputs": [
    {
     "name": "stdout",
     "output_type": "stream",
     "text": [
      "L\n",
      "e\n",
      " \n",
      "v\n"
     ]
    }
   ],
   "source": [
    "for i in range(4):\n",
    "    print(s[i])"
   ]
  },
  {
   "cell_type": "code",
   "execution_count": 55,
   "metadata": {},
   "outputs": [
    {
     "name": "stdout",
     "output_type": "stream",
     "text": [
      "Il y a 2 lettres e dans la phrase.\n"
     ]
    }
   ],
   "source": [
    "nombredeE = 0\n",
    "for i in range(len(s)):\n",
    "    if s[i] == 'e':\n",
    "        nombredeE += 1\n",
    "print('Il y a '+str(nombredeE)+' lettres e dans la phrase.')\n",
    "\n",
    "#for i in s:\n",
    "#    if i == 'e'\n",
    "        "
   ]
  },
  {
   "cell_type": "code",
   "execution_count": 56,
   "metadata": {},
   "outputs": [
    {
     "name": "stdout",
     "output_type": "stream",
     "text": [
      "Il y a 2 lettres e dans la phrase.\n"
     ]
    }
   ],
   "source": [
    "nombredeE = s.count('e')\n",
    "print('Il y a '+str(nombredeE)+' lettres e dans la phrase.')"
   ]
  },
  {
   "cell_type": "code",
   "execution_count": 57,
   "metadata": {},
   "outputs": [
    {
     "data": {
      "text/plain": [
       "'le vin est bon'"
      ]
     },
     "execution_count": 57,
     "metadata": {},
     "output_type": "execute_result"
    }
   ],
   "source": [
    "s.casefold()"
   ]
  },
  {
   "cell_type": "code",
   "execution_count": 64,
   "metadata": {},
   "outputs": [],
   "source": [
    "def first_integers(n):\n",
    "    retour = ''\n",
    "    for i in range(n):\n",
    "        retour += str(i) + ' '\n",
    "    return retour"
   ]
  },
  {
   "cell_type": "code",
   "execution_count": 65,
   "metadata": {},
   "outputs": [
    {
     "data": {
      "text/plain": [
       "'0 1 2 3 4 5 6 7 8 9 '"
      ]
     },
     "execution_count": 65,
     "metadata": {},
     "output_type": "execute_result"
    }
   ],
   "source": [
    "first_integers(10)"
   ]
  },
  {
   "cell_type": "code",
   "execution_count": 78,
   "metadata": {},
   "outputs": [],
   "source": [
    "def appreciation(note):\n",
    "    if note>=12 and note<14:\n",
    "        appreciation = 'assez bien'\n",
    "    if note>=14 and note<16:\n",
    "        appreciation = 'bien'\n",
    "    if note>=16:\n",
    "        appreciation = 'très bien'\n",
    "    return appreciation\n",
    "\n",
    "def message(nom,note):\n",
    "    message = \"\"\"Cher {0},\n",
    "    \n",
    "vous avez obtenu la note de {1} au dernier examen. C'est {2}.\n",
    "\n",
    "Cordialement, Le responsable d'UE.\"\"\".format(nom,note,appreciation(note))\n",
    "    return message\n"
   ]
  },
  {
   "cell_type": "code",
   "execution_count": 39,
   "metadata": {},
   "outputs": [
    {
     "data": {
      "text/plain": [
       "8"
      ]
     },
     "execution_count": 39,
     "metadata": {},
     "output_type": "execute_result"
    }
   ],
   "source": [
    "chaine = '''Voici venir les temps où vibrant sur sa tige\n",
    "Chaque fleur s'évapore ainsi qu'un encensoir ;\n",
    "Les sons et les parfums tournent dans l'air du soir ;\n",
    "Valse mélancolique et langoureux vertige !\n",
    "\n",
    "Chaque fleur s'évapore ainsi qu'un encensoir ;\n",
    "Le violon frémit comme un coeur qu'on afflige ;\n",
    "Valse mélancolique et langoureux vertige !\n",
    "Le ciel est triste et beau comme un grand reposoir.\n",
    "\n",
    "Le violon frémit comme un coeur qu'on afflige,\n",
    "Un coeur tendre, qui hait le néant vaste et noir !\n",
    "Le ciel est triste et beau comme un grand reposoir ;\n",
    "Le soleil s'est noyé dans son sang qui se fige.\n",
    "\n",
    "Un coeur tendre, qui hait le néant vaste et noir,\n",
    "Du passé lumineux recueille tout vestige !\n",
    "Le soleil s'est noyé dans son sang qui se fige...\n",
    "Ton souvenir en moi luit comme un ostensoir !'''\n",
    "\n",
    "chaine.count('oir')"
   ]
  },
  {
   "cell_type": "code",
   "execution_count": 40,
   "metadata": {},
   "outputs": [],
   "source": [
    "def recherche_occurences(chaine,mot):\n",
    "    chaine = chaine.casefold()\n",
    "    mot = mot.casefold()\n",
    "    occurences = 0\n",
    "    for i in range(len(chaine)-len(mot)):\n",
    "        if chaine[i:i+len(mot)] == mot:\n",
    "            occurences+=1\n",
    "    return occurences\n",
    "\n",
    "def existence_mot(chaine,mot):\n",
    "    if recherche_occurences(chaine,mot)==0:\n",
    "        print('Le mot n\\'est pas dans la chaine.')\n",
    "    else:\n",
    "        print('Le mot est {0} fois dans la chaine.'.format(recherche_occurences(chaine,mot)))"
   ]
  },
  {
   "cell_type": "code",
   "execution_count": 41,
   "metadata": {},
   "outputs": [
    {
     "data": {
      "text/plain": [
       "8"
      ]
     },
     "execution_count": 41,
     "metadata": {},
     "output_type": "execute_result"
    }
   ],
   "source": [
    "recherche_occurences(chaine,'oir')"
   ]
  },
  {
   "cell_type": "code",
   "execution_count": 42,
   "metadata": {},
   "outputs": [
    {
     "name": "stdout",
     "output_type": "stream",
     "text": [
      "Le mot est 16 fois dans la chaine.\n"
     ]
    }
   ],
   "source": [
    "existence_mot(chaine,'le')"
   ]
  },
  {
   "cell_type": "markdown",
   "metadata": {
    "slideshow": {
     "slide_type": "slide"
    }
   },
   "source": [
    "## Un type composé : la liste"
   ]
  },
  {
   "cell_type": "markdown",
   "metadata": {
    "slideshow": {
     "slide_type": "fragment"
    }
   },
   "source": [
    "Les listes se manipulent de la même manière que les chaines de caractères mais peuvent être <b>composées d'éléments ayant des types différents</b>. La manière la plus simple de créer une liste est l'utilisation des crochets <b>[ et ]</b>, chaque élément étant séparé par une virgule."
   ]
  },
  {
   "cell_type": "code",
   "execution_count": 1,
   "metadata": {
    "slideshow": {
     "slide_type": "fragment"
    }
   },
   "outputs": [
    {
     "data": {
      "text/plain": [
       "list"
      ]
     },
     "execution_count": 1,
     "metadata": {},
     "output_type": "execute_result"
    }
   ],
   "source": [
    "# Exemple de création de liste\n",
    "ma_liste = [1, 'Hello World', 3.2, 2 + 1j]\n",
    "type(ma_liste)"
   ]
  },
  {
   "cell_type": "code",
   "execution_count": 2,
   "metadata": {
    "slideshow": {
     "slide_type": "slide"
    }
   },
   "outputs": [
    {
     "data": {
      "text/plain": [
       "str"
      ]
     },
     "execution_count": 2,
     "metadata": {},
     "output_type": "execute_result"
    }
   ],
   "source": [
    "# Extraction du second élément\n",
    "str1 = ma_liste[1]\n",
    "type(str1)"
   ]
  },
  {
   "cell_type": "code",
   "execution_count": 3,
   "metadata": {
    "slideshow": {
     "slide_type": "fragment"
    }
   },
   "outputs": [
    {
     "name": "stdout",
     "output_type": "stream",
     "text": [
      "Hello World\n"
     ]
    }
   ],
   "source": [
    "print(str1)"
   ]
  },
  {
   "cell_type": "markdown",
   "metadata": {
    "slideshow": {
     "slide_type": "slide"
    }
   },
   "source": [
    "#### Listes imbriquées (nested lists)"
   ]
  },
  {
   "cell_type": "code",
   "execution_count": 4,
   "metadata": {
    "slideshow": {
     "slide_type": "fragment"
    }
   },
   "outputs": [],
   "source": [
    "# On peut créer une liste de listes\n",
    "liste_imbriquee = [1 + 1j, ['a', [1.9, [2, [0]]]]]"
   ]
  },
  {
   "cell_type": "code",
   "execution_count": 5,
   "metadata": {
    "slideshow": {
     "slide_type": "fragment"
    }
   },
   "outputs": [
    {
     "data": {
      "text/plain": [
       "['a', [1.9, [2, [0]]]]"
      ]
     },
     "execution_count": 5,
     "metadata": {},
     "output_type": "execute_result"
    }
   ],
   "source": [
    "# Extraction de la seconde sous-liste de liste_imbriquee\n",
    "liste_imbriquee[1]"
   ]
  },
  {
   "cell_type": "code",
   "execution_count": 6,
   "metadata": {
    "slideshow": {
     "slide_type": "fragment"
    }
   },
   "outputs": [
    {
     "data": {
      "text/plain": [
       "1.9"
      ]
     },
     "execution_count": 6,
     "metadata": {},
     "output_type": "execute_result"
    }
   ],
   "source": [
    "# Accès via l'indexation multiple\n",
    "liste_imbriquee[1][1][0]"
   ]
  },
  {
   "cell_type": "markdown",
   "metadata": {
    "slideshow": {
     "slide_type": "slide"
    }
   },
   "source": [
    "#### Convertir une chaine de caractères en liste"
   ]
  },
  {
   "cell_type": "code",
   "execution_count": 7,
   "metadata": {
    "slideshow": {
     "slide_type": "fragment"
    }
   },
   "outputs": [
    {
     "name": "stdout",
     "output_type": "stream",
     "text": [
      "['H', 'e', 'l', 'l', 'o', ' ', 'W', 'o', 'r', 'l', 'd']\n"
     ]
    }
   ],
   "source": [
    "# On utilise la fonction `list`\n",
    "ma_liste = 'Hello World'\n",
    "liste_creee = list(ma_liste)\n",
    "print(liste_creee)"
   ]
  },
  {
   "cell_type": "markdown",
   "metadata": {
    "slideshow": {
     "slide_type": "slide"
    }
   },
   "source": [
    "#### Attributs et méthodes des listes"
   ]
  },
  {
   "cell_type": "code",
   "execution_count": 8,
   "metadata": {
    "slideshow": {
     "slide_type": "fragment"
    }
   },
   "outputs": [],
   "source": [
    "ma_liste = [1, 'Hello World', 3.2, 2 + 1j]"
   ]
  },
  {
   "cell_type": "code",
   "execution_count": 9,
   "metadata": {
    "slideshow": {
     "slide_type": "fragment"
    }
   },
   "outputs": [
    {
     "name": "stdout",
     "output_type": "stream",
     "text": [
      "[1, 'Hello World', 3.2, (2+1j), 'toto']\n"
     ]
    }
   ],
   "source": [
    "# Ajouter un élément à une liste avec la fonction 'append'\n",
    "ma_liste.append('toto')\n",
    "print(ma_liste)"
   ]
  },
  {
   "cell_type": "code",
   "execution_count": 10,
   "metadata": {
    "slideshow": {
     "slide_type": "fragment"
    }
   },
   "outputs": [
    {
     "name": "stdout",
     "output_type": "stream",
     "text": [
      "[1, 0, 3.2, (2+1j), 'toto']\n"
     ]
    }
   ],
   "source": [
    "# Remplacer un élément par un autre\n",
    "ma_liste[1] = 0\n",
    "print(ma_liste)"
   ]
  },
  {
   "cell_type": "code",
   "execution_count": 11,
   "metadata": {
    "slideshow": {
     "slide_type": "slide"
    }
   },
   "outputs": [
    {
     "name": "stdout",
     "output_type": "stream",
     "text": [
      "[1, 0, 2.8, 3.2, (2+1j), 'toto']\n"
     ]
    }
   ],
   "source": [
    "# Insérer un élément à un indice donné avec 'insert'\n",
    "ma_liste.insert(2, 2.8)\n",
    "print(ma_liste)"
   ]
  },
  {
   "cell_type": "code",
   "execution_count": 12,
   "metadata": {
    "slideshow": {
     "slide_type": "fragment"
    }
   },
   "outputs": [
    {
     "name": "stdout",
     "output_type": "stream",
     "text": [
      "[1, 0, 2.8, 3.2, (2+1j)]\n"
     ]
    }
   ],
   "source": [
    "# Retirer la première occurence d'un élément avec 'remove'\n",
    "ma_liste.remove('toto')\n",
    "print(ma_liste)"
   ]
  },
  {
   "cell_type": "code",
   "execution_count": 30,
   "metadata": {
    "slideshow": {
     "slide_type": "fragment"
    }
   },
   "outputs": [
    {
     "name": "stdout",
     "output_type": "stream",
     "text": [
      "[' ', 'H', 'W', 'd', 'e', 'l', 'l', 'l', 'o', 'o', 'r']\n"
     ]
    }
   ],
   "source": [
    "# Trier une liste avec 'sort'\n",
    "ma_liste = list('Hello World')\n",
    "ma_liste.sort()\n",
    "print(ma_liste)"
   ]
  },
  {
   "cell_type": "markdown",
   "metadata": {
    "slideshow": {
     "slide_type": "fragment"
    }
   },
   "source": [
    "Et bien d'autre, je vous laisse aller voir."
   ]
  },
  {
   "cell_type": "code",
   "execution_count": 13,
   "metadata": {},
   "outputs": [
    {
     "name": "stdout",
     "output_type": "stream",
     "text": [
      "[' ', ' ', '!', 'H', 'W', 'd', 'e', 'l', 'l', 'l', 'o', 'o', 'r']\n"
     ]
    }
   ],
   "source": [
    "ma_liste = list('Hello World !')\n",
    "ma_liste.sort()\n",
    "print(ma_liste)"
   ]
  },
  {
   "cell_type": "code",
   "execution_count": 14,
   "metadata": {},
   "outputs": [
    {
     "name": "stdout",
     "output_type": "stream",
     "text": [
      "[' ', ' ', ' ', ' ', '!', '0', '1', '2', 'H', 'W', 'd', 'e', 'l', 'l', 'l', 'o', 'o', 'r']\n"
     ]
    }
   ],
   "source": [
    "ma_liste = list('Hello World 1 20 !')\n",
    "ma_liste.sort()\n",
    "print(ma_liste)"
   ]
  },
  {
   "cell_type": "code",
   "execution_count": 15,
   "metadata": {},
   "outputs": [
    {
     "name": "stdout",
     "output_type": "stream",
     "text": [
      "[-5, 0.3, 1, 1, 2, 3, 4, 8, 8.5, 9]\n"
     ]
    }
   ],
   "source": [
    "ma_liste = [2,8,3,1,4,1,-5,0.3,9,8.5]\n",
    "ma_liste.sort()\n",
    "print(ma_liste)"
   ]
  },
  {
   "cell_type": "markdown",
   "metadata": {
    "slideshow": {
     "slide_type": "slide"
    }
   },
   "source": [
    "#### Suppression d'un élément à un indice spécifique"
   ]
  },
  {
   "cell_type": "markdown",
   "metadata": {
    "slideshow": {
     "slide_type": "fragment"
    }
   },
   "source": [
    "La fonction `del` permet ceci. Elle n'est pas dans les méthodes de la liste."
   ]
  },
  {
   "cell_type": "code",
   "execution_count": 16,
   "metadata": {
    "slideshow": {
     "slide_type": "fragment"
    }
   },
   "outputs": [
    {
     "name": "stdout",
     "output_type": "stream",
     "text": [
      "[-5, 0.3, 1, 2, 3, 4, 8, 8.5, 9]\n"
     ]
    }
   ],
   "source": [
    "# Retirer un élément ayant un indice spécifique \n",
    "del(ma_liste[2])\n",
    "print(ma_liste)"
   ]
  },
  {
   "cell_type": "markdown",
   "metadata": {
    "slideshow": {
     "slide_type": "slide"
    }
   },
   "source": [
    "#### Réplication de liste"
   ]
  },
  {
   "cell_type": "markdown",
   "metadata": {
    "slideshow": {
     "slide_type": "fragment"
    }
   },
   "source": [
    "Le signe \"*\" appliqué à une liste permet sa réplication."
   ]
  },
  {
   "cell_type": "code",
   "execution_count": 38,
   "metadata": {
    "scrolled": true,
    "slideshow": {
     "slide_type": "fragment"
    }
   },
   "outputs": [
    {
     "name": "stdout",
     "output_type": "stream",
     "text": [
      "[1, 1, 1, 1, 1, 1, 1, 1, 1, 1, 1, 1, 1, 1, 1, 1, 1, 1]\n"
     ]
    }
   ],
   "source": [
    "# Création d'une liste de 18 éléments contenant la valeur 1\n",
    "ma_liste  = [1]*18\n",
    "print(ma_liste)"
   ]
  },
  {
   "cell_type": "markdown",
   "metadata": {
    "slideshow": {
     "slide_type": "slide"
    }
   },
   "source": [
    "#### Creation d'une liste dans une boucle"
   ]
  },
  {
   "cell_type": "code",
   "execution_count": 41,
   "metadata": {
    "slideshow": {
     "slide_type": "fragment"
    }
   },
   "outputs": [
    {
     "name": "stdout",
     "output_type": "stream",
     "text": [
      "[0, 1, 4, 9, 16, 25, 36, 49, 64, 81]\n",
      "[[], 1, 4, 9, 16, 25, 36, 49, 64, 81]\n"
     ]
    }
   ],
   "source": [
    "# Initialisation de la liste\n",
    "ma_liste = []\n",
    "# Puis on écrit une boucle `for` qui éxécute la fonction `append` \n",
    "# un certain nombre de fois\n",
    "for i in range(10):\n",
    "    ma_liste.append(i**2)\n",
    "print(ma_liste)\n",
    "\n",
    "ma_liste[0] = []\n",
    "print(ma_liste)"
   ]
  },
  {
   "cell_type": "markdown",
   "metadata": {
    "slideshow": {
     "slide_type": "slide"
    }
   },
   "source": [
    "#### Creation d'une liste grâce à une <i>liste en comprehension (list comprehension)</i>"
   ]
  },
  {
   "cell_type": "markdown",
   "metadata": {
    "slideshow": {
     "slide_type": "fragment"
    }
   },
   "source": [
    "Les <i>list comprehensions</i> sont une astuce offerte par Python pour créer une liste en une seule ligne grâce à une boucle `for`."
   ]
  },
  {
   "cell_type": "code",
   "execution_count": 42,
   "metadata": {
    "slideshow": {
     "slide_type": "fragment"
    }
   },
   "outputs": [
    {
     "name": "stdout",
     "output_type": "stream",
     "text": [
      "[0, 1, 4, 9, 16, 25, 36, 49, 64, 81]\n"
     ]
    }
   ],
   "source": [
    "# Exemple de liste en compréhension\n",
    "ma_liste = [i**2 for i in range(10)]\n",
    "print(ma_liste)"
   ]
  },
  {
   "cell_type": "markdown",
   "metadata": {
    "slideshow": {
     "slide_type": "notes"
    }
   },
   "source": [
    "Dans ce cas, pas besoin d'initialiser la liste, et la boucle `for` tient sur un ligne. 3 lignes deviennent donc une seule.\n",
    "\n",
    "Les listes en comprehension tolèrent les conditions :"
   ]
  },
  {
   "cell_type": "code",
   "execution_count": 43,
   "metadata": {
    "slideshow": {
     "slide_type": "fragment"
    }
   },
   "outputs": [
    {
     "name": "stdout",
     "output_type": "stream",
     "text": [
      "[16, 25, 36, 49, 64, 81]\n"
     ]
    }
   ],
   "source": [
    "# Exemple de liste en compréhension avec condition\n",
    "ma_liste = [i**2 for i in range(10) if i>3]\n",
    "print(ma_liste)"
   ]
  },
  {
   "cell_type": "markdown",
   "metadata": {
    "slideshow": {
     "slide_type": "slide"
    }
   },
   "source": [
    "#### Appliquer une fonction à tous les éléments d'une liste : la fonction `map`"
   ]
  },
  {
   "cell_type": "code",
   "execution_count": 18,
   "metadata": {
    "slideshow": {
     "slide_type": "fragment"
    }
   },
   "outputs": [
    {
     "data": {
      "text/plain": [
       "[4, 48, 8, 100, 0]"
      ]
     },
     "execution_count": 18,
     "metadata": {},
     "output_type": "execute_result"
    }
   ],
   "source": [
    "# La fonction en question prend un nombre entier en argument et retourne\n",
    "# son carré s'il est pair, (son carré - 1) s'il est impair\n",
    "def ma_fonction(i):\n",
    "    if i%2==0:\n",
    "        return i**2\n",
    "    else:\n",
    "        return i**2-1\n",
    "# Puis la fonction map prend cette fonction en premier argument\n",
    "# suivi de la liste à laquelle on souhaite l'appliquer\n",
    "list(map(ma_fonction, [2, 7, 3, 10, 0]))"
   ]
  },
  {
   "cell_type": "markdown",
   "metadata": {
    "slideshow": {
     "slide_type": "slide"
    }
   },
   "source": [
    "#### Joindre les éléments d'une liste de `strings` en insérant un séparateur"
   ]
  },
  {
   "cell_type": "markdown",
   "metadata": {
    "slideshow": {
     "slide_type": "notes"
    }
   },
   "source": [
    "Cette fonction s'applique à une chaine de caractère, le séparateur, et prend comme argument une liste de chaine de caractères. La fonction renvoie une chaine de caractères formée des éléments de la listes séparés par le séparateur. Syntaxe <i>séparateur</i>.`join`(<i>liste</i>)."
   ]
  },
  {
   "cell_type": "code",
   "execution_count": 37,
   "metadata": {
    "slideshow": {
     "slide_type": "fragment"
    }
   },
   "outputs": [
    {
     "name": "stdout",
     "output_type": "stream",
     "text": [
      "['a', 'b', 'c']\n"
     ]
    }
   ],
   "source": [
    "# Création d'une liste de strings\n",
    "ma_liste = ['a', 'b', 'c']\n",
    "print(ma_liste)"
   ]
  },
  {
   "cell_type": "code",
   "execution_count": 38,
   "metadata": {
    "slideshow": {
     "slide_type": "fragment"
    }
   },
   "outputs": [
    {
     "data": {
      "text/plain": [
       "'a & b & c'"
      ]
     },
     "execution_count": 38,
     "metadata": {},
     "output_type": "execute_result"
    }
   ],
   "source": [
    "# Insertion de la chaine de caractères séparatrice \" & \"\n",
    "' & '.join(ma_liste)"
   ]
  },
  {
   "cell_type": "markdown",
   "metadata": {
    "slideshow": {
     "slide_type": "slide"
    }
   },
   "source": [
    "#### Parcourir une liste avec une boucle `for`"
   ]
  },
  {
   "cell_type": "code",
   "execution_count": 39,
   "metadata": {
    "slideshow": {
     "slide_type": "fragment"
    }
   },
   "outputs": [
    {
     "name": "stdout",
     "output_type": "stream",
     "text": [
      "1\n",
      "3\n",
      "5\n",
      "Thibaut\n"
     ]
    }
   ],
   "source": [
    "# Exemple avec une simple boucle `for`comme déjà vu précédemment\n",
    "ma_liste = [1, 3, 5, 'Thibaut']\n",
    "for element in ma_liste:\n",
    "    print(element)"
   ]
  },
  {
   "cell_type": "markdown",
   "metadata": {
    "slideshow": {
     "slide_type": "slide"
    }
   },
   "source": [
    "#### Parcourir une liste grâce à une boucle `for` en utilisant l'instruction `enumerate`."
   ]
  },
  {
   "cell_type": "markdown",
   "metadata": {
    "slideshow": {
     "slide_type": "notes"
    }
   },
   "source": [
    "Pour les débutants : l'utilisation de l'instruction `enumerate` dans une boucle `for` comme dans l'exemple ci-dessous permet de parcourir un liste tout en ayant accès à l'indice de l'élément courant.\n",
    "\n",
    "Pour les utilisateur confirmés : l'instruction `enumerate` est un générateur qui prend comme argument une liste et retourne un tuple à chaque appelle de la fonction `next()` après avoir été tranformé en itérateur (`enumerate` est un générateur, comme `xrange`, voir fin du chapitre 1 sur les bases de Python). La fonction `next()` est implicitement appelée à chaque tour de boucle lors de l'emploi d'`énumerate` dans une boucle `for` de la manière suivante :"
   ]
  },
  {
   "cell_type": "code",
   "execution_count": 40,
   "metadata": {
    "slideshow": {
     "slide_type": "fragment"
    }
   },
   "outputs": [
    {
     "name": "stdout",
     "output_type": "stream",
     "text": [
      "1  est l'élément numéro  0  de ma_liste\n",
      "3  est l'élément numéro  1  de ma_liste\n",
      "5  est l'élément numéro  2  de ma_liste\n",
      "Thibaut  est l'élément numéro  3  de ma_liste\n"
     ]
    }
   ],
   "source": [
    "# Exemple avec une simple boucle `for` et l'instruction `enumerate`\n",
    "ma_liste = [1, 3, 5, 'Thibaut']\n",
    "\n",
    "for indice, element in enumerate(ma_liste):\n",
    "    print(element, \" est l'élément numéro \", indice, \" de ma_liste\")\n",
    "    # Notez une subtilité ici. Je veux afficher une apostrophe \n",
    "    # (celle contenue dans le mot \"l'élément\").\n",
    "    # Pour cela je suis obligé d'utiliser les guillemets doubles\n",
    "    # pour définir la chaine de caractère."
   ]
  },
  {
   "cell_type": "markdown",
   "metadata": {
    "slideshow": {
     "slide_type": "slide"
    }
   },
   "source": [
    "#### Parcourir deux listes en même temps grâce à une boucle `for` avec l'instruction `zip`"
   ]
  },
  {
   "cell_type": "markdown",
   "metadata": {
    "slideshow": {
     "slide_type": "notes"
    }
   },
   "source": [
    "L'instruction `zip` fonctionne comme `enumerate` mais prend comme arguments deux listes."
   ]
  },
  {
   "cell_type": "code",
   "execution_count": 41,
   "metadata": {
    "slideshow": {
     "slide_type": "fragment"
    }
   },
   "outputs": [
    {
     "name": "stdout",
     "output_type": "stream",
     "text": [
      "Emma Martin\n",
      "Nathan Lefevre\n",
      "Lola Dubois\n",
      "Lucas Durand\n"
     ]
    }
   ],
   "source": [
    "# Exemple : lire en même temps une liste de noms et de prénoms\n",
    "liste_noms = ['Martin', 'Lefevre', 'Dubois', 'Durand']\n",
    "liste_prenoms = ['Emma', 'Nathan', 'Lola', 'Lucas']\n",
    "\n",
    "for nom, prenom in zip(liste_noms, liste_prenoms):\n",
    "    print(prenom, nom)"
   ]
  },
  {
   "cell_type": "markdown",
   "metadata": {
    "slideshow": {
     "slide_type": "fragment"
    }
   },
   "source": [
    "Ici tout se passe comme si on avait deux boucles `for` qui tournaient en parallèle.\n",
    "\n",
    "Pour les utilisateurs confirmés : pour avoir accès à l'indice dans une boucle avec `zip` il faut faire `enumerate`(`zip`(liste1, liste2)), exemple :"
   ]
  },
  {
   "cell_type": "code",
   "execution_count": 42,
   "metadata": {
    "slideshow": {
     "slide_type": "slide"
    }
   },
   "outputs": [
    {
     "name": "stdout",
     "output_type": "stream",
     "text": [
      "0 ('Martin', 'Emma')\n",
      "1 ('Lefevre', 'Nathan')\n",
      "2 ('Dubois', 'Lola')\n",
      "3 ('Durand', 'Lucas')\n"
     ]
    }
   ],
   "source": [
    "# Exemple : lire en même temps une liste de noms et de prénoms\n",
    "liste_noms = ['Martin', 'Lefevre', 'Dubois', 'Durand']\n",
    "liste_prenoms = ['Emma', 'Nathan', 'Lola', 'Lucas']\n",
    "\n",
    "for ind, etat_civil in enumerate(zip(liste_noms, liste_prenoms)):\n",
    "    print(ind, etat_civil)\n",
    "    #etat_civil est un tuple de strings"
   ]
  },
  {
   "cell_type": "markdown",
   "metadata": {
    "slideshow": {
     "slide_type": "slide"
    }
   },
   "source": [
    "## Un second type composé : le n-uplet ou tuple"
   ]
  },
  {
   "cell_type": "markdown",
   "metadata": {
    "slideshow": {
     "slide_type": "fragment"
    }
   },
   "source": [
    "Contrairement à la liste, le tuple se créée avec des parenthèses, chaque élément du tuple étant séparé par une virgule. On peut même omettre les parenthèses. Le tuple est <b>similaire à la liste</b> à ceci près qu'il n'est <b>pas modifiable une fois créé</b> (<i>immutable</i> en anglais). Cette structure de données est plus contrainte donc moins gourmande en ressources matérielles."
   ]
  },
  {
   "cell_type": "code",
   "execution_count": 43,
   "metadata": {
    "slideshow": {
     "slide_type": "fragment"
    }
   },
   "outputs": [
    {
     "data": {
      "text/plain": [
       "tuple"
      ]
     },
     "execution_count": 43,
     "metadata": {},
     "output_type": "execute_result"
    }
   ],
   "source": [
    "point = (1.2, 2.7, -4.9)\n",
    "type(point)"
   ]
  },
  {
   "cell_type": "markdown",
   "metadata": {
    "slideshow": {
     "slide_type": "subslide"
    }
   },
   "source": [
    "<b>ATTENTION : Extraire un élément d'un tuple se fait tout de même grâce à des crochets</b>. En Python l'indexation de n'importe quelle structure de données se fait avec des crochets"
   ]
  },
  {
   "cell_type": "code",
   "execution_count": 44,
   "metadata": {
    "slideshow": {
     "slide_type": "fragment"
    }
   },
   "outputs": [
    {
     "data": {
      "text/plain": [
       "1.2"
      ]
     },
     "execution_count": 44,
     "metadata": {},
     "output_type": "execute_result"
    }
   ],
   "source": [
    "point[0]\n",
    "# et non point(0)"
   ]
  },
  {
   "cell_type": "code",
   "execution_count": 45,
   "metadata": {
    "collapsed": true,
    "slideshow": {
     "slide_type": "fragment"
    }
   },
   "outputs": [],
   "source": [
    "# Essayons de modifier un élément\n",
    "#point[1] = 2"
   ]
  },
  {
   "cell_type": "code",
   "execution_count": 46,
   "metadata": {
    "collapsed": true,
    "slideshow": {
     "slide_type": "subslide"
    }
   },
   "outputs": [],
   "source": [
    "# De même on ne peut ajouter ou supprimer d'éléments.\n",
    "#del point[0]"
   ]
  },
  {
   "cell_type": "markdown",
   "metadata": {
    "slideshow": {
     "slide_type": "fragment"
    }
   },
   "source": [
    "Le tuple possède donc très peu de méthode et d'attributs. (Seulement `index` pour trouver l'indice d'un élément, et `count`pour déterminer le nombre d'occurrences d'un élément.)"
   ]
  },
  {
   "cell_type": "markdown",
   "metadata": {
    "slideshow": {
     "slide_type": "slide"
    }
   },
   "source": [
    "#### Déballer un liste ou un tuple (<i>unpack</i> en anglais)"
   ]
  },
  {
   "cell_type": "code",
   "execution_count": 47,
   "metadata": {
    "slideshow": {
     "slide_type": "fragment"
    }
   },
   "outputs": [
    {
     "name": "stdout",
     "output_type": "stream",
     "text": [
      "1.2 2.7 -4.9\n"
     ]
    }
   ],
   "source": [
    "# On peut utiliser la syntaxe suivante pour copier les éléments\n",
    "# d'un tuple ou d'une liste dans des variables\n",
    "x, y, z = point\n",
    "print(x, y, z)"
   ]
  },
  {
   "cell_type": "markdown",
   "metadata": {
    "slideshow": {
     "slide_type": "slide"
    }
   },
   "source": [
    "#### Utilisation des tuples"
   ]
  },
  {
   "cell_type": "markdown",
   "metadata": {
    "slideshow": {
     "slide_type": "notes"
    }
   },
   "source": [
    "Les tuples s'utilisent souvent lorsque l'on veut regrouper quelques valeurs. Par exemple lorsqu'une fonction retourne un résultat. Exemple :"
   ]
  },
  {
   "cell_type": "code",
   "execution_count": 48,
   "metadata": {
    "collapsed": true,
    "slideshow": {
     "slide_type": "fragment"
    }
   },
   "outputs": [],
   "source": [
    "# Exemple d'utilisation du tuple pour stocker le résultat d'une fonction\n",
    "def fonction(x):\n",
    "    return x, x**2, x**3\n",
    "\n",
    "# Stockage du résultat dans le tuple res\n",
    "res = fonction (4.2)\n",
    "\n",
    "# Stockage du résultat directement dans des variables\n",
    "a, b, c = fonction(4.2)"
   ]
  },
  {
   "cell_type": "code",
   "execution_count": 49,
   "metadata": {
    "slideshow": {
     "slide_type": "fragment"
    }
   },
   "outputs": [
    {
     "data": {
      "text/plain": [
       "tuple"
      ]
     },
     "execution_count": 49,
     "metadata": {},
     "output_type": "execute_result"
    }
   ],
   "source": [
    "type(res)"
   ]
  },
  {
   "cell_type": "code",
   "execution_count": 50,
   "metadata": {
    "slideshow": {
     "slide_type": "slide"
    }
   },
   "outputs": [
    {
     "data": {
      "text/plain": [
       "float"
      ]
     },
     "execution_count": 50,
     "metadata": {},
     "output_type": "execute_result"
    }
   ],
   "source": [
    "type(a)"
   ]
  },
  {
   "cell_type": "code",
   "execution_count": 51,
   "metadata": {
    "slideshow": {
     "slide_type": "fragment"
    }
   },
   "outputs": [
    {
     "data": {
      "text/plain": [
       "17.64"
      ]
     },
     "execution_count": 51,
     "metadata": {},
     "output_type": "execute_result"
    }
   ],
   "source": [
    "res[1]"
   ]
  },
  {
   "cell_type": "markdown",
   "metadata": {
    "slideshow": {
     "slide_type": "slide"
    }
   },
   "source": [
    "## Un autre type composé : le dictionnaire"
   ]
  },
  {
   "cell_type": "markdown",
   "metadata": {
    "slideshow": {
     "slide_type": "notes"
    }
   },
   "source": [
    "Un dictionnaire ressemble aussi un peu à une liste mais chaque élément est en fait une paire d'éléments comprenant une clef à laquelle est associée une donnée. Nous allons voir que ce type de structure de données peut être très utile, la connaissance de la clef permettant d'accéder à la donnée associée. Par exemple, si l'on crée un annuaire téléphonique, on souhaite associer au nom de famille un numéro de téléphone. Dans ce cas la clef (key en abglais) sera le nom de famille et la donnée associée (value en anglais) sera le numéo de téléphone. La clef est toujours une chaine de caractères."
   ]
  },
  {
   "cell_type": "markdown",
   "metadata": {
    "slideshow": {
     "slide_type": "fragment"
    }
   },
   "source": [
    "Pour créer un dictionnaire on utilise les accolades { et }. Les paires d'éléments sont séparées par des virgules, et les deux éléments de la paire par le symbole \":\". Un dictionnaire a donc la forme { clef1 : valeur1, clef2 : valeur2, ... }."
   ]
  },
  {
   "cell_type": "code",
   "execution_count": 52,
   "metadata": {
    "slideshow": {
     "slide_type": "slide"
    }
   },
   "outputs": [
    {
     "data": {
      "text/plain": [
       "dict"
      ]
     },
     "execution_count": 52,
     "metadata": {},
     "output_type": "execute_result"
    }
   ],
   "source": [
    "# Exemple de dictionnaire : l'annnuaire téléphonique. Le type est `dict`.\n",
    "annuaire = {'Jacqmin' : '0683121942', 'Clade' : '0654218976'}\n",
    "type(annuaire)"
   ]
  },
  {
   "cell_type": "code",
   "execution_count": 53,
   "metadata": {
    "slideshow": {
     "slide_type": "fragment"
    }
   },
   "outputs": [
    {
     "data": {
      "text/plain": [
       "'0683121942'"
      ]
     },
     "execution_count": 53,
     "metadata": {},
     "output_type": "execute_result"
    }
   ],
   "source": [
    "# Pour accéder au numéro de téléphone de Monsieur Jacqmin, on utilise :\n",
    "annuaire['Jacqmin']"
   ]
  },
  {
   "cell_type": "markdown",
   "metadata": {
    "slideshow": {
     "slide_type": "notes"
    }
   },
   "source": [
    "Notez que l'indice d'une structure de données, qu'il s'agisse d'une chaine de caractères, d'une liste, d'un tuple ou d'un dictionnaire, est toujours indiqué entre crochets [ et ]."
   ]
  },
  {
   "cell_type": "markdown",
   "metadata": {
    "slideshow": {
     "slide_type": "slide"
    }
   },
   "source": [
    "#### Attributs et méthodes des dictionnaires"
   ]
  },
  {
   "cell_type": "markdown",
   "metadata": {
    "slideshow": {
     "slide_type": "notes"
    }
   },
   "source": [
    "Comme pour toutes les autres structures de données, le dictionnaire possèdes des attributs et des méthodes. Voici quelques exemples non exhaustifs."
   ]
  },
  {
   "cell_type": "code",
   "execution_count": 54,
   "metadata": {
    "slideshow": {
     "slide_type": "skip"
    }
   },
   "outputs": [
    {
     "data": {
      "text/plain": [
       "['0683121942', '0654218976']"
      ]
     },
     "execution_count": 54,
     "metadata": {},
     "output_type": "execute_result"
    }
   ],
   "source": [
    "# Retourner toutes les valeurs d'un dictionnaire\n",
    "list(annuaire.values())"
   ]
  },
  {
   "cell_type": "code",
   "execution_count": 55,
   "metadata": {
    "slideshow": {
     "slide_type": "fragment"
    }
   },
   "outputs": [
    {
     "data": {
      "text/plain": [
       "['Jacqmin', 'Clade']"
      ]
     },
     "execution_count": 55,
     "metadata": {},
     "output_type": "execute_result"
    }
   ],
   "source": [
    "# Retourner toutes les clefs d'un dictionnaire\n",
    "list(annuaire.keys())"
   ]
  },
  {
   "cell_type": "code",
   "execution_count": 56,
   "metadata": {
    "slideshow": {
     "slide_type": "slide"
    }
   },
   "outputs": [
    {
     "name": "stdout",
     "output_type": "stream",
     "text": [
      "[('Jacqmin', '0683121942'), ('Clade', '0654218976')]\n"
     ]
    }
   ],
   "source": [
    "# Transformer le dictionnaire en une liste de tuples\n",
    "# à deux éléments avec `items()`\n",
    "a = list(annuaire.items())\n",
    "print(a)"
   ]
  },
  {
   "cell_type": "code",
   "execution_count": 57,
   "metadata": {
    "slideshow": {
     "slide_type": "fragment"
    }
   },
   "outputs": [
    {
     "data": {
      "text/plain": [
       "list"
      ]
     },
     "execution_count": 57,
     "metadata": {},
     "output_type": "execute_result"
    }
   ],
   "source": [
    "type(a)"
   ]
  },
  {
   "cell_type": "code",
   "execution_count": 58,
   "metadata": {
    "slideshow": {
     "slide_type": "fragment"
    }
   },
   "outputs": [
    {
     "data": {
      "text/plain": [
       "tuple"
      ]
     },
     "execution_count": 58,
     "metadata": {},
     "output_type": "execute_result"
    }
   ],
   "source": [
    "b = a[1]\n",
    "type(b)"
   ]
  },
  {
   "cell_type": "markdown",
   "metadata": {
    "slideshow": {
     "slide_type": "notes"
    }
   },
   "source": [
    "Il y a d'autres méthodes, n'hésitez pas à regarder."
   ]
  },
  {
   "cell_type": "markdown",
   "metadata": {
    "slideshow": {
     "slide_type": "slide"
    }
   },
   "source": [
    "#### Ajouts et suppression d'éléments"
   ]
  },
  {
   "cell_type": "markdown",
   "metadata": {
    "slideshow": {
     "slide_type": "fragment"
    }
   },
   "source": [
    "Ils se font comme pour une liste. Au lieu d'indicer par un indice entier, on indice par une nouvelle clef."
   ]
  },
  {
   "cell_type": "code",
   "execution_count": 59,
   "metadata": {
    "slideshow": {
     "slide_type": "fragment"
    }
   },
   "outputs": [
    {
     "name": "stdout",
     "output_type": "stream",
     "text": [
      "{'Jacqmin': '0683121942', 'Clade': '0654218976', 'Douillet': '0682456598'}\n"
     ]
    }
   ],
   "source": [
    "# Ajout d'un élément à un dictionnaire\n",
    "annuaire['Douillet'] = '0682456598'\n",
    "print(annuaire)"
   ]
  },
  {
   "cell_type": "markdown",
   "metadata": {
    "slideshow": {
     "slide_type": "notes"
    }
   },
   "source": [
    "Notez que les paires sont classées par ordre alphabétique des clefs."
   ]
  },
  {
   "cell_type": "code",
   "execution_count": 60,
   "metadata": {
    "slideshow": {
     "slide_type": "slide"
    }
   },
   "outputs": [
    {
     "name": "stdout",
     "output_type": "stream",
     "text": [
      "{'Clade': '0654218976', 'Douillet': '0682456598'}\n"
     ]
    }
   ],
   "source": [
    "# Suppresion d'un élément d'un dictionnaire avec l'instruction `del`\n",
    "del(annuaire['Jacqmin'])\n",
    "print(annuaire)"
   ]
  },
  {
   "cell_type": "markdown",
   "metadata": {
    "slideshow": {
     "slide_type": "slide"
    }
   },
   "source": [
    "#### Parcourir un dictionnaire"
   ]
  },
  {
   "cell_type": "code",
   "execution_count": 61,
   "metadata": {
    "slideshow": {
     "slide_type": "fragment"
    }
   },
   "outputs": [
    {
     "name": "stdout",
     "output_type": "stream",
     "text": [
      "Le numéro de téléphone de Clade est 0654218976\n",
      "Le numéro de téléphone de Douillet est 0682456598\n"
     ]
    }
   ],
   "source": [
    "# Parcours d'un dictionnaire par clefs\n",
    "for nom in annuaire.keys():\n",
    "    print('Le numéro de téléphone de {0} est {1}'.format(nom, annuaire[nom]))"
   ]
  },
  {
   "cell_type": "code",
   "execution_count": 62,
   "metadata": {
    "slideshow": {
     "slide_type": "slide"
    }
   },
   "outputs": [
    {
     "name": "stdout",
     "output_type": "stream",
     "text": [
      "0654218976\n",
      "0682456598\n"
     ]
    }
   ],
   "source": [
    "# Parcours d'un dictionnaire par valeurs\n",
    "for num_tel in annuaire.values():\n",
    "    print(num_tel)"
   ]
  },
  {
   "cell_type": "code",
   "execution_count": 63,
   "metadata": {
    "slideshow": {
     "slide_type": "fragment"
    }
   },
   "outputs": [
    {
     "name": "stdout",
     "output_type": "stream",
     "text": [
      "Le numéro de téléphone de Clade est 0654218976\n",
      "Le numéro de téléphone de Douillet est 0682456598\n"
     ]
    }
   ],
   "source": [
    "# Parcours d'un dictionnaire par clefs et valeurs\n",
    "# On transforme le dictionnaire en liste grâce à la méthode `items()`\n",
    "for clef, valeur in annuaire.items():  \n",
    "    print('Le numéro de téléphone de {0} est {1}'.format(clef, valeur))"
   ]
  },
  {
   "cell_type": "markdown",
   "metadata": {
    "slideshow": {
     "slide_type": "slide"
    }
   },
   "source": [
    "#### Dictionnaires imbriqués, multiples crochets d'indexation"
   ]
  },
  {
   "cell_type": "code",
   "execution_count": 64,
   "metadata": {
    "slideshow": {
     "slide_type": "slide"
    }
   },
   "outputs": [
    {
     "data": {
      "text/plain": [
       "['nom 1', 'nom 2']"
      ]
     },
     "execution_count": 64,
     "metadata": {},
     "output_type": "execute_result"
    }
   ],
   "source": [
    "# Exemple de dictionnaires imbriqués\n",
    "dictionnaire = {\"Master 2\" : {\"Filles\" : [\"nom 1\",\"nom 2\"], \"Garçons\": [\"nom 3\", \"nom 4\"]}}\n",
    "# Extraire les Master 2 Garçons :\n",
    "dictionnaire[\"Master 2\"][\"Filles\"]"
   ]
  },
  {
   "cell_type": "markdown",
   "metadata": {
    "slideshow": {
     "slide_type": "slide"
    }
   },
   "source": [
    "## Un dernier type composé : l'ensemble (set)"
   ]
  },
  {
   "cell_type": "markdown",
   "metadata": {
    "slideshow": {
     "slide_type": "fragment"
    }
   },
   "source": [
    "Un `set` est un ensemble non ordonné d'éléments tous différents. Pour créer un `set` on utilise l'instruction `set()` qui prend une liste comme argument. Cette instruction supprime automatiquement les doublons. On ne peut pas indicer une ensemble."
   ]
  },
  {
   "cell_type": "code",
   "execution_count": 65,
   "metadata": {
    "slideshow": {
     "slide_type": "fragment"
    }
   },
   "outputs": [
    {
     "data": {
      "text/plain": [
       "set"
      ]
     },
     "execution_count": 65,
     "metadata": {},
     "output_type": "execute_result"
    }
   ],
   "source": [
    "# Exemple de set\n",
    "set_a = set([1, 2, 3])\n",
    "type(set_a)"
   ]
  },
  {
   "cell_type": "code",
   "execution_count": 66,
   "metadata": {
    "slideshow": {
     "slide_type": "slide"
    }
   },
   "outputs": [
    {
     "name": "stdout",
     "output_type": "stream",
     "text": [
      "{'a', 1, 5, 9}\n"
     ]
    }
   ],
   "source": [
    "# Un set ne tolère pas les doublons\n",
    "set_b = set([1, 'a', 'a', 9,  5, 9, 1])\n",
    "print(set_b)"
   ]
  },
  {
   "cell_type": "code",
   "execution_count": 67,
   "metadata": {
    "collapsed": true,
    "slideshow": {
     "slide_type": "fragment"
    }
   },
   "outputs": [],
   "source": [
    "# Comme le `set` n'est pas ordonné on ne peut l'indicer. \n",
    "#set_b[0]"
   ]
  },
  {
   "cell_type": "markdown",
   "metadata": {
    "slideshow": {
     "slide_type": "slide"
    }
   },
   "source": [
    "#### Union et intersection"
   ]
  },
  {
   "cell_type": "markdown",
   "metadata": {
    "slideshow": {
     "slide_type": "fragment"
    }
   },
   "source": [
    "On peut faire l'union ou l'intersection de deux sets grâce aux symboles `&` et `|`."
   ]
  },
  {
   "cell_type": "code",
   "execution_count": 68,
   "metadata": {
    "slideshow": {
     "slide_type": "slide"
    }
   },
   "outputs": [
    {
     "name": "stdout",
     "output_type": "stream",
     "text": [
      "{1}\n"
     ]
    }
   ],
   "source": [
    "# Intersection\n",
    "set_b = set([1, 'a', 9,  5])\n",
    "set_c = set_a & set_b\n",
    "print(set_c)"
   ]
  },
  {
   "cell_type": "code",
   "execution_count": 69,
   "metadata": {
    "slideshow": {
     "slide_type": "fragment"
    }
   },
   "outputs": [
    {
     "name": "stdout",
     "output_type": "stream",
     "text": [
      "{'a', 1, 2, 3, 5, 9}\n"
     ]
    }
   ],
   "source": [
    "# Union\n",
    "set_d = set_a | set_b\n",
    "print(set_d)"
   ]
  },
  {
   "cell_type": "markdown",
   "metadata": {
    "slideshow": {
     "slide_type": "slide"
    }
   },
   "source": [
    "#### Exemple d'application\n",
    "L'ordinateur demande un mot de passe. L'utilisateur doit retourner un mot de passe qui contient obligatoirement un signe de ponctuation."
   ]
  },
  {
   "cell_type": "code",
   "execution_count": null,
   "metadata": {
    "collapsed": true,
    "slideshow": {
     "slide_type": "slide"
    }
   },
   "outputs": [],
   "source": [
    "# Création du set qui contient les signes de ponctuation\n",
    "ponctuation = set(\"?,.;:!\")\n",
    "mdp = input('Entrer un mot de passe contenant au moins un signe de ponctuation ')  \n",
    "\n",
    "# La fonction input(str) affiche la chaine de caractères \n",
    "# str à l'écran suivi d'une boite de dialogue qui\n",
    "# permet d'entrer une valeur au clavier. \n",
    "# Cette valeur est retournée par la fonction  \n",
    "if (ponctuation & set(mdp) == set()):\n",
    "    # set(mdp) créée un set contenant les caractères de mdp\n",
    "    # Ici on teste si l'instersection de ponctuation et\n",
    "    # set(mdp) est un set vide\n",
    "    print('Le mot de passe ne contient pas de signe de ponctuation')\n",
    "else:\n",
    "    print('Ok')"
   ]
  },
  {
   "cell_type": "markdown",
   "metadata": {
    "slideshow": {
     "slide_type": "slide"
    }
   },
   "source": [
    "## Retour sur les indices"
   ]
  },
  {
   "cell_type": "markdown",
   "metadata": {
    "slideshow": {
     "slide_type": "fragment"
    }
   },
   "source": [
    "Les types `list`, `str`, `tuple` sont indexables par un entier (le type `dict` est indexable par des clefs) : on peut accéder à un élément donné de l’ensemble à l’aide de crochets. <b>La règle en Python est que le premier\n",
    "élément est indexé par 0.</b> "
   ]
  },
  {
   "cell_type": "markdown",
   "metadata": {
    "slideshow": {
     "slide_type": "slide"
    }
   },
   "source": [
    "#### Indices négatifs"
   ]
  },
  {
   "cell_type": "markdown",
   "metadata": {
    "slideshow": {
     "slide_type": "fragment"
    }
   },
   "source": [
    "Les indices négatifs sont définis modulo la longueur de l’objet. Ainsi le dernier élément est noté -1, l’avant dernier, -2, ..."
   ]
  },
  {
   "cell_type": "code",
   "execution_count": null,
   "metadata": {
    "collapsed": true,
    "slideshow": {
     "slide_type": "fragment"
    }
   },
   "outputs": [],
   "source": [
    "# Exemple d'utilisation d'indices négatifs sur une liste \n",
    "# (fonctionne aussi avec une chaine de caratères ou un tuple)\n",
    "a = range(10)\n",
    "a[0]"
   ]
  },
  {
   "cell_type": "code",
   "execution_count": null,
   "metadata": {
    "collapsed": true,
    "slideshow": {
     "slide_type": "slide"
    }
   },
   "outputs": [],
   "source": [
    "a[-1]"
   ]
  },
  {
   "cell_type": "code",
   "execution_count": null,
   "metadata": {
    "collapsed": true,
    "slideshow": {
     "slide_type": "fragment"
    }
   },
   "outputs": [],
   "source": [
    "a[-2]"
   ]
  },
  {
   "cell_type": "markdown",
   "metadata": {
    "slideshow": {
     "slide_type": "slide"
    }
   },
   "source": [
    "#### Tranches (slices)"
   ]
  },
  {
   "cell_type": "markdown",
   "metadata": {
    "slideshow": {
     "slide_type": "notes"
    }
   },
   "source": [
    "Comme nous l'avions vu dans le cas des chaines de caractères, il est possible de réaliser ce qu’on appelle des \"slice\" (tranches) en Python pour\n",
    "extraire une sous-suite d'une suite d’éléments. Par exemple :"
   ]
  },
  {
   "cell_type": "code",
   "execution_count": null,
   "metadata": {
    "collapsed": true,
    "slideshow": {
     "slide_type": "fragment"
    }
   },
   "outputs": [],
   "source": [
    "# Extraction d'une partie d'une chaine de caractères\n",
    "s = 'Hello World'\n",
    "s[:5]\n"
   ]
  },
  {
   "cell_type": "code",
   "execution_count": null,
   "metadata": {
    "collapsed": true,
    "slideshow": {
     "slide_type": "fragment"
    }
   },
   "outputs": [],
   "source": [
    "# Extraction des 5 derniers caractères\n",
    "s[6:]"
   ]
  },
  {
   "cell_type": "code",
   "execution_count": null,
   "metadata": {
    "collapsed": true,
    "slideshow": {
     "slide_type": "slide"
    }
   },
   "outputs": [],
   "source": [
    "# Extraction des caractères entre les indices 2 et 7 exclu\n",
    "s[2:7]"
   ]
  },
  {
   "cell_type": "code",
   "execution_count": null,
   "metadata": {
    "collapsed": true,
    "slideshow": {
     "slide_type": "fragment"
    }
   },
   "outputs": [],
   "source": [
    "# Extraction des caractères d'indices pairs entre \n",
    "# les indices 2 et 7 exclu\n",
    "s[2:7:2]"
   ]
  },
  {
   "cell_type": "markdown",
   "metadata": {
    "slideshow": {
     "slide_type": "notes"
    }
   },
   "source": [
    "Cette syntaxe [deb:fin] ou [deb:fin:pas]  va retourner les éléments indexés par deb jusqu’à fin\n",
    "<b>exclu</b>. La longueur de l’objet retourné est donc fin-deb. On peut aussi utiliser\n",
    "les nombres négatifs. Par exemple s[1:-1] renvoie un objet sans le premier et le\n",
    "dernier élément. L’exemple suivant s[1:] va jusqu’au dernier élément."
   ]
  },
  {
   "cell_type": "code",
   "execution_count": null,
   "metadata": {
    "collapsed": true,
    "slideshow": {
     "slide_type": "slide"
    }
   },
   "outputs": [],
   "source": [
    "# Exemple avec un second indice négatifs\n",
    "s[1:-1]"
   ]
  },
  {
   "cell_type": "markdown",
   "metadata": {
    "slideshow": {
     "slide_type": "slide"
    }
   },
   "source": [
    "## Retour sur les fonctions"
   ]
  },
  {
   "cell_type": "markdown",
   "metadata": {
    "slideshow": {
     "slide_type": "slide"
    }
   },
   "source": [
    "#### La documentation d'une fonction (docstring)"
   ]
  },
  {
   "cell_type": "markdown",
   "metadata": {
    "slideshow": {
     "slide_type": "notes"
    }
   },
   "source": [
    "Lorsque l'on écrit du code nous avons vu qu'il est très important de commenter ce code. Cela facilite le travail de la personne qui va devoir modifier ce code plus tard, d'autant plus quand cette persone peut être différente de celle qui a initialement écrit le code. Pour écrire des commentaire on utilise le symbole `#`.\n",
    "Lorsqu'on écrit des fonctions, il est très important d'écrire une documentation de cette fonction afin que celle-ci puisse être utilisée par quelqu'un d'autre qui n'aura pas forcément envie de regarder le code de la fonction. Pour écrire une documentation, on utilise le symbole `\"\"\"`. La documentation doit être indentée une fois, sous le symbole `def`. On affiche ensuite cette documentation grâce à l'instruction `help()`."
   ]
  },
  {
   "cell_type": "code",
   "execution_count": 19,
   "metadata": {
    "scrolled": false,
    "slideshow": {
     "slide_type": "fragment"
    }
   },
   "outputs": [
    {
     "name": "stdout",
     "output_type": "stream",
     "text": [
      "Help on function carre in module __main__:\n",
      "\n",
      "carre(x)\n",
      "    Cette fonction prend comme argument \n",
      "    un nombre et renvoie son carré\n",
      "\n"
     ]
    }
   ],
   "source": [
    "# Calcul du carré d'un nombre\n",
    "# La documentation peut parfois faire plusieurs pages \n",
    "# dans le cas de fonctions compliquées.\n",
    "def carre(x):\n",
    "    \"\"\" Cette fonction prend comme argument \n",
    "        un nombre et renvoie son carré \"\"\"\n",
    "    return x**2\n",
    "\n",
    "help(carre)"
   ]
  },
  {
   "cell_type": "markdown",
   "metadata": {
    "slideshow": {
     "slide_type": "slide"
    }
   },
   "source": [
    "#### Valeur par défaut d'un argument optionnel"
   ]
  },
  {
   "cell_type": "markdown",
   "metadata": {
    "slideshow": {
     "slide_type": "notes"
    }
   },
   "source": [
    "Dans certains cas il peut être utile de donner une valeur par défaut à un argument."
   ]
  },
  {
   "cell_type": "code",
   "execution_count": 21,
   "metadata": {
    "collapsed": true,
    "slideshow": {
     "slide_type": "fragment"
    }
   },
   "outputs": [],
   "source": [
    "# Fonction x^2+a avec valeur par défaut de a = 1\n",
    "def carre(x, a=1):\n",
    "    \"\"\" Cette fonction prend comme argument un nombre \n",
    "        x et un nombre a et renvoie x**2 + a \"\"\"\n",
    "    return x**2 + a "
   ]
  },
  {
   "cell_type": "markdown",
   "metadata": {
    "slideshow": {
     "slide_type": "slide"
    }
   },
   "source": [
    "On peut ensuite appeler la fonction soit avec un seul argument, auquel cas l'interpréteur choisira la valeur par défaut du second argument."
   ]
  },
  {
   "cell_type": "code",
   "execution_count": 22,
   "metadata": {
    "slideshow": {
     "slide_type": "fragment"
    }
   },
   "outputs": [
    {
     "data": {
      "text/plain": [
       "5"
      ]
     },
     "execution_count": 22,
     "metadata": {},
     "output_type": "execute_result"
    }
   ],
   "source": [
    "# Appel avec les arguments obligatoires uniquement\n",
    "carre(2)"
   ]
  },
  {
   "cell_type": "markdown",
   "metadata": {
    "slideshow": {
     "slide_type": "slide"
    }
   },
   "source": [
    "Ou alors on peut passer également les arguments optionnels."
   ]
  },
  {
   "cell_type": "code",
   "execution_count": 24,
   "metadata": {
    "slideshow": {
     "slide_type": "fragment"
    }
   },
   "outputs": [
    {
     "data": {
      "text/plain": [
       "11"
      ]
     },
     "execution_count": 24,
     "metadata": {},
     "output_type": "execute_result"
    }
   ],
   "source": [
    "# Appel avec tous les arguments\n",
    "carre(2,7)"
   ]
  },
  {
   "cell_type": "markdown",
   "metadata": {
    "slideshow": {
     "slide_type": "slide"
    }
   },
   "source": [
    "Enfin, on peut donner les arguments optionnel en les nommant."
   ]
  },
  {
   "cell_type": "code",
   "execution_count": 25,
   "metadata": {
    "slideshow": {
     "slide_type": "fragment"
    }
   },
   "outputs": [
    {
     "data": {
      "text/plain": [
       "13"
      ]
     },
     "execution_count": 25,
     "metadata": {},
     "output_type": "execute_result"
    }
   ],
   "source": [
    "# Appel en nommant l'argument optionnel\n",
    "carre(2, a=9)"
   ]
  },
  {
   "cell_type": "markdown",
   "metadata": {
    "slideshow": {
     "slide_type": "slide"
    }
   },
   "source": [
    "Ce qui est utile dans le cas où il y a plusieurs arguments optionnels."
   ]
  },
  {
   "cell_type": "code",
   "execution_count": 26,
   "metadata": {
    "collapsed": true,
    "slideshow": {
     "slide_type": "fragment"
    }
   },
   "outputs": [],
   "source": [
    "# Exemple avec deux arguments optionnels\n",
    "def carre_bis(x, a=1, b=2.):\n",
    "    \"\"\" Cette fonction prend comme argument un nombre x\n",
    "        et deux nombres a et b et retourne x**2/b + a \"\"\"\n",
    "    return x**2/b + a"
   ]
  },
  {
   "cell_type": "code",
   "execution_count": 27,
   "metadata": {
    "slideshow": {
     "slide_type": "fragment"
    }
   },
   "outputs": [
    {
     "data": {
      "text/plain": [
       "6.0"
      ]
     },
     "execution_count": 27,
     "metadata": {},
     "output_type": "execute_result"
    }
   ],
   "source": [
    "# En nommant les arguments on n'est plus obligés \n",
    "# de les mettre dans le bon ordre\n",
    "carre_bis(2., b=1., a=2.)"
   ]
  },
  {
   "cell_type": "markdown",
   "metadata": {
    "slideshow": {
     "slide_type": "slide"
    }
   },
   "source": [
    "#### Fonction anonymes : instruction `lambda`"
   ]
  },
  {
   "cell_type": "markdown",
   "metadata": {
    "slideshow": {
     "slide_type": "notes"
    }
   },
   "source": [
    "Il est parfois utile de créer une fonction qui n'a pas de nom, par exemple lorsque l'on souhaite passer une fonction en argument d'une autre fonction. C'est possible grâce à l'instruction `lambda`."
   ]
  },
  {
   "cell_type": "code",
   "execution_count": 28,
   "metadata": {
    "slideshow": {
     "slide_type": "fragment"
    }
   },
   "outputs": [
    {
     "data": {
      "text/plain": [
       "(4, 4)"
      ]
     },
     "execution_count": 28,
     "metadata": {},
     "output_type": "execute_result"
    }
   ],
   "source": [
    "# Ici on crée la fonction anonyme qui à x associe x^2\n",
    "ma_fonction_anonyme = lambda x: x**2\n",
    "    \n",
    "# On aurait pu de manière équivalente définir cette fonction comme \n",
    "def ma_fonction(x):\n",
    "    return x**2\n",
    "\n",
    "(ma_fonction_anonyme(2), ma_fonction(2))"
   ]
  },
  {
   "cell_type": "markdown",
   "metadata": {
    "slideshow": {
     "slide_type": "notes"
    }
   },
   "source": [
    "A ce stade, à part le fait que définir la fonction anonyme n'a pris qu'une seule ligne contre deux pour la fonction standard, on ne voit pas trop l'intérêt. Dans le paragraphe sur les listes nous avons vu comment appliquer une fonction à tous les éléments d'une liste en même temps grâce à l'instruction `map`. Cette instruction prenait comme argument la fonction et la liste. Dans certain cas on peut aller beaucoup plus vite en utilisant une fonction anonyme comme argument."
   ]
  },
  {
   "cell_type": "code",
   "execution_count": 29,
   "metadata": {
    "slideshow": {
     "slide_type": "slide"
    }
   },
   "outputs": [
    {
     "name": "stdout",
     "output_type": "stream",
     "text": [
      "[0, 1, 4, 9, 16]\n"
     ]
    }
   ],
   "source": [
    "# Intérêt : fonction anonyme comme argument\n",
    "# Calcul du carré de la liste range(5) grâce à une fonction anonyme\n",
    "a = map(lambda x:x**2, range(5))\n",
    "print(list(a))"
   ]
  },
  {
   "cell_type": "markdown",
   "metadata": {
    "slideshow": {
     "slide_type": "fragment"
    }
   },
   "source": [
    "Ici nous n'avons pas donné de nom à la fonction, et celle-ci ne peut être réutilisée ailleurs dans le code."
   ]
  },
  {
   "cell_type": "markdown",
   "metadata": {
    "slideshow": {
     "slide_type": "slide"
    }
   },
   "source": [
    "#### Quand écrire une fonction ?"
   ]
  },
  {
   "cell_type": "markdown",
   "metadata": {
    "slideshow": {
     "slide_type": "notes"
    }
   },
   "source": [
    "Il faut écrire une fonction à chaque fois que l’on repère une tâche bien déterminée et que\n",
    "l’on peut facilement isoler ou lorsque l’on répète plusieurs fois la même tâche.\n",
    "Il est fortement déconseillé en programmation de faire du copier-coller à l’intérieur\n",
    "d’un même programme. Il faut voir à ce moment là s’il n’est pas possible de créer\n",
    "une fonction.\n",
    "Même si la fonction est appelée une seule fois, créer une fonction peut rendre le code\n",
    "beaucoup plus lisible. Il sera aussi beaucoup plus facile à tester (puisque l’on pourra\n",
    "tester la fonction indépendamment).\n",
    "Écrire une fonction, c’est comme sous-traiter une problème à quelqu’un d’autre.\n",
    "Il faut lui spécifier ce qu’il doit faire, c’est la docstring de la fonction et aussi les\n",
    "données du problème (les arguments de la fonction). C’est seulement après ces deux\n",
    "étapes qu’il faut regarder comment faire (code Python)."
   ]
  },
  {
   "cell_type": "markdown",
   "metadata": {
    "slideshow": {
     "slide_type": "slide"
    }
   },
   "source": [
    "#### Ecrire un module"
   ]
  },
  {
   "cell_type": "markdown",
   "metadata": {
    "slideshow": {
     "slide_type": "fragment"
    }
   },
   "source": [
    "Rien de plus simple : enregistrer un fichier .py contenant des fonctions. Par exemple imaginons que j'ai créé un fichier mon_module.py contenant la fonction suivante :"
   ]
  },
  {
   "cell_type": "code",
   "execution_count": null,
   "metadata": {
    "collapsed": true,
    "slideshow": {
     "slide_type": "fragment"
    }
   },
   "outputs": [],
   "source": [
    "# A sauver dans le fichier mon_module.py\n",
    "def ma_fonction(x):\n",
    "    return x**2"
   ]
  },
  {
   "cell_type": "markdown",
   "metadata": {
    "slideshow": {
     "slide_type": "slide"
    }
   },
   "source": [
    "On peut ensuite importer cette fonction dans n'importe quel script situé dans le même répertoire."
   ]
  },
  {
   "cell_type": "code",
   "execution_count": null,
   "metadata": {
    "collapsed": true,
    "slideshow": {
     "slide_type": "fragment"
    }
   },
   "outputs": [],
   "source": [
    "#from mon_module import ma_fonction as f\n",
    "\n",
    "#print(f(2.7))"
   ]
  },
  {
   "cell_type": "markdown",
   "metadata": {
    "slideshow": {
     "slide_type": "slide"
    }
   },
   "source": [
    "## Objet mutable et immutable, passage par référence-valeur"
   ]
  },
  {
   "cell_type": "markdown",
   "metadata": {
    "slideshow": {
     "slide_type": "notes"
    }
   },
   "source": [
    "Le mécanisme des variables en Python peut se comprendre avec l’analogie suivante.\n",
    "Un objet (par exemple en entier, une liste, ...) correspond à une boite qui porte un\n",
    "numéro d’identification unique. Pour bien comprendre comment fonctionne Python, nous allons analyser ce qu'il se passe lors de la suite d'instructions suivante :"
   ]
  },
  {
   "cell_type": "code",
   "execution_count": null,
   "metadata": {
    "collapsed": true,
    "slideshow": {
     "slide_type": "slide"
    }
   },
   "outputs": [],
   "source": [
    "a = 3     # crée la boite n°1, y stocke 3, et lui associe le symbole `a`\n",
    "b = a + 4 # effectue le membre de droite : regarde ce qu'il y a dans la\n",
    "          # boite correspondant au symbole `a` à savoir 3, y ajoute 4, \n",
    "          # crée la boite n°2, y stocke 7, et lui associe le symbole `b`\n",
    "c = a     # associe le symbole `c`  à la boite n°1 \n",
    "          # (qui est donc associée à `a`et `c`)\n",
    "a = b     # associe le symbole `a` à la boite n°2 (et non plus à la n°1)\n",
    "c = 3.14  # crée une boite n°3 et y associe le symbole `c`\n",
    "          # remarque qu'aucun symbole n'est plus associé à la boite n°1 \n",
    "          # et détruit cette boite"
   ]
  },
  {
   "cell_type": "markdown",
   "metadata": {
    "slideshow": {
     "slide_type": "slide"
    }
   },
   "source": [
    "Il existe plusieurs type de boîte : les boîtes que l’on peut modifier (<b>mutable</b>) et\n",
    "celle que l’on ne peut pas modifier (<b>immutable</b>). La liste est un exemple d’objet\n",
    "mutable, le tuple est un exemple d'objet immutable. Non seulement on peut regarder ce qu’il y a dans la boîte, mais on peut\n",
    "aussi modifier le contenu ou rallonger la taille de la boîte. Prenons l’exemple suivant, ligne par\n",
    "ligne :"
   ]
  },
  {
   "cell_type": "code",
   "execution_count": 30,
   "metadata": {
    "slideshow": {
     "slide_type": "slide"
    }
   },
   "outputs": [
    {
     "name": "stdout",
     "output_type": "stream",
     "text": [
      "3\n",
      "4\n",
      "4\n"
     ]
    }
   ],
   "source": [
    "a = [2,3,7]    # crée la boite n°1, y stocke la liste 2,3,7 \n",
    "               # et lui associe le symbole `a`\n",
    "b = a          # associe le symbole `b` à la boite n°1\n",
    "print(b[1])     # lit le second élément de la boite associée à `b`, \n",
    "               # c'est-à-dire la boite n°1\n",
    "a[1] = 4       # modifie le contenu de la boite associée à `a`, la n°1, \n",
    "               # et remplace le second élément par 4\n",
    "print(b[1])     # lit le second élément de la boite associée à `b`,\n",
    "               # LA BOITE N°1\n",
    "a = [5,6,7,8]  # crée la boite n°2, y stocke la liste 5,6,7,8 \n",
    "               # et lui associe le symbole `a` \n",
    "print(b[1])     # lit le second élément de la boite associée à `b`, \n",
    "               # la boite n°1, cet élément n'a pas changé"
   ]
  },
  {
   "cell_type": "markdown",
   "metadata": {
    "slideshow": {
     "slide_type": "slide"
    }
   },
   "source": [
    "<b>Les opérations `a[1] = 4`, `b = a` et `a = [5,6,7,8]` sont donc fondamentalement très\n",
    "différentes. Dans un cas, on modifie l’objet, dans l’autre ajoute une référence à un objet, et dans le dernier cas on crée un nouvel objet que l'on référence par `a` (assignation).</b>"
   ]
  },
  {
   "cell_type": "markdown",
   "metadata": {
    "slideshow": {
     "slide_type": "notes"
    }
   },
   "source": [
    "Lorsqu’une variable est l’argument d’une fonction, le mécanisme est le même. A\n",
    "l’intérieur de la fonction, le symbole d’un argument désigne le même objet que celui\n",
    "passé comme argument."
   ]
  },
  {
   "cell_type": "code",
   "execution_count": 31,
   "metadata": {
    "slideshow": {
     "slide_type": "slide"
    }
   },
   "outputs": [
    {
     "name": "stdout",
     "output_type": "stream",
     "text": [
      "2\n",
      "4\n",
      "6\n",
      "[1, 4, 3, 4]\n"
     ]
    }
   ],
   "source": [
    "# Que se passe-t-il pour un argument \n",
    "# passé à une fonction ?\n",
    "def exemple(arg):\n",
    "    # Affiche le second élément de arg\n",
    "    print(arg[1])\n",
    "    # Modifie le second élément de arg \n",
    "    # (sans créer une nouvelle boite !)\n",
    "    arg[1] = 4\n",
    "    # Affiche à nouveau le second élément de arg\n",
    "    print(arg[1])\n",
    "    # Modifie arg\n",
    "    # (crée une nouvelle boite !)\n",
    "    arg = [5,6,7,8]\n",
    "    print(arg[1])\n",
    "\n",
    "a = [1,2,3,4]\n",
    "exemple(a)\n",
    "print(a)"
   ]
  },
  {
   "cell_type": "markdown",
   "metadata": {
    "slideshow": {
     "slide_type": "slide"
    }
   },
   "source": [
    "Une fonction en Python peut donc avoir des effets <b>à l'extérieur de cette fonction</b>. Si l'effet est voulu, il est important\n",
    "de le noter dans la documentation. Si l’on souhaite passer un objet à une\n",
    "fonction sans qu'il soit modifié, alors il est important d'en faire une `deep copy` au préalable en utilisant l'astuce suivante :"
   ]
  },
  {
   "cell_type": "code",
   "execution_count": 14,
   "metadata": {
    "slideshow": {
     "slide_type": "fragment"
    }
   },
   "outputs": [
    {
     "name": "stdout",
     "output_type": "stream",
     "text": [
      "[1, 3, 4, 5]\n"
     ]
    }
   ],
   "source": [
    "# Slicer une liste pour la copier (deep copy)\n",
    "a = [1, 3, 4, 5]\n",
    "b = a[:]\n",
    "a[0] = 1234\n",
    "print(b)"
   ]
  },
  {
   "cell_type": "markdown",
   "metadata": {
    "slideshow": {
     "slide_type": "notes"
    }
   },
   "source": [
    "Ici `b` n'est pas modifié, lorsque l'interpréteur exécute `b = a[:]` il créée une nouvelle case mémoire."
   ]
  },
  {
   "cell_type": "markdown",
   "metadata": {
    "slideshow": {
     "slide_type": "slide"
    }
   },
   "source": [
    "## Variable globale/locale"
   ]
  },
  {
   "cell_type": "markdown",
   "metadata": {
    "slideshow": {
     "slide_type": "notes"
    }
   },
   "source": [
    "Lorsque l’on assigne une variable à l'intérieur d’une fonction, celle-ci est locale, c'est à dire qu’elle sera détruite à la fin de l’exécution. C'est le cas de la variable `arg` créée à la dernière ligne de la fonction de l'exemple précédent. Parfois on souhaite  accèder à une variable qui n’est pas un argument de la fonction (et que l’on n'a pas créé dans cette fonction). Ce type de variable est appelé variable globale. En Python si une variable est créée à l'extérieur d'une fonction elle peut être lue et modifiée à l'intérieur des fonction, elle est donc globale."
   ]
  },
  {
   "cell_type": "code",
   "execution_count": 15,
   "metadata": {
    "slideshow": {
     "slide_type": "slide"
    }
   },
   "outputs": [
    {
     "name": "stdout",
     "output_type": "stream",
     "text": [
      "1\n"
     ]
    }
   ],
   "source": [
    "# Variable globale\n",
    "a = 1\n",
    "def exemple():\n",
    "    print(a)\n",
    "exemple()"
   ]
  },
  {
   "cell_type": "markdown",
   "metadata": {
    "slideshow": {
     "slide_type": "slide"
    }
   },
   "source": [
    "Il n’est alors pas possible d’assigner cette variable :"
   ]
  },
  {
   "cell_type": "code",
   "execution_count": 16,
   "metadata": {
    "slideshow": {
     "slide_type": "fragment"
    }
   },
   "outputs": [
    {
     "ename": "UnboundLocalError",
     "evalue": "local variable 'a' referenced before assignment",
     "output_type": "error",
     "traceback": [
      "\u001b[0;31m---------------------------------------------------------------------------\u001b[0m",
      "\u001b[0;31mUnboundLocalError\u001b[0m                         Traceback (most recent call last)",
      "\u001b[0;32m<ipython-input-16-f97da1498ee2>\u001b[0m in \u001b[0;36m<module>\u001b[0;34m()\u001b[0m\n\u001b[1;32m      6\u001b[0m     \u001b[0mprint\u001b[0m\u001b[1;33m(\u001b[0m\u001b[0ma\u001b[0m\u001b[1;33m)\u001b[0m\u001b[1;33m\u001b[0m\u001b[0m\n\u001b[1;32m      7\u001b[0m     \u001b[0ma\u001b[0m \u001b[1;33m=\u001b[0m \u001b[1;36m2\u001b[0m\u001b[1;33m\u001b[0m\u001b[0m\n\u001b[0;32m----> 8\u001b[0;31m \u001b[0mexemple\u001b[0m\u001b[1;33m(\u001b[0m\u001b[1;33m)\u001b[0m\u001b[1;33m\u001b[0m\u001b[0m\n\u001b[0m",
      "\u001b[0;32m<ipython-input-16-f97da1498ee2>\u001b[0m in \u001b[0;36mexemple\u001b[0;34m()\u001b[0m\n\u001b[1;32m      4\u001b[0m     \u001b[1;31m# La variable est rendue globale ici\u001b[0m\u001b[1;33m\u001b[0m\u001b[1;33m\u001b[0m\u001b[0m\n\u001b[1;32m      5\u001b[0m     \u001b[1;31m# (ou par toute autre instruction lisant `a`)\u001b[0m\u001b[1;33m\u001b[0m\u001b[1;33m\u001b[0m\u001b[0m\n\u001b[0;32m----> 6\u001b[0;31m     \u001b[0mprint\u001b[0m\u001b[1;33m(\u001b[0m\u001b[0ma\u001b[0m\u001b[1;33m)\u001b[0m\u001b[1;33m\u001b[0m\u001b[0m\n\u001b[0m\u001b[1;32m      7\u001b[0m     \u001b[0ma\u001b[0m \u001b[1;33m=\u001b[0m \u001b[1;36m2\u001b[0m\u001b[1;33m\u001b[0m\u001b[0m\n\u001b[1;32m      8\u001b[0m \u001b[0mexemple\u001b[0m\u001b[1;33m(\u001b[0m\u001b[1;33m)\u001b[0m\u001b[1;33m\u001b[0m\u001b[0m\n",
      "\u001b[0;31mUnboundLocalError\u001b[0m: local variable 'a' referenced before assignment"
     ]
    }
   ],
   "source": [
    "# Impossibilité d'assigner une variable globale dans une fonction\n",
    "a = 1\n",
    "def exemple():\n",
    "    # La variable est rendue globale ici\n",
    "    # (ou par toute autre instruction lisant `a`)\n",
    "    print(a)  \n",
    "    a = 2\n",
    "exemple()"
   ]
  },
  {
   "cell_type": "markdown",
   "metadata": {
    "slideshow": {
     "slide_type": "slide"
    }
   },
   "source": [
    "Mais on peut toujours modifier l’objet désigné par cette variable si\n",
    "celui-ci est modifiable."
   ]
  },
  {
   "cell_type": "code",
   "execution_count": 17,
   "metadata": {
    "slideshow": {
     "slide_type": "fragment"
    }
   },
   "outputs": [
    {
     "name": "stdout",
     "output_type": "stream",
     "text": [
      "[1, 4, 3]\n"
     ]
    }
   ],
   "source": [
    "# Modification d'une variable globale mutable dans une fonction\n",
    "a = [1, 2, 3]\n",
    "def exemple():\n",
    "    a[1] = 4\n",
    "exemple()\n",
    "print(a)"
   ]
  },
  {
   "cell_type": "markdown",
   "metadata": {
    "slideshow": {
     "slide_type": "slide"
    }
   },
   "source": [
    "Dans l'exemple qui suit la variable reste locale car elle n'est jamais utilisée avant d'être assignée dans la fonction."
   ]
  },
  {
   "cell_type": "code",
   "execution_count": 18,
   "metadata": {
    "slideshow": {
     "slide_type": "fragment"
    }
   },
   "outputs": [
    {
     "name": "stdout",
     "output_type": "stream",
     "text": [
      "5\n",
      "1\n"
     ]
    }
   ],
   "source": [
    "a = 1\n",
    "def exemple():\n",
    "    # On assigne la variable `a` avant de l'avoir \n",
    "    # rendue globale (par exemple en la lisant)\n",
    "    a = 5       \n",
    "    print(a)\n",
    "exemple()\n",
    "print(a)"
   ]
  },
  {
   "cell_type": "markdown",
   "metadata": {
    "slideshow": {
     "slide_type": "slide"
    }
   },
   "source": [
    "#### Instruction `global` en Python"
   ]
  },
  {
   "cell_type": "markdown",
   "metadata": {
    "slideshow": {
     "slide_type": "notes"
    }
   },
   "source": [
    "Cette instruction n’est quasiment jamais utilisée, sauf cas très rare. Il est en général\n",
    "beaucoup plus pratique d’utiliser un objet mutable à la place. Ainsi l'exemple suivant\n",
    "doit être oublié."
   ]
  },
  {
   "cell_type": "code",
   "execution_count": null,
   "metadata": {
    "collapsed": true,
    "slideshow": {
     "slide_type": "fragment"
    }
   },
   "outputs": [],
   "source": [
    "# Ici on veut pouvoir modifier la valeur d'une constante avec une fonction. \n",
    "# (ce qui n'est pas a priori possible puisqu'on ne peut assigner \n",
    "# une variable globale dans une fonction)\n",
    "pi = 3.141592\n",
    "def modifie_constante_pi(nouvelle_valeur_de_pi):\n",
    "    global pi\n",
    "    pi = nouvelle_valeur_de_pi\n",
    "modifie_constante_pi(3)\n",
    "print(pi)"
   ]
  },
  {
   "cell_type": "markdown",
   "metadata": {
    "slideshow": {
     "slide_type": "slide"
    }
   },
   "source": [
    "On préfèrera plutôt utiliser une liste ou un tuple :"
   ]
  },
  {
   "cell_type": "code",
   "execution_count": null,
   "metadata": {
    "collapsed": true,
    "slideshow": {
     "slide_type": "fragment"
    }
   },
   "outputs": [],
   "source": [
    "pi = [3.141592]\n",
    "def modifie_constante_pi(nouvelle_valeur_de_pi):\n",
    "    pi[0] = nouvelle_valeur_de_pi\n",
    "modifie_constante_pi(3)\n",
    "print(pi)"
   ]
  },
  {
   "cell_type": "markdown",
   "metadata": {
    "slideshow": {
     "slide_type": "slide"
    }
   },
   "source": [
    "## Les exceptions (`raise`, `try`, `except`)"
   ]
  },
  {
   "cell_type": "markdown",
   "metadata": {
    "slideshow": {
     "slide_type": "notes"
    }
   },
   "source": [
    "Il arrive souvent lors de l’exécution d’un programme qu’une erreur apparaisse (par\n",
    "exemple prendre la racine carré d’un nombre négatif). Dans ce cas, Python arrête\n",
    "l’exécution du programme et affiche l’erreur et sa localisation. Ce comportement peut être modifié : il\n",
    "est en effet possible d'empêcher une erreur d'apparaitre. Ceci se fait à l’aide la\n",
    "structure `try`, `except`"
   ]
  },
  {
   "cell_type": "markdown",
   "metadata": {
    "slideshow": {
     "slide_type": "fragment"
    }
   },
   "source": [
    "<b>`try:`</b>\n",
    "\n",
    "    Un certain code\n",
    "<b>`except:`</b>\n",
    "\n",
    "    Si le code situé après `try` mène à une erreur alors on exécute le code situé ici.\n",
    "    "
   ]
  },
  {
   "cell_type": "code",
   "execution_count": 32,
   "metadata": {
    "slideshow": {
     "slide_type": "slide"
    }
   },
   "outputs": [
    {
     "name": "stdout",
     "output_type": "stream",
     "text": [
      "On ne peut pas parendre la racine d'un nombre négatif\n"
     ]
    }
   ],
   "source": [
    "# Exemple de contournement d'erreur\n",
    "from math import sqrt\n",
    "a = -1\n",
    "try:\n",
    "    b = sqrt(a)\n",
    "except:\n",
    "    b = 0\n",
    "    print(\"On ne peut pas parendre la racine d'un nombre négatif\")"
   ]
  },
  {
   "cell_type": "markdown",
   "metadata": {
    "slideshow": {
     "slide_type": "notes"
    }
   },
   "source": [
    "Ici l'interpréteur voit qu'il y a une erreur, mais au lieu d'arrêter complètement l'éxécution du programme il éxécute les instructions situées après `except:` et continue l'éxécution du programme."
   ]
  },
  {
   "cell_type": "markdown",
   "metadata": {
    "slideshow": {
     "slide_type": "slide"
    }
   },
   "source": [
    "On peut également générer une erreur soi-même grâce à l'instruction `raise` suivi d'une des erreur génériques de Python (`Exception, ValueError, NameError, SyntaxError`, ...)."
   ]
  },
  {
   "cell_type": "code",
   "execution_count": 33,
   "metadata": {
    "slideshow": {
     "slide_type": "fragment"
    }
   },
   "outputs": [
    {
     "ename": "ValueError",
     "evalue": "On ne peut pas parendre la racine d'un nombre négatif",
     "output_type": "error",
     "traceback": [
      "\u001b[0;31m---------------------------------------------------------------------------\u001b[0m",
      "\u001b[0;31mValueError\u001b[0m                                Traceback (most recent call last)",
      "\u001b[0;32m<ipython-input-33-c6d9ea7ad65e>\u001b[0m in \u001b[0;36m<module>\u001b[0;34m()\u001b[0m\n\u001b[1;32m      1\u001b[0m \u001b[1;31m# Lancer une alerte d'erreur\u001b[0m\u001b[1;33m\u001b[0m\u001b[1;33m\u001b[0m\u001b[0m\n\u001b[0;32m----> 2\u001b[0;31m \u001b[1;32mraise\u001b[0m\u001b[1;33m(\u001b[0m\u001b[0mValueError\u001b[0m\u001b[1;33m(\u001b[0m\u001b[1;34m\"On ne peut pas parendre la racine d'un nombre négatif\"\u001b[0m\u001b[1;33m)\u001b[0m\u001b[1;33m)\u001b[0m\u001b[1;33m\u001b[0m\u001b[0m\n\u001b[0m",
      "\u001b[0;31mValueError\u001b[0m: On ne peut pas parendre la racine d'un nombre négatif"
     ]
    }
   ],
   "source": [
    "# Lancer une alerte d'erreur\n",
    "raise(ValueError(\"On ne peut pas parendre la racine d'un nombre négatif\"))"
   ]
  },
  {
   "cell_type": "markdown",
   "metadata": {
    "slideshow": {
     "slide_type": "notes"
    }
   },
   "source": [
    "Il existe beaucoup d'autres fonctionnalités des exceptions qui dépassent le cadre de ce cours."
   ]
  },
  {
   "cell_type": "markdown",
   "metadata": {
    "slideshow": {
     "slide_type": "slide"
    }
   },
   "source": [
    "## Ecriture dans un fichier, lecture d'un fichier"
   ]
  },
  {
   "cell_type": "markdown",
   "metadata": {
    "slideshow": {
     "slide_type": "notes"
    }
   },
   "source": [
    "Nous allons ici regarder comment lire un fichier texte. Pour\n",
    "utiliser un fichier, il faut tout d’abord l’<b>ouvrir</b>, ensuite lire ou écrire dessus et finalement le <b>fermer</b> (une erreur courante est d'oublier de fermer les fichiers).\n",
    "L’ouverture du fichier se fait à l’aide de la commande `open`. Cette commande renvoie\n",
    "un objet de type `file`. C’est à partir de cet objet que l’on va pouvoir faire les\n",
    "opérations de lecture/écriture. Au moment de l’ouverture du fichier, il faut spécifier\n",
    "si celui ci sera ouvert en lecture seule (par défaut) ou bien en écriture (argument\n",
    "supplémentaire <b>`w`</b> (pour write) en effaçant le contenu initial du fichier. Ou bien en écriture sans écraser le fichier mais en ajoutant à la suite avec l'érgument <b>`a`</b> (pour append). Ou bien en lecture et écriture avec <b>`r+`</b>."
   ]
  },
  {
   "cell_type": "code",
   "execution_count": 34,
   "metadata": {
    "slideshow": {
     "slide_type": "slide"
    }
   },
   "outputs": [
    {
     "data": {
      "text/plain": [
       "_io.TextIOWrapper"
      ]
     },
     "execution_count": 34,
     "metadata": {},
     "output_type": "execute_result"
    }
   ],
   "source": [
    "# Ouverture d'un fichier dans le répertoire C:/Users/THIBAUT/Desktop/\n",
    "f = open('C:/Users/THIBAUT/Desktop/test.txt', 'w')\n",
    "type(f)"
   ]
  },
  {
   "cell_type": "markdown",
   "metadata": {
    "slideshow": {
     "slide_type": "fragment"
    }
   },
   "source": [
    "<b>ATTENTION</b>, lors de l'écriture d'un chemin, les séparateur sont des slashs \"/\" et non des anti-slashs \"\\\"."
   ]
  },
  {
   "cell_type": "markdown",
   "metadata": {
    "slideshow": {
     "slide_type": "notes"
    }
   },
   "source": [
    "Remarque : ici j'ai choisi l'extension .txt, mais j'aurais pu mettre n'importe quoi voir pas d'extension du tout. En mettant .txt je m'assure de pouvoir ouvrir directement le fichier dans un éditeur texte comme le WordPad de Windows par exemple."
   ]
  },
  {
   "cell_type": "markdown",
   "metadata": {
    "slideshow": {
     "slide_type": "slide"
    }
   },
   "source": [
    "Cet objet `f` contient des méthodes dont `write` et `close` qui permettent d'écrire dans le fichier et de le fermer."
   ]
  },
  {
   "cell_type": "code",
   "execution_count": 35,
   "metadata": {
    "slideshow": {
     "slide_type": "fragment"
    }
   },
   "outputs": [
    {
     "data": {
      "text/plain": [
       "10"
      ]
     },
     "execution_count": 35,
     "metadata": {},
     "output_type": "execute_result"
    }
   ],
   "source": [
    "# Ecriture d'un chaine de caractères dans le fichier\n",
    "f.write('Bonjour')\n",
    "f.write('\\n')    # Saut de ligne\n",
    "f.write('Re-Bonjour')"
   ]
  },
  {
   "cell_type": "code",
   "execution_count": 36,
   "metadata": {
    "collapsed": true,
    "slideshow": {
     "slide_type": "slide"
    }
   },
   "outputs": [],
   "source": [
    "# Fermeture du fichier\n",
    "f.close()"
   ]
  },
  {
   "cell_type": "markdown",
   "metadata": {
    "slideshow": {
     "slide_type": "slide"
    }
   },
   "source": [
    "#### Pour lire le fichier :"
   ]
  },
  {
   "cell_type": "code",
   "execution_count": 37,
   "metadata": {
    "slideshow": {
     "slide_type": "fragment"
    }
   },
   "outputs": [
    {
     "name": "stdout",
     "output_type": "stream",
     "text": [
      "Bonjour\n",
      "Re-Bonjour\n"
     ]
    }
   ],
   "source": [
    "# Ouverture du fichier\n",
    "f = open('C:/Users/THIBAUT/Desktop/test.txt')\n",
    "# Lecture du fichier\n",
    "a = f.read()  # ici `a` est la chaine de caractère Bonjour\\nBonjour\n",
    "print(a)"
   ]
  },
  {
   "cell_type": "code",
   "execution_count": 38,
   "metadata": {
    "slideshow": {
     "slide_type": "fragment"
    }
   },
   "outputs": [
    {
     "data": {
      "text/plain": [
       "str"
      ]
     },
     "execution_count": 38,
     "metadata": {},
     "output_type": "execute_result"
    }
   ],
   "source": [
    "type(a)"
   ]
  },
  {
   "cell_type": "code",
   "execution_count": 39,
   "metadata": {
    "slideshow": {
     "slide_type": "slide"
    }
   },
   "outputs": [
    {
     "data": {
      "text/plain": [
       "'\\n'"
      ]
     },
     "execution_count": 39,
     "metadata": {},
     "output_type": "execute_result"
    }
   ],
   "source": [
    "f.close()\n",
    "a[7]"
   ]
  },
  {
   "cell_type": "markdown",
   "metadata": {
    "slideshow": {
     "slide_type": "notes"
    }
   },
   "source": [
    "Il est souvent utile de stocker les différentes lignes comme éléments d'une liste. C'est possible grâce à la méthode `readlines` (qui a son pendant `writelines`)."
   ]
  },
  {
   "cell_type": "code",
   "execution_count": 40,
   "metadata": {
    "slideshow": {
     "slide_type": "slide"
    }
   },
   "outputs": [
    {
     "name": "stdout",
     "output_type": "stream",
     "text": [
      "['Bonjour\\n', 'Re-Bonjour']\n"
     ]
    }
   ],
   "source": [
    "# Ouverture du fichier\n",
    "f = open('C:/Users/THIBAUT/Desktop/test.txt')\n",
    "# Lire les lignes\n",
    "a = f.readlines()\n",
    "print(a)"
   ]
  },
  {
   "cell_type": "code",
   "execution_count": null,
   "metadata": {
    "collapsed": true,
    "slideshow": {
     "slide_type": "fragment"
    }
   },
   "outputs": [],
   "source": [
    "type(a)"
   ]
  },
  {
   "cell_type": "markdown",
   "metadata": {
    "slideshow": {
     "slide_type": "fragment"
    }
   },
   "source": [
    "Il y a aussi `readline` pour ne lire qu'une seule ligne."
   ]
  },
  {
   "cell_type": "markdown",
   "metadata": {
    "slideshow": {
     "slide_type": "slide"
    }
   },
   "source": [
    "## Compléments sur les chaines de caractères"
   ]
  },
  {
   "cell_type": "markdown",
   "metadata": {
    "slideshow": {
     "slide_type": "slide"
    }
   },
   "source": [
    "#### Recherche d'une chaine dans une autre chaine (`if` str1 `in` str2:)"
   ]
  },
  {
   "cell_type": "code",
   "execution_count": 41,
   "metadata": {
    "slideshow": {
     "slide_type": "fragment"
    }
   },
   "outputs": [
    {
     "name": "stdout",
     "output_type": "stream",
     "text": [
      "John est bien dans la liste\n"
     ]
    }
   ],
   "source": [
    "# Recherche d'un chaine de caractères dans une autre chaine de caractères.\n",
    "liste_noms = ['John', 'Bob', 'Marcel', 'Henri']\n",
    "str1 = 'John'\n",
    "if str1 in liste_noms:\n",
    "    print(str1, 'est bien dans la liste')"
   ]
  },
  {
   "cell_type": "markdown",
   "metadata": {
    "slideshow": {
     "slide_type": "slide"
    }
   },
   "source": [
    "#### Séparer une chaîne de caractères en fonction d'un caractère donné (`split`)"
   ]
  },
  {
   "cell_type": "code",
   "execution_count": 42,
   "metadata": {
    "slideshow": {
     "slide_type": "fragment"
    }
   },
   "outputs": [
    {
     "name": "stdout",
     "output_type": "stream",
     "text": [
      "['bla', 'bla', 'bla', 'bla', 'bla', 'bla', 'bla', 'bla', 'bla', 'bla', '']\n"
     ]
    }
   ],
   "source": [
    "# On crée un fichier texte contenant bla;bla;bla;bla... 10 fois\n",
    "f = open('C:/Users/THIBAUT/Desktop/test.txt', 'w')\n",
    "for i in range(10):\n",
    "    f.write('bla;')\n",
    "f.close()\n",
    "# On l'ouvre et on lit chaque ligne que l'on sépare suivant le symbole \";\"\n",
    "f = open('C:/Users/THIBAUT/Desktop/test.txt')\n",
    "for line in f.readlines():\n",
    "    ligne = line.split(';')\n",
    "f.close()\n",
    "# Le résultat est une liste dont tous les éléments sont \"bla\"\n",
    "print(ligne)"
   ]
  }
 ],
 "metadata": {
  "celltoolbar": "Slideshow",
  "kernelspec": {
   "display_name": "Python 3",
   "language": "python",
   "name": "python3"
  },
  "language_info": {
   "codemirror_mode": {
    "name": "ipython",
    "version": 3
   },
   "file_extension": ".py",
   "mimetype": "text/x-python",
   "name": "python",
   "nbconvert_exporter": "python",
   "pygments_lexer": "ipython3",
   "version": "3.6.5"
  }
 },
 "nbformat": 4,
 "nbformat_minor": 2
}
