{
 "cells": [
  {
   "cell_type": "markdown",
   "metadata": {
    "collapsed": true,
    "slideshow": {
     "slide_type": "slide"
    }
   },
   "source": [
    "# Introduction à Numpy"
   ]
  },
  {
   "cell_type": "markdown",
   "metadata": {
    "slideshow": {
     "slide_type": "notes"
    }
   },
   "source": [
    "Python ne contient pas de structure permettant de traiter des données numériques efficacement. Pour un usage scientifique il est utile d'avoir une structure de type tableau dans lequel <b>l'ensemble des données sont du même type</b>, et dont <b>la taille n'est pas modifiable</b>. C'est le cas des tableaux créés via le module NUMPY. Pour importer ce module, on tape par exemple"
   ]
  },
  {
   "cell_type": "code",
   "execution_count": 1,
   "metadata": {
    "slideshow": {
     "slide_type": "fragment"
    }
   },
   "outputs": [],
   "source": [
    "# Importer tout numpy sous le nom (plus court) np \n",
    "import numpy as np\n",
    "# On peut aussi faire \"from numpy import *\" \n",
    "# qui fera l'économie du np."
   ]
  },
  {
   "cell_type": "markdown",
   "metadata": {
    "slideshow": {
     "slide_type": "slide"
    }
   },
   "source": [
    "Numpy inclut les fonctions d'autres modules comme par exemple le <b>module math</b>."
   ]
  },
  {
   "cell_type": "code",
   "execution_count": 2,
   "metadata": {
    "slideshow": {
     "slide_type": "fragment"
    }
   },
   "outputs": [
    {
     "data": {
      "text/plain": [
       "-0.4999999999999998"
      ]
     },
     "execution_count": 2,
     "metadata": {},
     "output_type": "execute_result"
    }
   ],
   "source": [
    "# calcul d'un cosinus\n",
    "np.cos(2*np.pi/3)"
   ]
  },
  {
   "cell_type": "markdown",
   "metadata": {
    "slideshow": {
     "slide_type": "slide"
    }
   },
   "source": [
    "## Les tableaux multidimensionnels numpy"
   ]
  },
  {
   "cell_type": "markdown",
   "metadata": {
    "slideshow": {
     "slide_type": "notes"
    }
   },
   "source": [
    "On crée un tableau grâce à l'instruction `array`  qui prend comme argument une liste Python pour un vecteur 1D ou bien des listes imbriquées pour une matrice de dimensions quelconques."
   ]
  },
  {
   "cell_type": "code",
   "execution_count": 4,
   "metadata": {
    "slideshow": {
     "slide_type": "fragment"
    }
   },
   "outputs": [
    {
     "name": "stdout",
     "output_type": "stream",
     "text": [
      "<class 'numpy.ndarray'>\n",
      "[[ 1.5    3.14   5.27 ]\n",
      " [ 2.17   0.69   1.414]]\n"
     ]
    }
   ],
   "source": [
    "# Les lignes sont données entre crochets, \n",
    "# séparées par des virgules comme suit :\n",
    "a = np.array([ [1.5,3.14,5.27], [2.17,0.69,1.414] ])\n",
    "print(type(a))\n",
    "print(a)"
   ]
  },
  {
   "cell_type": "code",
   "execution_count": null,
   "metadata": {
    "collapsed": true,
    "slideshow": {
     "slide_type": "fragment"
    }
   },
   "outputs": [],
   "source": [
    "print(a)"
   ]
  },
  {
   "cell_type": "markdown",
   "metadata": {
    "slideshow": {
     "slide_type": "slide"
    }
   },
   "source": [
    "### Attributs"
   ]
  },
  {
   "cell_type": "code",
   "execution_count": 5,
   "metadata": {
    "slideshow": {
     "slide_type": "fragment"
    }
   },
   "outputs": [
    {
     "data": {
      "text/plain": [
       "(2, 3)"
      ]
     },
     "execution_count": 5,
     "metadata": {},
     "output_type": "execute_result"
    }
   ],
   "source": [
    "# Les dimensions du tableaux\n",
    "a.shape"
   ]
  },
  {
   "cell_type": "code",
   "execution_count": 6,
   "metadata": {
    "slideshow": {
     "slide_type": "fragment"
    }
   },
   "outputs": [
    {
     "name": "stdout",
     "output_type": "stream",
     "text": [
      "float64\n"
     ]
    }
   ],
   "source": [
    "# Le type des données\n",
    "print(a.dtype)"
   ]
  },
  {
   "cell_type": "markdown",
   "metadata": {
    "slideshow": {
     "slide_type": "slide"
    }
   },
   "source": [
    "<b>Note :</b> lors de la création du tableau on aurait pu choisir le type de donnée avec l'argument optionnel <b>dtype = int, float, complex, bool</b>.\n",
    "\n",
    "On peut même définir exactement le nombre de bits sur lequel coder ces données avec\n",
    "<b>dtype = int64, int16, float128, complex128</b>"
   ]
  },
  {
   "cell_type": "code",
   "execution_count": 7,
   "metadata": {
    "slideshow": {
     "slide_type": "fragment"
    }
   },
   "outputs": [
    {
     "data": {
      "text/plain": [
       "2"
      ]
     },
     "execution_count": 7,
     "metadata": {},
     "output_type": "execute_result"
    }
   ],
   "source": [
    "#Le nombre de dimensions\n",
    "a.ndim"
   ]
  },
  {
   "cell_type": "code",
   "execution_count": 8,
   "metadata": {
    "slideshow": {
     "slide_type": "fragment"
    }
   },
   "outputs": [
    {
     "data": {
      "text/plain": [
       "6"
      ]
     },
     "execution_count": 8,
     "metadata": {},
     "output_type": "execute_result"
    }
   ],
   "source": [
    "# Le nombre d'éléments\n",
    "a.size"
   ]
  },
  {
   "cell_type": "markdown",
   "metadata": {
    "slideshow": {
     "slide_type": "fragment"
    }
   },
   "source": [
    "Et d'autres..."
   ]
  },
  {
   "cell_type": "markdown",
   "metadata": {
    "slideshow": {
     "slide_type": "slide"
    }
   },
   "source": [
    "### Générer un tableau grâce aux fonctions de `numpy`"
   ]
  },
  {
   "cell_type": "markdown",
   "metadata": {
    "slideshow": {
     "slide_type": "fragment"
    }
   },
   "source": [
    "Nous avons vu comment créer un tableau à partir d'une liste. Il existe des fonctions qui permettent de créer certains tableaux."
   ]
  },
  {
   "cell_type": "markdown",
   "metadata": {
    "slideshow": {
     "slide_type": "slide"
    }
   },
   "source": [
    "#### Tableau 1D avec `arange`"
   ]
  },
  {
   "cell_type": "code",
   "execution_count": 9,
   "metadata": {
    "slideshow": {
     "slide_type": "fragment"
    }
   },
   "outputs": [
    {
     "data": {
      "text/plain": [
       "array([-1. , -0.7, -0.4, -0.1,  0.2,  0.5,  0.8])"
      ]
     },
     "execution_count": 9,
     "metadata": {},
     "output_type": "execute_result"
    }
   ],
   "source": [
    "# La fonction `arange(start, stop, step)` fonctionne\n",
    "# comme la fonction `range` de Python\n",
    "np.arange(-1, 1, 0.3)"
   ]
  },
  {
   "cell_type": "markdown",
   "metadata": {
    "slideshow": {
     "slide_type": "slide"
    }
   },
   "source": [
    "#### Tableau 1D avec `linspace(start, stop, npoints)` et `logspace(start, stop, npoints)`"
   ]
  },
  {
   "cell_type": "markdown",
   "metadata": {
    "slideshow": {
     "slide_type": "notes"
    }
   },
   "source": [
    "`linspace(start, stop, npoints)` permet comme `arange` de créer un tableau d'éléments régulièrement espacés mais en spécifiant le nombre d'éléments plutôt que le pas. `logspace` fonctionne de la même manière mais génère une échelle logarithmique. <b>Notez que les points de départ et d'arrivée sont inclus.</b>"
   ]
  },
  {
   "cell_type": "code",
   "execution_count": 10,
   "metadata": {
    "slideshow": {
     "slide_type": "fragment"
    }
   },
   "outputs": [
    {
     "data": {
      "text/plain": [
       "array([  0.        ,   0.90909091,   1.81818182,   2.72727273,\n",
       "         3.63636364,   4.54545455,   5.45454545,   6.36363636,\n",
       "         7.27272727,   8.18181818,   9.09090909,  10.        ])"
      ]
     },
     "execution_count": 10,
     "metadata": {},
     "output_type": "execute_result"
    }
   ],
   "source": [
    "# Exemple de linspace\n",
    "np.linspace(0, 10, 12)"
   ]
  },
  {
   "cell_type": "code",
   "execution_count": 11,
   "metadata": {
    "slideshow": {
     "slide_type": "slide"
    }
   },
   "outputs": [
    {
     "data": {
      "text/plain": [
       "array([  1.00000000e+00,   8.11130831e+00,   6.57933225e+01,\n",
       "         5.33669923e+02,   4.32876128e+03,   3.51119173e+04,\n",
       "         2.84803587e+05,   2.31012970e+06,   1.87381742e+07,\n",
       "         1.51991108e+08,   1.23284674e+09,   1.00000000e+10])"
      ]
     },
     "execution_count": 11,
     "metadata": {},
     "output_type": "execute_result"
    }
   ],
   "source": [
    "# Exemple de logspace de base 10\n",
    "#(pour un logarithme népérien, il faudrait mettre \"base=np.e\")\n",
    "np.logspace(0, 10, 12, base=10)"
   ]
  },
  {
   "cell_type": "markdown",
   "metadata": {
    "slideshow": {
     "slide_type": "slide"
    }
   },
   "source": [
    "#### Matrice diagonale"
   ]
  },
  {
   "cell_type": "code",
   "execution_count": 12,
   "metadata": {
    "slideshow": {
     "slide_type": "fragment"
    }
   },
   "outputs": [
    {
     "data": {
      "text/plain": [
       "array([[1, 0, 0],\n",
       "       [0, 2, 0],\n",
       "       [0, 0, 3]])"
      ]
     },
     "execution_count": 12,
     "metadata": {},
     "output_type": "execute_result"
    }
   ],
   "source": [
    "# Une matrice diagonale\n",
    "np.diag([1,2,3])"
   ]
  },
  {
   "cell_type": "markdown",
   "metadata": {
    "slideshow": {
     "slide_type": "slide"
    }
   },
   "source": [
    "#### Matrices de zéros et de 1"
   ]
  },
  {
   "cell_type": "code",
   "execution_count": 13,
   "metadata": {
    "slideshow": {
     "slide_type": "fragment"
    }
   },
   "outputs": [
    {
     "data": {
      "text/plain": [
       "array([[ 0.,  0.],\n",
       "       [ 0.,  0.]])"
      ]
     },
     "execution_count": 13,
     "metadata": {},
     "output_type": "execute_result"
    }
   ],
   "source": [
    "# Attention aux parenthèses supplémentaires\n",
    "np.zeros((2, 2))"
   ]
  },
  {
   "cell_type": "code",
   "execution_count": 14,
   "metadata": {
    "slideshow": {
     "slide_type": "slide"
    }
   },
   "outputs": [
    {
     "data": {
      "text/plain": [
       "array([[ 1.,  1.],\n",
       "       [ 1.,  1.]])"
      ]
     },
     "execution_count": 14,
     "metadata": {},
     "output_type": "execute_result"
    }
   ],
   "source": [
    "# Attention aux parenthèses supplémentaires\n",
    "np.ones((2, 2))"
   ]
  },
  {
   "cell_type": "markdown",
   "metadata": {
    "slideshow": {
     "slide_type": "fragment"
    }
   },
   "source": [
    "Et bien d'autres..."
   ]
  },
  {
   "cell_type": "markdown",
   "metadata": {
    "slideshow": {
     "slide_type": "slide"
    }
   },
   "source": [
    "## Opération élément par élément"
   ]
  },
  {
   "cell_type": "markdown",
   "metadata": {
    "slideshow": {
     "slide_type": "notes"
    }
   },
   "source": [
    "Un grand nombre d'opérations simples peuvent être réalisées sur des tableaux."
   ]
  },
  {
   "cell_type": "code",
   "execution_count": 15,
   "metadata": {
    "scrolled": true,
    "slideshow": {
     "slide_type": "fragment"
    }
   },
   "outputs": [
    {
     "name": "stdout",
     "output_type": "stream",
     "text": [
      "[[  3.75      12.9996    33.0429  ]\n",
      " [  6.8789     1.1661     3.413396]]\n"
     ]
    }
   ],
   "source": [
    "# Exemple d'opération terme à terme\n",
    "a = np.array([[1.5,3.14,5.27],[2.17,0.69,1.414]])\n",
    "b = 2*a + a**2 - a\n",
    "print(b)"
   ]
  },
  {
   "cell_type": "markdown",
   "metadata": {
    "slideshow": {
     "slide_type": "slide"
    }
   },
   "source": [
    "Notez que si l'on faisait la même chose avec une liste cela prendrait beaucoup plus de temps."
   ]
  },
  {
   "cell_type": "code",
   "execution_count": 16,
   "metadata": {
    "collapsed": true,
    "slideshow": {
     "slide_type": "slide"
    }
   },
   "outputs": [],
   "source": [
    "# Calcul des N premiers carrés à l'aide d'une liste\n",
    "a = [i**2 for i in range(2000000)]"
   ]
  },
  {
   "cell_type": "code",
   "execution_count": 17,
   "metadata": {
    "collapsed": true,
    "slideshow": {
     "slide_type": "fragment"
    }
   },
   "outputs": [],
   "source": [
    "# Calcul des N premiers carrés à l'aide d'un tableau numpy\n",
    "b = np.arange(2000000)**2"
   ]
  },
  {
   "cell_type": "markdown",
   "metadata": {
    "slideshow": {
     "slide_type": "notes"
    }
   },
   "source": [
    "Pour utiliser les fonctions de base (<i>cosinus, sinus, exponentielle,</i> etc...), il ne faut pas utiliser le module math, mais les fonctions incluses dans numpy qui fonctionnent avec les tableaux."
   ]
  },
  {
   "cell_type": "code",
   "execution_count": 18,
   "metadata": {
    "slideshow": {
     "slide_type": "slide"
    }
   },
   "outputs": [
    {
     "name": "stdout",
     "output_type": "stream",
     "text": [
      "[ 1.          0.99384617  0.97561098  0.94595947  0.90595519  0.85699689\n",
      "  0.8007374   0.7389913   0.67363846  0.60653066]\n"
     ]
    }
   ],
   "source": [
    "# Prendre l'exponentielle terme à terme d'un tableau\n",
    "a = np.linspace(0,1, num=10)\n",
    "print(np.exp(-a**2/2))"
   ]
  },
  {
   "cell_type": "markdown",
   "metadata": {
    "slideshow": {
     "slide_type": "slide"
    }
   },
   "source": [
    "## Vectoriser une fonction"
   ]
  },
  {
   "cell_type": "markdown",
   "metadata": {
    "slideshow": {
     "slide_type": "notes"
    }
   },
   "source": [
    "Si l'on a écrit une fonction prenant en argument un entier ou un nombre à virgule flottante, on peut la transformer en une fonction accetant un tableau numpy grâce à l'instruction `vectorize`."
   ]
  },
  {
   "cell_type": "code",
   "execution_count": 3,
   "metadata": {
    "slideshow": {
     "slide_type": "fragment"
    }
   },
   "outputs": [],
   "source": [
    "# Fonction qui calcule l'exponentielle d'un nombre\n",
    "def exponentielle(x):\n",
    "    epsilon = 1E-6\n",
    "    resultat = 0.\n",
    "    n = 1.\n",
    "    terme = 1. # Valeur initiale du terme de la boucle\n",
    "    while terme>epsilon :\n",
    "        resultat = resultat + terme\n",
    "        terme = terme * x/n\n",
    "        n = n+1\n",
    "    return resultat"
   ]
  },
  {
   "cell_type": "markdown",
   "metadata": {
    "slideshow": {
     "slide_type": "notes"
    }
   },
   "source": [
    "La fonction exponentielle n'accepte que des nombres, pas des tableaux. Pour la transformer en une fonction qui accepte les tableaux, sans modifier la fonction, on utilise `vectorize`."
   ]
  },
  {
   "cell_type": "code",
   "execution_count": 4,
   "metadata": {
    "slideshow": {
     "slide_type": "slide"
    }
   },
   "outputs": [
    {
     "name": "stdout",
     "output_type": "stream",
     "text": [
      "7.389055882389215\n"
     ]
    },
    {
     "ename": "ValueError",
     "evalue": "The truth value of an array with more than one element is ambiguous. Use a.any() or a.all()",
     "output_type": "error",
     "traceback": [
      "\u001b[0;31m---------------------------------------------------------------------------\u001b[0m",
      "\u001b[0;31mValueError\u001b[0m                                Traceback (most recent call last)",
      "\u001b[0;32m<ipython-input-4-c0ea4e8644b7>\u001b[0m in \u001b[0;36m<module>\u001b[0;34m()\u001b[0m\n\u001b[1;32m      2\u001b[0m \u001b[0mvecx\u001b[0m \u001b[0;34m=\u001b[0m \u001b[0mnp\u001b[0m\u001b[0;34m.\u001b[0m\u001b[0mlinspace\u001b[0m\u001b[0;34m(\u001b[0m\u001b[0;36m0\u001b[0m\u001b[0;34m,\u001b[0m\u001b[0;36m1\u001b[0m\u001b[0;34m,\u001b[0m\u001b[0;36m100\u001b[0m\u001b[0;34m)\u001b[0m\u001b[0;34m\u001b[0m\u001b[0m\n\u001b[1;32m      3\u001b[0m \u001b[0mprint\u001b[0m\u001b[0;34m(\u001b[0m\u001b[0mexponentielle\u001b[0m\u001b[0;34m(\u001b[0m\u001b[0;36m2\u001b[0m\u001b[0;34m)\u001b[0m\u001b[0;34m)\u001b[0m\u001b[0;34m\u001b[0m\u001b[0m\n\u001b[0;32m----> 4\u001b[0;31m \u001b[0mexponentielle\u001b[0m\u001b[0;34m(\u001b[0m\u001b[0mvecx\u001b[0m\u001b[0;34m)\u001b[0m\u001b[0;34m\u001b[0m\u001b[0m\n\u001b[0m\u001b[1;32m      5\u001b[0m \u001b[0;31m# Appliquer la fonction à un tableau numpy n'est pas possible.\u001b[0m\u001b[0;34m\u001b[0m\u001b[0;34m\u001b[0m\u001b[0m\n",
      "\u001b[0;32m<ipython-input-3-78e73430c314>\u001b[0m in \u001b[0;36mexponentielle\u001b[0;34m(x)\u001b[0m\n\u001b[1;32m      5\u001b[0m     \u001b[0mn\u001b[0m \u001b[0;34m=\u001b[0m \u001b[0;36m1.\u001b[0m\u001b[0;34m\u001b[0m\u001b[0m\n\u001b[1;32m      6\u001b[0m     \u001b[0mterme\u001b[0m \u001b[0;34m=\u001b[0m \u001b[0;36m1.\u001b[0m \u001b[0;31m# Valeur initiale du terme de la boucle\u001b[0m\u001b[0;34m\u001b[0m\u001b[0m\n\u001b[0;32m----> 7\u001b[0;31m     \u001b[0;32mwhile\u001b[0m \u001b[0mterme\u001b[0m\u001b[0;34m>\u001b[0m\u001b[0mepsilon\u001b[0m \u001b[0;34m:\u001b[0m\u001b[0;34m\u001b[0m\u001b[0m\n\u001b[0m\u001b[1;32m      8\u001b[0m         \u001b[0mresultat\u001b[0m \u001b[0;34m=\u001b[0m \u001b[0mresultat\u001b[0m \u001b[0;34m+\u001b[0m \u001b[0mterme\u001b[0m\u001b[0;34m\u001b[0m\u001b[0m\n\u001b[1;32m      9\u001b[0m         \u001b[0mterme\u001b[0m \u001b[0;34m=\u001b[0m \u001b[0mterme\u001b[0m \u001b[0;34m*\u001b[0m \u001b[0mx\u001b[0m\u001b[0;34m/\u001b[0m\u001b[0mn\u001b[0m\u001b[0;34m\u001b[0m\u001b[0m\n",
      "\u001b[0;31mValueError\u001b[0m: The truth value of an array with more than one element is ambiguous. Use a.any() or a.all()"
     ]
    }
   ],
   "source": [
    "# On crée un tableau numpy auquel on veut appliquer ma_fonction\n",
    "vecx = np.linspace(0,1,100)\n",
    "print(exponentielle(2))\n",
    "exponentielle(vecx)\n",
    "# Appliquer la fonction à un tableau numpy n'est pas possible."
   ]
  },
  {
   "cell_type": "code",
   "execution_count": 28,
   "metadata": {
    "slideshow": {
     "slide_type": "slide"
    }
   },
   "outputs": [
    {
     "data": {
      "text/plain": [
       "array([ 1.        ,  1.01015203,  1.02040746,  1.0307668 ,  1.04123128,\n",
       "        1.0518019 ,  1.06247971,  1.07326677,  1.08416278,  1.09516939,\n",
       "        1.10628773,  1.11751892,  1.12886412,  1.14032446,  1.15190112,\n",
       "        1.16359525,  1.17540804,  1.18734194,  1.19939605,  1.21157254,\n",
       "        1.22387264,  1.2362976 ,  1.2488487 ,  1.2615272 ,  1.27433441,\n",
       "        1.28727163,  1.30034017,  1.31354136,  1.32687655,  1.3403471 ,\n",
       "        1.35395544,  1.36770106,  1.38158621,  1.39561233,  1.40978084,\n",
       "        1.42409319,  1.43855083,  1.45315525,  1.46790793,  1.48281037,\n",
       "        1.4978641 ,  1.51307064,  1.52843156,  1.54394841,  1.55962278,\n",
       "        1.57545626,  1.59145047,  1.60760812,  1.62392886,  1.64041529,\n",
       "        1.6570691 ,  1.67389197,  1.69088563,  1.70805181,  1.72539227,\n",
       "        1.74290876,  1.76060308,  1.77847703,  1.79653243,  1.81477113,\n",
       "        1.83319499,  1.85180589,  1.87060571,  1.88959639,  1.90877986,\n",
       "        1.92815807,  1.947733  ,  1.96750773,  1.98748225,  2.00765955,\n",
       "        2.02804169,  2.04863075,  2.06942884,  2.09043807,  2.11166058,\n",
       "        2.13309855,  2.15475416,  2.17662962,  2.19872716,  2.22104903,\n",
       "        2.24359752,  2.26637491,  2.28938355,  2.31262576,  2.33610393,\n",
       "        2.35982045,  2.38377773,  2.40797823,  2.43242441,  2.45711981,\n",
       "        2.48206497,  2.50726337,  2.53271759,  2.55843022,  2.5844039 ,\n",
       "        2.61064126,  2.63714498,  2.66391778,  2.69096237,  2.71828153])"
      ]
     },
     "execution_count": 28,
     "metadata": {},
     "output_type": "execute_result"
    }
   ],
   "source": [
    "# On vectorize la fonction puis on l'applique à vecx\n",
    "exponentielle = np.vectorize(exponentielle)\n",
    "exponentielle(vecx)"
   ]
  },
  {
   "cell_type": "markdown",
   "metadata": {
    "slideshow": {
     "slide_type": "slide"
    }
   },
   "source": [
    "# Manipuler les tableaux"
   ]
  },
  {
   "cell_type": "markdown",
   "metadata": {
    "slideshow": {
     "slide_type": "slide"
    }
   },
   "source": [
    "### Tableau 1D"
   ]
  },
  {
   "cell_type": "markdown",
   "metadata": {
    "slideshow": {
     "slide_type": "fragment"
    }
   },
   "source": [
    "#### Manipulation par les indices"
   ]
  },
  {
   "cell_type": "markdown",
   "metadata": {
    "slideshow": {
     "slide_type": "fragment"
    }
   },
   "source": [
    "La manipulation par indices est très similaire aux listes. Réferrez-vous donc au cours sur les listes."
   ]
  },
  {
   "cell_type": "code",
   "execution_count": null,
   "metadata": {
    "collapsed": true,
    "slideshow": {
     "slide_type": "fragment"
    }
   },
   "outputs": [],
   "source": [
    "# Création d'un tableau 1D avec linspace\n",
    "a = np.linspace(0, 1, 20)\n",
    "# Affichage des termes d'indices pairs\n",
    "print(a[::2])"
   ]
  },
  {
   "cell_type": "markdown",
   "metadata": {
    "slideshow": {
     "slide_type": "slide"
    }
   },
   "source": [
    "#### Indexation par un tableau booléen"
   ]
  },
  {
   "cell_type": "markdown",
   "metadata": {
    "slideshow": {
     "slide_type": "notes"
    }
   },
   "source": [
    "Très utile pour sélectionner certains éléments d'un tableau vérifiants une certaine condition."
   ]
  },
  {
   "cell_type": "code",
   "execution_count": 29,
   "metadata": {
    "slideshow": {
     "slide_type": "fragment"
    }
   },
   "outputs": [
    {
     "name": "stdout",
     "output_type": "stream",
     "text": [
      "[ 0.          0.05263158  0.10526316  0.15789474  0.21052632  0.26315789\n",
      "  0.31578947  0.36842105  0.42105263  0.47368421  0.52631579  0.57894737\n",
      "  0.63157895  0.68421053  0.73684211  0.78947368  0.84210526  0.89473684\n",
      "  0.94736842  1.        ]\n",
      "[False False False False False False False False False False  True  True\n",
      "  True  True  True  True  True  True  True  True]\n"
     ]
    }
   ],
   "source": [
    "a = np.linspace(0, 1, 20)\n",
    "# Création d'un tableau booléen\n",
    "# de même taille que `a` contenant \n",
    "# True si l'élémént est >=0.5, False sinon\n",
    "cond = a>=0.5\n",
    "print(a)\n",
    "print(cond)"
   ]
  },
  {
   "cell_type": "code",
   "execution_count": 30,
   "metadata": {
    "slideshow": {
     "slide_type": "slide"
    }
   },
   "outputs": [
    {
     "name": "stdout",
     "output_type": "stream",
     "text": [
      "[ 0.52631579  0.57894737  0.63157895  0.68421053  0.73684211  0.78947368\n",
      "  0.84210526  0.89473684  0.94736842  1.        ]\n"
     ]
    }
   ],
   "source": [
    "# Extraction des éléments de `a` qui\n",
    "# vérifient la condition (être >= 0.5)\n",
    "# grâce à l'indexation par un tableau \n",
    "# de booléens\n",
    "b = a[cond]\n",
    "print(b)"
   ]
  },
  {
   "cell_type": "markdown",
   "metadata": {
    "slideshow": {
     "slide_type": "slide"
    }
   },
   "source": [
    "De manière plus compacte :"
   ]
  },
  {
   "cell_type": "code",
   "execution_count": 31,
   "metadata": {
    "slideshow": {
     "slide_type": "fragment"
    }
   },
   "outputs": [
    {
     "name": "stdout",
     "output_type": "stream",
     "text": [
      "[ 0.52631579  0.57894737  0.63157895  0.68421053  0.73684211  0.78947368\n",
      "  0.84210526  0.89473684  0.94736842  1.        ]\n"
     ]
    }
   ],
   "source": [
    "a = np.linspace(0, 1, 20)\n",
    "# On ne garde dans a que les éléments \n",
    "# supérieurs ou égaux à 5\n",
    "a = a[a>0.5]\n",
    "print(a)"
   ]
  },
  {
   "cell_type": "markdown",
   "metadata": {
    "slideshow": {
     "slide_type": "slide"
    }
   },
   "source": [
    "### Tableaux 2D"
   ]
  },
  {
   "cell_type": "markdown",
   "metadata": {
    "slideshow": {
     "slide_type": "fragment"
    }
   },
   "source": [
    "#### Extraction de lignes/colonnes"
   ]
  },
  {
   "cell_type": "code",
   "execution_count": 32,
   "metadata": {
    "slideshow": {
     "slide_type": "fragment"
    }
   },
   "outputs": [
    {
     "name": "stdout",
     "output_type": "stream",
     "text": [
      "[[1 2]\n",
      " [1 9]]\n",
      "[1 1]\n",
      "[1 9]\n"
     ]
    }
   ],
   "source": [
    "a = np.array([[1,2], [1,9]])\n",
    "print(a)\n",
    "print(a[:, 0]) # Colonne d'indice 0\n",
    "print(a[1, :]) # Ligne d'indice 1"
   ]
  },
  {
   "cell_type": "markdown",
   "metadata": {
    "slideshow": {
     "slide_type": "slide"
    }
   },
   "source": [
    "#### Algèbre matricielle"
   ]
  },
  {
   "cell_type": "markdown",
   "metadata": {
    "slideshow": {
     "slide_type": "fragment"
    }
   },
   "source": [
    "Le produit matriciel est la fonction `dot()`"
   ]
  },
  {
   "cell_type": "code",
   "execution_count": 33,
   "metadata": {
    "slideshow": {
     "slide_type": "fragment"
    }
   },
   "outputs": [
    {
     "name": "stdout",
     "output_type": "stream",
     "text": [
      "[[  9.28  13.04]\n",
      " [ 31.26  55.18]]\n"
     ]
    }
   ],
   "source": [
    "a = np.array([[1,2], [1,9]])\n",
    "b = np.array([[3, 1.],[3.14, 6.02]])\n",
    "c = np.dot(a, b)\n",
    "print(c)"
   ]
  },
  {
   "cell_type": "markdown",
   "metadata": {
    "slideshow": {
     "slide_type": "slide"
    }
   },
   "source": [
    "Le sous module de Numpy appelé `linalg` (linear algebra) permet de faire tout un tas de choses : valeurs propres, vecteurs propres, inversion de matrice, déterminant ..."
   ]
  },
  {
   "cell_type": "code",
   "execution_count": 34,
   "metadata": {
    "slideshow": {
     "slide_type": "fragment"
    }
   },
   "outputs": [
    {
     "name": "stdout",
     "output_type": "stream",
     "text": [
      "(array([  1.66314049,  62.79685951]), array([[-0.86348499, -0.23673526],\n",
      "       [ 0.50437453, -0.9715742 ]]))\n"
     ]
    }
   ],
   "source": [
    "# Valeurs propres et vecteurs propores\n",
    "print(np.linalg.eig(c))"
   ]
  },
  {
   "cell_type": "markdown",
   "metadata": {
    "slideshow": {
     "slide_type": "slide"
    }
   },
   "source": [
    "### Méthodes des tableaux Numpy"
   ]
  },
  {
   "cell_type": "markdown",
   "metadata": {
    "slideshow": {
     "slide_type": "fragment"
    }
   },
   "source": [
    "Tansposition, produit matriciel, conjugaison, transconjugaison, minimum, maximum, moyenne, somme etc... Un exemple important :"
   ]
  },
  {
   "cell_type": "markdown",
   "metadata": {
    "slideshow": {
     "slide_type": "slide"
    }
   },
   "source": [
    "#### Changer la frome d'un tableau : `reshape`"
   ]
  },
  {
   "cell_type": "markdown",
   "metadata": {
    "slideshow": {
     "slide_type": "fragment"
    }
   },
   "source": [
    "Permet de changer la forme d'un tableau sans en changer la taille (le nombre d'éléments)."
   ]
  },
  {
   "cell_type": "code",
   "execution_count": 35,
   "metadata": {
    "slideshow": {
     "slide_type": "fragment"
    }
   },
   "outputs": [
    {
     "name": "stdout",
     "output_type": "stream",
     "text": [
      "[0 1 2 3 4 5 6 7 8 9]\n",
      "[[0 1]\n",
      " [2 3]\n",
      " [4 5]\n",
      " [6 7]\n",
      " [8 9]]\n"
     ]
    },
    {
     "data": {
      "text/plain": [
       "array([0, 1, 2, 3, 4, 5, 6, 7, 8, 9])"
      ]
     },
     "execution_count": 35,
     "metadata": {},
     "output_type": "execute_result"
    }
   ],
   "source": [
    "a = np.arange(10)\n",
    "print(a)\n",
    "print(a.reshape((5, 2)))\n",
    "a"
   ]
  },
  {
   "cell_type": "markdown",
   "metadata": {
    "slideshow": {
     "slide_type": "fragment"
    }
   },
   "source": [
    "Note : attention ici la methode ne modifie pas le tableau a. "
   ]
  },
  {
   "cell_type": "markdown",
   "metadata": {
    "slideshow": {
     "slide_type": "slide"
    }
   },
   "source": [
    "#### Aller voir les fonctions `tile`, `concatenate`, `vstack`, `hstack`..."
   ]
  },
  {
   "cell_type": "markdown",
   "metadata": {
    "slideshow": {
     "slide_type": "slide"
    }
   },
   "source": [
    "### Parcourir un tableau"
   ]
  },
  {
   "cell_type": "markdown",
   "metadata": {
    "slideshow": {
     "slide_type": "fragment"
    }
   },
   "source": [
    "On parcourt un tableau avec des boucles `for` comme pour les autres structures de données. En particulier on peut utiliser `enumerate`."
   ]
  },
  {
   "cell_type": "markdown",
   "metadata": {
    "slideshow": {
     "slide_type": "slide"
    }
   },
   "source": [
    "### Lecture et écriture dans un fichier"
   ]
  },
  {
   "cell_type": "markdown",
   "metadata": {
    "slideshow": {
     "slide_type": "fragment"
    }
   },
   "source": [
    "#### Format ASCII : `savetxt` et `loadtxt`"
   ]
  },
  {
   "cell_type": "markdown",
   "metadata": {
    "slideshow": {
     "slide_type": "fragment"
    }
   },
   "source": [
    "On peu lire/enregistrer un fichier texte contenant un tableau grâce à `savetxt(fileID, tableau)` et `loadtxt`. On peut spécifier les séparateurs de lignes et colonnes. Utiliser un fichier ASCII dans le cas de très gros fichiers, peut s'avérer peu opportun car très lent. Dans ce cas on préfèrera sauver en binaire."
   ]
  },
  {
   "cell_type": "markdown",
   "metadata": {
    "slideshow": {
     "slide_type": "fragment"
    }
   },
   "source": [
    "#### Format Binaire : `load` et `save`"
   ]
  },
  {
   "cell_type": "markdown",
   "metadata": {
    "slideshow": {
     "slide_type": "fragment"
    }
   },
   "source": [
    "Plus rapide et sans erreurs d'arrondi possible qu'en ASCII, mais illisible par des logiciels tels que Excel, Word, ou n'importe quel éditeur de texte."
   ]
  },
  {
   "cell_type": "markdown",
   "metadata": {
    "slideshow": {
     "slide_type": "slide"
    }
   },
   "source": [
    "### Copie d'un tableau"
   ]
  },
  {
   "cell_type": "markdown",
   "metadata": {
    "slideshow": {
     "slide_type": "fragment"
    }
   },
   "source": [
    "Lorsque l'on assigne un tableau à un autre tableau, Python ne copie pas le tableau, seulement la référence."
   ]
  },
  {
   "cell_type": "code",
   "execution_count": 36,
   "metadata": {
    "collapsed": true,
    "slideshow": {
     "slide_type": "fragment"
    }
   },
   "outputs": [],
   "source": [
    "# Exemple de passage de référence\n",
    "a = np.array([[1, 2],[3, 4]])\n",
    "# On associe b au même tableau a\n",
    "b = a"
   ]
  },
  {
   "cell_type": "code",
   "execution_count": 37,
   "metadata": {
    "collapsed": true,
    "slideshow": {
     "slide_type": "slide"
    }
   },
   "outputs": [],
   "source": [
    "# Modification d'un élément de a\n",
    "a[1, 1] = 78675"
   ]
  },
  {
   "cell_type": "code",
   "execution_count": 38,
   "metadata": {
    "slideshow": {
     "slide_type": "fragment"
    }
   },
   "outputs": [
    {
     "name": "stdout",
     "output_type": "stream",
     "text": [
      "[[    1     2]\n",
      " [    3 78675]]\n"
     ]
    }
   ],
   "source": [
    "# B aussi est modifié\n",
    "print(b)"
   ]
  },
  {
   "cell_type": "markdown",
   "metadata": {
    "slideshow": {
     "slide_type": "slide"
    }
   },
   "source": [
    "Pour forcer la copie d'un tableau (deep copy en anglais) il faut utiliser l'instruction `copy`"
   ]
  },
  {
   "cell_type": "code",
   "execution_count": null,
   "metadata": {
    "collapsed": true,
    "slideshow": {
     "slide_type": "fragment"
    }
   },
   "outputs": [],
   "source": [
    "# Exemple de deep copy de a\n",
    "c = np.copy(a)\n",
    "a[0, 0] = 122343\n",
    "print(c)"
   ]
  },
  {
   "cell_type": "markdown",
   "metadata": {
    "slideshow": {
     "slide_type": "slide"
    }
   },
   "source": [
    "# Introduction à Scipy"
   ]
  },
  {
   "cell_type": "markdown",
   "metadata": {
    "slideshow": {
     "slide_type": "fragment"
    }
   },
   "source": [
    "Scipy est un package qui contient toutes les fonctions utiles au scientifique. <b>Scipy inclut Numpy.</b> La documentation des fonctions se trouve <a href = \"http://docs.scipy.org/doc/scipy/reference/\">ici</a>.\n",
    "    \n",
    "* Fonctions spéciales \n",
    "* Intégration\n",
    "* Optimisation\n",
    "* Interpolation\n",
    "* Transformation de Fourier\n",
    "* Traitement du signal\n",
    "* Algèbre linéaire\n",
    "* Matrices \"clairesemée\" (sparse)\n",
    "* Statistique\n",
    "* Traitement d'images\n",
    "* Ecriture dans fichiers\n",
    "    "
   ]
  },
  {
   "cell_type": "code",
   "execution_count": 39,
   "metadata": {
    "collapsed": true,
    "slideshow": {
     "slide_type": "slide"
    }
   },
   "outputs": [],
   "source": [
    "import scipy as sc"
   ]
  },
  {
   "cell_type": "code",
   "execution_count": 40,
   "metadata": {
    "collapsed": true,
    "slideshow": {
     "slide_type": "fragment"
    }
   },
   "outputs": [],
   "source": [
    "# Scipy inclut Numpy\n",
    "a = sc.array([1, 2])"
   ]
  },
  {
   "cell_type": "code",
   "execution_count": 41,
   "metadata": {
    "slideshow": {
     "slide_type": "fragment"
    }
   },
   "outputs": [
    {
     "data": {
      "text/plain": [
       "array([ 0.84270079,  0.99532227])"
      ]
     },
     "execution_count": 41,
     "metadata": {},
     "output_type": "execute_result"
    }
   ],
   "source": [
    "# Scipy inclut les fonctions spéciales\n",
    "from scipy import special as spe\n",
    "# Comme la fonction erf()\n",
    "spe.erf(a)"
   ]
  }
 ],
 "metadata": {
  "celltoolbar": "Slideshow",
  "kernelspec": {
   "display_name": "Python 3",
   "language": "python",
   "name": "python3"
  },
  "language_info": {
   "codemirror_mode": {
    "name": "ipython",
    "version": 3
   },
   "file_extension": ".py",
   "mimetype": "text/x-python",
   "name": "python",
   "nbconvert_exporter": "python",
   "pygments_lexer": "ipython3",
   "version": "3.6.5"
  }
 },
 "nbformat": 4,
 "nbformat_minor": 1
}
