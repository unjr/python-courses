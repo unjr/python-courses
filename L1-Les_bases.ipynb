{
 "cells": [
  {
   "cell_type": "markdown",
   "metadata": {
    "slideshow": {
     "slide_type": "slide"
    }
   },
   "source": [
    "# Python : les bases"
   ]
  },
  {
   "cell_type": "markdown",
   "metadata": {
    "slideshow": {
     "slide_type": "slide"
    }
   },
   "source": [
    "## Les commentaires : le symbole \"#\""
   ]
  },
  {
   "cell_type": "markdown",
   "metadata": {
    "slideshow": {
     "slide_type": "notes"
    }
   },
   "source": [
    "Tout code doit être commenté afin d'être compréhensible par n'importe qui. Pour écrire un commentaire dans un script, il faut utiliser le symbole \"#\"."
   ]
  },
  {
   "cell_type": "code",
   "execution_count": null,
   "metadata": {
    "scrolled": true,
    "slideshow": {
     "slide_type": "fragment"
    }
   },
   "outputs": [],
   "source": [
    "# Afficher une chaîne de caractère\n",
    "print('Hello World')"
   ]
  },
  {
   "cell_type": "code",
   "execution_count": null,
   "metadata": {
    "slideshow": {
     "slide_type": "fragment"
    }
   },
   "outputs": [],
   "source": [
    "# Afficher le contenu d'une variable\n",
    "a = 1\n",
    "b = 3.14\n",
    "print(a, b)"
   ]
  },
  {
   "cell_type": "markdown",
   "metadata": {
    "slideshow": {
     "slide_type": "notes"
    }
   },
   "source": [
    "Le texte qui se situe derrière le symbole \"#\" n'est pas interprété."
   ]
  },
  {
   "cell_type": "markdown",
   "metadata": {
    "slideshow": {
     "slide_type": "slide"
    }
   },
   "source": [
    "## Les variables"
   ]
  },
  {
   "cell_type": "markdown",
   "metadata": {
    "slideshow": {
     "slide_type": "fragment"
    }
   },
   "source": [
    "Une variable est un symbole qui représente une donnée. Dans les exemples ci-dessus, <b>a</b> et <b>b</b> sont des variables."
   ]
  },
  {
   "cell_type": "markdown",
   "metadata": {
    "slideshow": {
     "slide_type": "slide"
    }
   },
   "source": [
    "## Nom des variables"
   ]
  },
  {
   "cell_type": "markdown",
   "metadata": {
    "slideshow": {
     "slide_type": "fragment"
    }
   },
   "source": [
    "* Comme nom de variable on peut choisir des lettres minuscules \"a->z\", des majuscules \"A->Z\", des chiffres \"0->9\" et des caractères spéciaux comme \"_\". \n",
    "\n",
    "* Les noms de variables (sauf subtilités) doivent commencer par une lettre.  "
   ]
  },
  {
   "cell_type": "markdown",
   "metadata": {
    "slideshow": {
     "slide_type": "slide"
    }
   },
   "source": [
    "* Certains mots sont réservés et ne peuvent être utilisés comme variables. Nous avons déjà vu la commande `print`. La liste exhaustive est :\n",
    "\n",
    "    `and`, `as`, `assert`, `break`, `class`, `continue`, `def`, `del`, `elif`, `else`, `except`, \n",
    "    `exec`, `finally`, `for`, `from`, `global`, `if`, `import`, `in`, `is`, `lambda`, `not`, `or`,\n",
    "    `pass`, `print`, `raise`, `return`, `try`, `while`, `with`, `yield`\n",
    "\n",
    "Attention: notez bien que `lambda`, qu'il est souvent tentant d'utiliser dans un contexte de Physique, est un mot réservé."
   ]
  },
  {
   "cell_type": "markdown",
   "metadata": {
    "slideshow": {
     "slide_type": "slide"
    }
   },
   "source": [
    "## Assignement (création d'une variable)"
   ]
  },
  {
   "cell_type": "markdown",
   "metadata": {
    "slideshow": {
     "slide_type": "notes"
    }
   },
   "source": [
    "La création des variables (assignement d'une valeur à une variable) se fait à l'aide du signe \"=\". Si l'on assigne plusieurs fois des valeurs à une même variable, seule la valeur de la dernière affectation est prise en compte."
   ]
  },
  {
   "cell_type": "code",
   "execution_count": null,
   "metadata": {
    "slideshow": {
     "slide_type": "fragment"
    }
   },
   "outputs": [],
   "source": [
    "# Assignement de la valeur 1 à la variable a\n",
    "a = 1\n",
    "# Affichage de la variable \"a\"\n",
    "print(a)\n",
    "a"
   ]
  },
  {
   "cell_type": "code",
   "execution_count": null,
   "metadata": {
    "slideshow": {
     "slide_type": "slide"
    }
   },
   "outputs": [],
   "source": [
    "# Assignement de la valeur 1 à la variable a\n",
    "a = 1\n",
    "# Assignement de la valeur 2 à la variable b\n",
    "b = 2\n",
    "# Assignement de la valeur a+b à la variable a\n",
    "a = a+b\n",
    "# Affichage de la variable a\n",
    "print(a)"
   ]
  },
  {
   "cell_type": "markdown",
   "metadata": {
    "slideshow": {
     "slide_type": "notes"
    }
   },
   "source": [
    "Note : en informatique une variable a toujour une valeur déterminée. Cette valeur change au cours de l'éxécution du programme lors de chaque assignement avec le signe \"=\".\n",
    "\n",
    "Dans le dernier exemple lorsqu'on assigne `a+b` à `a`, l'ordinateur évalue d'abord `a+b`, et obtient la valeur `3`. Puis il assigne à la variable `a` la nouvelle valeur 3."
   ]
  },
  {
   "cell_type": "markdown",
   "metadata": {
    "slideshow": {
     "slide_type": "slide"
    }
   },
   "source": [
    "## Type principaux des variables"
   ]
  },
  {
   "cell_type": "markdown",
   "metadata": {
    "slideshow": {
     "slide_type": "notes"
    }
   },
   "source": [
    "En Python chaque variable a un type. Pour connaitre le type d'une variable, il y a la fonction `type`. Par exemple dans le cas de la variable \"a\", on a assigné la valeur \"1\" qui est un entier (ìnteger en anglais, raccourci en <i><b>int</b></i>)."
   ]
  },
  {
   "cell_type": "code",
   "execution_count": null,
   "metadata": {
    "slideshow": {
     "slide_type": "fragment"
    }
   },
   "outputs": [],
   "source": [
    "# Type entier\n",
    "a = 1\n",
    "type(a)"
   ]
  },
  {
   "cell_type": "markdown",
   "metadata": {
    "slideshow": {
     "slide_type": "fragment"
    }
   },
   "source": [
    "Les types principaux sont : <i><b>float</b></i> pour les nombre à virgule flottante, <i><b>bool</b></i> pour les booléens, et <i><b>complex</b></i> pour les nombres complexes."
   ]
  },
  {
   "cell_type": "code",
   "execution_count": null,
   "metadata": {
    "slideshow": {
     "slide_type": "slide"
    }
   },
   "outputs": [],
   "source": [
    "# Type nombre à virgule flottante\n",
    "a = 1.06\n",
    "type(a)\n",
    "b = True\n",
    "type(b)"
   ]
  },
  {
   "cell_type": "markdown",
   "metadata": {
    "slideshow": {
     "slide_type": "fragment"
    }
   },
   "source": [
    "Les variables `float` sont enregistrées en double précision (64 bits : 1 bit pour le signe, 11 bits pour l'exposant (−1022 à 1023), 52 bits pour la valeur elle-même, ce qui donne une précision d'environ $10^{-16}$). "
   ]
  },
  {
   "cell_type": "code",
   "execution_count": null,
   "metadata": {
    "slideshow": {
     "slide_type": "fragment"
    }
   },
   "outputs": [],
   "source": [
    "# Type booléen (valeur possibles : True ou False)\n",
    "a = True\n",
    "type(a)"
   ]
  },
  {
   "cell_type": "code",
   "execution_count": null,
   "metadata": {
    "slideshow": {
     "slide_type": "fragment"
    }
   },
   "outputs": [],
   "source": [
    "# Nombre complexe. On utilise `j` pour désigner le nombre dont le carré est -1.\n",
    "# (Attention pour les complexes de partie imaginaire égale à 1, z+j\n",
    "# n'est pas une écriture correcte, il faut écrire z+1j, z étant\n",
    "# n'importe quel nombre)\n",
    "a = 2.02 - 1.09j\n",
    "type(a)"
   ]
  },
  {
   "cell_type": "markdown",
   "metadata": {
    "slideshow": {
     "slide_type": "slide"
    }
   },
   "source": [
    "## Fonctions et attributs associées aux variables\n",
    "### Utilisation de \".\" + TAB"
   ]
  },
  {
   "cell_type": "markdown",
   "metadata": {
    "slideshow": {
     "slide_type": "notes"
    }
   },
   "source": [
    "A chaque variable sont associées d'office des fonctions qui peuvent être utiles. La liste des fonctions disponibles s'obtient en tapant le nom de la variable suivi d'un point et de la touche TAB. Cette liste apparait sous forme d'un menu déroulant ou d'un liste."
   ]
  },
  {
   "cell_type": "code",
   "execution_count": null,
   "metadata": {
    "slideshow": {
     "slide_type": "fragment"
    }
   },
   "outputs": [],
   "source": [
    "# Fonctions et attributs associées à une variable\n",
    "a = 2.02 - 1.09j\n",
    "a.conjugate()\n"
   ]
  },
  {
   "cell_type": "markdown",
   "metadata": {
    "slideshow": {
     "slide_type": "fragment"
    }
   },
   "source": [
    "<img src=\"figures/autocompletion.png\" width=\"1400\">\n"
   ]
  },
  {
   "cell_type": "markdown",
   "metadata": {
    "slideshow": {
     "slide_type": "notes"
    }
   },
   "source": [
    "Ici on voit trois fonctions/attributs accessibles, dont les noms sont explicites. La fonction `conjugate` qui renvoie le conjugué complexe, les attributs `imag` et `real` qui contiennent les parties imaginaire et réelle. En Python nous verrons que pour appeler une fonction il faut spécifier la liste des arguments entre parenthèse. Les différentes fonctions accessibles à la variable `a` ne requièrent aucun argument, donc il faut laisser la paire de parenthèses vide. \n",
    "\n",
    "<i>Note : Python est un langage orienté objet. Les variables sont en fait des <b>objets</b> qui contiennent un certain nombre de fonctions prédéfinies qu'on appelle des méthodes (on verra comment en ajouter d'autres plus tard) accesibles grâce au \".\".</i>"
   ]
  },
  {
   "cell_type": "code",
   "execution_count": null,
   "metadata": {
    "slideshow": {
     "slide_type": "slide"
    }
   },
   "outputs": [],
   "source": [
    "# Exemple de conjugaison complexe de la variable a\n",
    "b = a.conjugate()\n",
    "print(b)"
   ]
  },
  {
   "cell_type": "code",
   "execution_count": null,
   "metadata": {
    "slideshow": {
     "slide_type": "fragment"
    }
   },
   "outputs": [],
   "source": [
    "# Exemple d'accès à l'attribut imag\n",
    "b = a.imag\n",
    "print(b)"
   ]
  },
  {
   "cell_type": "markdown",
   "metadata": {
    "slideshow": {
     "slide_type": "slide"
    }
   },
   "source": [
    "## Opérateurs"
   ]
  },
  {
   "cell_type": "markdown",
   "metadata": {
    "slideshow": {
     "slide_type": "fragment"
    }
   },
   "source": [
    "Les différents opérateurs sont :\n",
    "* `+` : addition\n",
    "* `-` : soustraction\n",
    "* `*` : multiplication\n",
    "* `**` : puissance"
   ]
  },
  {
   "cell_type": "markdown",
   "metadata": {
    "slideshow": {
     "slide_type": "slide"
    }
   },
   "source": [
    "* `/` : division <b>(ATTENTION dans python 2.7 : division normale pour des variables de type `float` et division entière pour des variables de type `int`)</b>.\n",
    "* `//` : division entière\n",
    "* `%` : modulo (reste de la division entière, exemple)\n",
    "\n",
    "Exemples :"
   ]
  },
  {
   "cell_type": "code",
   "execution_count": null,
   "metadata": {
    "slideshow": {
     "slide_type": "slide"
    }
   },
   "outputs": [],
   "source": [
    "# Addition et soustraction\n",
    "1+2-4*3"
   ]
  },
  {
   "cell_type": "code",
   "execution_count": null,
   "metadata": {
    "slideshow": {
     "slide_type": "fragment"
    }
   },
   "outputs": [],
   "source": [
    "# Puissance\n",
    "4**2"
   ]
  },
  {
   "cell_type": "code",
   "execution_count": null,
   "metadata": {
    "slideshow": {
     "slide_type": "fragment"
    }
   },
   "outputs": [],
   "source": [
    "# Division -> le résultat est un float\n",
    "4/2"
   ]
  },
  {
   "cell_type": "code",
   "execution_count": null,
   "metadata": {
    "slideshow": {
     "slide_type": "slide"
    }
   },
   "outputs": [],
   "source": [
    "# Division entière de deux entiers -> le résultat est un entier\n",
    "3.0//2.0"
   ]
  },
  {
   "cell_type": "code",
   "execution_count": null,
   "metadata": {
    "slideshow": {
     "slide_type": "fragment"
    }
   },
   "outputs": [],
   "source": [
    "# Reste de la division entière\n",
    "10%8"
   ]
  },
  {
   "cell_type": "markdown",
   "metadata": {
    "slideshow": {
     "slide_type": "notes"
    }
   },
   "source": [
    "Le reste de la division entière de 10 par 8 est bien 2."
   ]
  },
  {
   "cell_type": "markdown",
   "metadata": {
    "slideshow": {
     "slide_type": "slide"
    }
   },
   "source": [
    "## Comparaisons"
   ]
  },
  {
   "cell_type": "markdown",
   "metadata": {
    "slideshow": {
     "slide_type": "slide"
    }
   },
   "source": [
    "#### Opérateurs booléens (par ordre de priorité) :"
   ]
  },
  {
   "cell_type": "markdown",
   "metadata": {
    "slideshow": {
     "slide_type": "fragment"
    }
   },
   "source": [
    "* `not`  (négation)\n",
    "* `and`  (conjonction)\n",
    "* `or`   (disjonction)\n",
    "\n",
    "Exemples :"
   ]
  },
  {
   "cell_type": "code",
   "execution_count": 1,
   "metadata": {
    "slideshow": {
     "slide_type": "slide"
    }
   },
   "outputs": [
    {
     "data": {
      "text/plain": [
       "True"
      ]
     },
     "execution_count": 1,
     "metadata": {},
     "output_type": "execute_result"
    }
   ],
   "source": [
    "True and True\n"
   ]
  },
  {
   "cell_type": "code",
   "execution_count": 2,
   "metadata": {
    "slideshow": {
     "slide_type": "fragment"
    }
   },
   "outputs": [
    {
     "data": {
      "text/plain": [
       "False"
      ]
     },
     "execution_count": 2,
     "metadata": {},
     "output_type": "execute_result"
    }
   ],
   "source": [
    "True and False"
   ]
  },
  {
   "cell_type": "code",
   "execution_count": 3,
   "metadata": {
    "slideshow": {
     "slide_type": "fragment"
    }
   },
   "outputs": [
    {
     "data": {
      "text/plain": [
       "False"
      ]
     },
     "execution_count": 3,
     "metadata": {},
     "output_type": "execute_result"
    }
   ],
   "source": [
    "False and False"
   ]
  },
  {
   "cell_type": "code",
   "execution_count": 4,
   "metadata": {
    "slideshow": {
     "slide_type": "slide"
    }
   },
   "outputs": [
    {
     "data": {
      "text/plain": [
       "True"
      ]
     },
     "execution_count": 4,
     "metadata": {},
     "output_type": "execute_result"
    }
   ],
   "source": [
    "True or True"
   ]
  },
  {
   "cell_type": "code",
   "execution_count": 5,
   "metadata": {
    "slideshow": {
     "slide_type": "fragment"
    }
   },
   "outputs": [
    {
     "data": {
      "text/plain": [
       "True"
      ]
     },
     "execution_count": 5,
     "metadata": {},
     "output_type": "execute_result"
    }
   ],
   "source": [
    "True or False"
   ]
  },
  {
   "cell_type": "code",
   "execution_count": 6,
   "metadata": {
    "slideshow": {
     "slide_type": "fragment"
    }
   },
   "outputs": [
    {
     "data": {
      "text/plain": [
       "False"
      ]
     },
     "execution_count": 6,
     "metadata": {},
     "output_type": "execute_result"
    }
   ],
   "source": [
    "False or False"
   ]
  },
  {
   "cell_type": "code",
   "execution_count": 7,
   "metadata": {
    "slideshow": {
     "slide_type": "fragment"
    }
   },
   "outputs": [
    {
     "data": {
      "text/plain": [
       "False"
      ]
     },
     "execution_count": 7,
     "metadata": {},
     "output_type": "execute_result"
    }
   ],
   "source": [
    "not True"
   ]
  },
  {
   "cell_type": "code",
   "execution_count": 8,
   "metadata": {
    "slideshow": {
     "slide_type": "fragment"
    }
   },
   "outputs": [
    {
     "data": {
      "text/plain": [
       "True"
      ]
     },
     "execution_count": 8,
     "metadata": {},
     "output_type": "execute_result"
    }
   ],
   "source": [
    "not False"
   ]
  },
  {
   "cell_type": "markdown",
   "metadata": {
    "slideshow": {
     "slide_type": "slide"
    }
   },
   "source": [
    "#### Opérateurs de comparaison"
   ]
  },
  {
   "cell_type": "markdown",
   "metadata": {
    "slideshow": {
     "slide_type": "fragment"
    }
   },
   "source": [
    "* `<` et `<=`  infériorité\n",
    "* `>` et `>=`  supériorité\n",
    "* `==`         égalité\n",
    "* `!=`         différence\n",
    "\n",
    "Exemples :"
   ]
  },
  {
   "cell_type": "code",
   "execution_count": 9,
   "metadata": {
    "slideshow": {
     "slide_type": "slide"
    }
   },
   "outputs": [
    {
     "data": {
      "text/plain": [
       "True"
      ]
     },
     "execution_count": 9,
     "metadata": {},
     "output_type": "execute_result"
    }
   ],
   "source": [
    "2 > 1"
   ]
  },
  {
   "cell_type": "code",
   "execution_count": 10,
   "metadata": {
    "slideshow": {
     "slide_type": "fragment"
    }
   },
   "outputs": [
    {
     "data": {
      "text/plain": [
       "False"
      ]
     },
     "execution_count": 10,
     "metadata": {},
     "output_type": "execute_result"
    }
   ],
   "source": [
    "2 < 1"
   ]
  },
  {
   "cell_type": "code",
   "execution_count": 12,
   "metadata": {
    "slideshow": {
     "slide_type": "fragment"
    }
   },
   "outputs": [
    {
     "data": {
      "text/plain": [
       "False"
      ]
     },
     "execution_count": 12,
     "metadata": {},
     "output_type": "execute_result"
    }
   ],
   "source": [
    "2 == 3"
   ]
  },
  {
   "cell_type": "code",
   "execution_count": 11,
   "metadata": {
    "slideshow": {
     "slide_type": "subslide"
    }
   },
   "outputs": [
    {
     "data": {
      "text/plain": [
       "True"
      ]
     },
     "execution_count": 11,
     "metadata": {},
     "output_type": "execute_result"
    }
   ],
   "source": [
    "2 is 2"
   ]
  },
  {
   "cell_type": "code",
   "execution_count": 13,
   "metadata": {
    "slideshow": {
     "slide_type": "fragment"
    }
   },
   "outputs": [
    {
     "data": {
      "text/plain": [
       "False"
      ]
     },
     "execution_count": 13,
     "metadata": {},
     "output_type": "execute_result"
    }
   ],
   "source": [
    "2 != 2"
   ]
  },
  {
   "cell_type": "markdown",
   "metadata": {
    "slideshow": {
     "slide_type": "slide"
    }
   },
   "source": [
    "#### Combinaison d'opérateurs booléens et de comparaison"
   ]
  },
  {
   "cell_type": "markdown",
   "metadata": {
    "slideshow": {
     "slide_type": "fragment"
    }
   },
   "source": [
    "Attention aux parenthèses qui ont une importance cruciale ici."
   ]
  },
  {
   "cell_type": "code",
   "execution_count": 14,
   "metadata": {
    "slideshow": {
     "slide_type": "fragment"
    }
   },
   "outputs": [
    {
     "data": {
      "text/plain": [
       "True"
      ]
     },
     "execution_count": 14,
     "metadata": {},
     "output_type": "execute_result"
    }
   ],
   "source": [
    "a = 1\n",
    "b = 2\n",
    "c = 3\n",
    "(a <= 1 ) and ((b == 2) or (c != 3))"
   ]
  },
  {
   "cell_type": "markdown",
   "metadata": {
    "slideshow": {
     "slide_type": "slide"
    }
   },
   "source": [
    "## Incrément et Décrément"
   ]
  },
  {
   "cell_type": "markdown",
   "metadata": {
    "slideshow": {
     "slide_type": "notes"
    }
   },
   "source": [
    "Comme en langage C, on peut utiliser les notation simplifiée `+=` et `-=` pour incrémenter et décrémenter d'une certaine quantité un nombre."
   ]
  },
  {
   "cell_type": "code",
   "execution_count": 15,
   "metadata": {
    "slideshow": {
     "slide_type": "fragment"
    }
   },
   "outputs": [
    {
     "name": "stdout",
     "output_type": "stream",
     "text": [
      "5\n"
     ]
    }
   ],
   "source": [
    "# Incrémenter la variable a d'une unité\n",
    "a = 1\n",
    "a += 4\n",
    "print(a)"
   ]
  },
  {
   "cell_type": "code",
   "execution_count": 16,
   "metadata": {
    "slideshow": {
     "slide_type": "slide"
    }
   },
   "outputs": [
    {
     "name": "stdout",
     "output_type": "stream",
     "text": [
      "-0.30000000000000004\n"
     ]
    }
   ],
   "source": [
    "# Décrémenter la variable b d'une unité\n",
    "b = 1\n",
    "b -= 1.3\n",
    "print(b)"
   ]
  },
  {
   "cell_type": "markdown",
   "metadata": {
    "slideshow": {
     "slide_type": "fragment"
    }
   },
   "source": [
    "Cela permet d'éviter d'écrire `a = a + 4` et `b = b - 1.3`."
   ]
  },
  {
   "cell_type": "markdown",
   "metadata": {
    "slideshow": {
     "slide_type": "slide"
    }
   },
   "source": [
    "## Les Modules"
   ]
  },
  {
   "cell_type": "markdown",
   "metadata": {
    "slideshow": {
     "slide_type": "notes"
    }
   },
   "source": [
    "Python est un langage minimal qui ne contient que très peu de fonctions. Par exemple nous avons vu que Python ne connait pas la fonction <i>cosinus</i>. Il existe donc des <b>modules</b> qui contiennet ces fonctions et que l'on importe dans l'environnement en fonction des besoins. Pour voir la documentation des différents modules rendez vous <a href = 'https://docs.python.org/3/py-modindex.html'>ici</a>."
   ]
  },
  {
   "cell_type": "markdown",
   "metadata": {
    "slideshow": {
     "slide_type": "fragment"
    }
   },
   "source": [
    "<b>Exemple :</b> utilisation des fonctions trigonométrique avec le module <i>math</i>"
   ]
  },
  {
   "cell_type": "code",
   "execution_count": 37,
   "metadata": {
    "slideshow": {
     "slide_type": "fragment"
    }
   },
   "outputs": [
    {
     "name": "stdout",
     "output_type": "stream",
     "text": [
      "-1.8369701987210297e-16\n"
     ]
    }
   ],
   "source": [
    "# import module\n",
    "import math\n",
    "a = math.cos(3*math.pi/2)\n",
    "print(a)"
   ]
  },
  {
   "cell_type": "markdown",
   "metadata": {
    "slideshow": {
     "slide_type": "notes"
    }
   },
   "source": [
    "Dans cet exemple on importe avec la commande `import` toutes les fonctions du module math (voir la liste <a href = 'https://docs.python.org/2.7/library/math.html#module-math'>ici</a>. Ces fonctions sont accessibles en tapant <b>math.la_fonction</b>. On voit ici l'appelle à la fonction <i>cosinus</i>. En outre vous voyez que le module math contient aussi des constantes utiles comme Pi ou encore le nombre d'Euler."
   ]
  },
  {
   "cell_type": "markdown",
   "metadata": {
    "slideshow": {
     "slide_type": "notes"
    }
   },
   "source": [
    "Ici on voit qu'il va peut être être fastidieux de taper \"math.\" à chaque fois qu'on a besoin de Pi ou </i>cosinus</i>. Pour cela rien n'empêche de faire la chose explicite suivante :"
   ]
  },
  {
   "cell_type": "code",
   "execution_count": 1,
   "metadata": {
    "slideshow": {
     "slide_type": "slide"
    }
   },
   "outputs": [
    {
     "name": "stdout",
     "output_type": "stream",
     "text": [
      "-1.8369701987210297e-16\n"
     ]
    }
   ],
   "source": [
    "# import sous un autre nom\n",
    "# import module as nouveau_nom\n",
    "import math as m\n",
    "a = m.cos(3*m.pi/2)\n",
    "print(a)"
   ]
  },
  {
   "cell_type": "markdown",
   "metadata": {
    "slideshow": {
     "slide_type": "notes"
    }
   },
   "source": [
    "On peut également choisir de n'importer que certaines fonctions ou certaines constantes d'un module. Exemple :"
   ]
  },
  {
   "cell_type": "code",
   "execution_count": 2,
   "metadata": {
    "slideshow": {
     "slide_type": "slide"
    }
   },
   "outputs": [
    {
     "name": "stdout",
     "output_type": "stream",
     "text": [
      "-1.8369701987210297e-16\n"
     ]
    }
   ],
   "source": [
    "# Import de certaines fonctions uniquement\n",
    "# from module import fonction1, fonction2, ...\n",
    "from math import cos, pi\n",
    "a = cos(3*pi/2)\n",
    "print(a)"
   ]
  },
  {
   "cell_type": "markdown",
   "metadata": {
    "slideshow": {
     "slide_type": "notes"
    }
   },
   "source": [
    "Notez que dans ce cas on appelle les fonctions directement sans le \"math.\"."
   ]
  },
  {
   "cell_type": "markdown",
   "metadata": {
    "slideshow": {
     "slide_type": "notes"
    }
   },
   "source": [
    "Enfin pour importer toutes les fonctions d'un module en s'affranchissant du \"math.\", on peut faire"
   ]
  },
  {
   "cell_type": "code",
   "execution_count": 3,
   "metadata": {
    "slideshow": {
     "slide_type": "slide"
    }
   },
   "outputs": [
    {
     "name": "stdout",
     "output_type": "stream",
     "text": [
      "1.048126905643867\n"
     ]
    }
   ],
   "source": [
    "# Importer toutes les fonctions\n",
    "# from module import * (importer toutes les fonctions)\n",
    "from math import *\n",
    "a = cosh(cos(3*pi/5))\n",
    "print(a)"
   ]
  },
  {
   "cell_type": "markdown",
   "metadata": {
    "slideshow": {
     "slide_type": "slide"
    }
   },
   "source": [
    "## Les structures de contrôle et l'indentation"
   ]
  },
  {
   "cell_type": "markdown",
   "metadata": {
    "slideshow": {
     "slide_type": "notes"
    }
   },
   "source": [
    "Les structures de contrôle, base de l'algorithmique sont évidemment présentent en Python comme dans tous les langages de programmation. Elles décrivent la manière dont s'enchaîneent les instructions et permettent leur traitements séquentiels, conditionnels et répétitifs. Leur syntaxe est explicitée ci-dessous. Attention, nous allons voir qu'en Python l'<b>indentation</b> (de 4 espaces) est extrêmemnt importante et car elle a un sens pour l'interpréteur."
   ]
  },
  {
   "cell_type": "markdown",
   "metadata": {
    "slideshow": {
     "slide_type": "slide"
    }
   },
   "source": [
    "### Les tests conditionnels <i>if ... do ..., else if ... do ..., else do ...</i>"
   ]
  },
  {
   "cell_type": "markdown",
   "metadata": {
    "slideshow": {
     "slide_type": "fragment"
    }
   },
   "source": [
    "On veut réaliser l'enchainement logique suivant (écrit ici en pseudo-code français) :\n",
    "\n",
    "* Si la <i>condition 1</i> est vérifiée, \n",
    "* Alors faire l'<i>opération 1</i>\n",
    "* Sinon, si <i>condition 2</i> faire l'<i>opération 2</i>\n",
    "* Sinon faire l'<i>opération 3</i>"
   ]
  },
  {
   "cell_type": "markdown",
   "metadata": {
    "slideshow": {
     "slide_type": "notes"
    }
   },
   "source": [
    "Les <i>condition 1 et 2</i> sont le résultat d'une comparaison (cf. paragraphe ci-dessus) mettant en oeuvre des opérateurs booléens ou/et des opérateurs de comparaison. L'opération peut être n'importe quelle instruction, par exemple l'affichage grâce à la commande `print` d'une chaîne de caractères à l'écran. La syntaxe Python est la suivante :"
   ]
  },
  {
   "cell_type": "markdown",
   "metadata": {
    "slideshow": {
     "slide_type": "subslide"
    }
   },
   "source": [
    "<b>`if`</b> condition1<b>:</b>       <br/>\n",
    "&nbsp;&nbsp;&nbsp;&nbsp;    opération1  <br/>\n",
    "<b>`elif`</b> condition2<b>:</b>     <br/>\n",
    "&nbsp;&nbsp;&nbsp;&nbsp;    opération2       <br/>\n",
    "<b>`else`:</b>                <br/>\n",
    "&nbsp;&nbsp;&nbsp;&nbsp;    opération3       <br/>"
   ]
  },
  {
   "cell_type": "markdown",
   "metadata": {
    "slideshow": {
     "slide_type": "notes"
    }
   },
   "source": [
    "Notez bien l'indentation, ainsi que les signes \":\"."
   ]
  },
  {
   "cell_type": "markdown",
   "metadata": {
    "slideshow": {
     "slide_type": "slide"
    }
   },
   "source": [
    "<b>Exemple simple</b> en Python, on calcul un nombre `a`, et on souhaite tester son signe. "
   ]
  },
  {
   "cell_type": "code",
   "execution_count": 5,
   "metadata": {
    "slideshow": {
     "slide_type": "fragment"
    }
   },
   "outputs": [
    {
     "name": "stdout",
     "output_type": "stream",
     "text": [
      "Positif\n",
      "0.970941817426052\n"
     ]
    }
   ],
   "source": [
    "from math import cos, pi\n",
    "a = cos(pi/13.0)\n",
    "if a>0:\n",
    "    print(\"Positif\")\n",
    "else:\n",
    "    print(\"Negatif\")\n",
    "print(a)"
   ]
  },
  {
   "cell_type": "markdown",
   "metadata": {
    "slideshow": {
     "slide_type": "notes"
    }
   },
   "source": [
    "Si vous tentez de changer l'indentation de ce code l'interpréteur renvoie des messages d'erreur. L'indentation permet ici de faire l'économie des mots \"then\" et \"do\", le saut de ligne après `print` \"Négatif\" permet de faire l'économie du mot \"end\" qui dans de nombreux langages annonce la fin du test conditionnel. Notez également la présence du signe \":\" après la <i>condition 1</i> et après le `else`."
   ]
  },
  {
   "cell_type": "markdown",
   "metadata": {
    "slideshow": {
     "slide_type": "slide"
    }
   },
   "source": [
    "<b>Exemple plus complexe</b> correspondant à la séquence en pseudo-code énoncée ci-dessus et permettant de tester dans quel cadrant se trouve l'angle `theta`."
   ]
  },
  {
   "cell_type": "code",
   "execution_count": 8,
   "metadata": {
    "slideshow": {
     "slide_type": "fragment"
    }
   },
   "outputs": [
    {
     "name": "stdout",
     "output_type": "stream",
     "text": [
      "Premier quadrant\n"
     ]
    }
   ],
   "source": [
    "from math import cos, sin\n",
    "theta = pi/13.0\n",
    "if cos(theta)>0 and sin(theta)>0:\n",
    "    print(\"Premier quadrant\")\n",
    "elif cos(theta)<0 and sin(theta)>0:\n",
    "    print(\"Second quadrant\")\n",
    "elif cos(theta)<0 and sin(theta)<0:\n",
    "    print(\"Troisième quadrant\")\n",
    "elif cos(theta)>0 and sin(theta)<0:\n",
    "    print(\"Quatrième quadrant\")\n",
    "else:\n",
    "    print(\"Erreur\")"
   ]
  },
  {
   "cell_type": "markdown",
   "metadata": {
    "slideshow": {
     "slide_type": "notes"
    }
   },
   "source": [
    "Notez qu'il aurait été plus efficace d'utiliser des tests conditionnels imbriqués."
   ]
  },
  {
   "cell_type": "code",
   "execution_count": 7,
   "metadata": {},
   "outputs": [
    {
     "name": "stdout",
     "output_type": "stream",
     "text": [
      "Premier quadrant\n"
     ]
    }
   ],
   "source": [
    "from math import cos, sin\n",
    "theta = pi/13.0\n",
    "if cos(theta)>0:\n",
    "    if sin(theta)>0:\n",
    "        print(\"Premier quadrant\")\n",
    "    else:\n",
    "        print(\"Quatrième quadrant\")\n",
    "else:\n",
    "    if sin(theta)>0:\n",
    "        print(\"Deuxième quadrant\")\n",
    "    else:\n",
    "        print(\"Troisième quadrant\")"
   ]
  },
  {
   "cell_type": "markdown",
   "metadata": {
    "slideshow": {
     "slide_type": "slide"
    }
   },
   "source": [
    "### Les fonctions"
   ]
  },
  {
   "cell_type": "markdown",
   "metadata": {
    "slideshow": {
     "slide_type": "notes"
    }
   },
   "source": [
    "Il est souvent commode de regrouper une suite d'instructions dans une fonction. Une fonction peut accepter ou non des arguments en entrée et en sortie. Les variables créées à l'intérieur de la fonction n'existent pas à l'extérieur de la fonction. Créer des fonctions permet de rendre le code plus clair. Il vaut mieux découper un script en une certaines quantité de fonctions réalisant tâche bien déterminées. Cela est d'autant plus vrai lorsqu'on doit réaliser plusieurs fois la même opération. Les fonctions permettent dans ce cas d'éviter de copier/coller du code."
   ]
  },
  {
   "cell_type": "markdown",
   "metadata": {
    "slideshow": {
     "slide_type": "fragment"
    }
   },
   "source": [
    "Pour créer une fonction on utilise la commande <b>`def`</b>. Puis pour faire retourner une valeur à la fonction, on utilise la commande <b>`return`</b>."
   ]
  },
  {
   "cell_type": "markdown",
   "metadata": {
    "slideshow": {
     "slide_type": "slide"
    }
   },
   "source": [
    "#### Exemple de fonction sans argument en entrée ni en sortie"
   ]
  },
  {
   "cell_type": "code",
   "execution_count": 9,
   "metadata": {
    "slideshow": {
     "slide_type": "fragment"
    }
   },
   "outputs": [],
   "source": [
    "# Fonction qui affiche \"Hello World\"\n",
    "def print_helloworld():\n",
    "    print(\"Hello World\")"
   ]
  },
  {
   "cell_type": "code",
   "execution_count": 10,
   "metadata": {
    "slideshow": {
     "slide_type": "fragment"
    }
   },
   "outputs": [
    {
     "name": "stdout",
     "output_type": "stream",
     "text": [
      "Hello World\n"
     ]
    }
   ],
   "source": [
    "# Appel de la fonction\n",
    "print_helloworld()"
   ]
  },
  {
   "cell_type": "markdown",
   "metadata": {
    "slideshow": {
     "slide_type": "notes"
    }
   },
   "source": [
    "Notez bien ici l'indentation ainsi que le choix explicite du nom de la fonction."
   ]
  },
  {
   "cell_type": "markdown",
   "metadata": {
    "slideshow": {
     "slide_type": "slide"
    }
   },
   "source": [
    "#### Exemple de fonction avec arguments en entrée et en sortie"
   ]
  },
  {
   "cell_type": "code",
   "execution_count": 11,
   "metadata": {
    "slideshow": {
     "slide_type": "fragment"
    }
   },
   "outputs": [],
   "source": [
    "# Fonction somme\n",
    "def somme(a, b):\n",
    "    return a+b"
   ]
  },
  {
   "cell_type": "code",
   "execution_count": 12,
   "metadata": {
    "slideshow": {
     "slide_type": "fragment"
    }
   },
   "outputs": [
    {
     "data": {
      "text/plain": [
       "10"
      ]
     },
     "execution_count": 12,
     "metadata": {},
     "output_type": "execute_result"
    }
   ],
   "source": [
    "somme(2, 8)"
   ]
  },
  {
   "cell_type": "code",
   "execution_count": 13,
   "metadata": {
    "slideshow": {
     "slide_type": "slide"
    }
   },
   "outputs": [
    {
     "name": "stdout",
     "output_type": "stream",
     "text": [
      "11\n"
     ]
    }
   ],
   "source": [
    "# Sauver la sortie de la fonction dans une variable\n",
    "a = somme(2, 9)\n",
    "print(a)"
   ]
  },
  {
   "cell_type": "code",
   "execution_count": 14,
   "metadata": {
    "slideshow": {
     "slide_type": "fragment"
    }
   },
   "outputs": [
    {
     "name": "stdout",
     "output_type": "stream",
     "text": [
      "12 -6\n"
     ]
    }
   ],
   "source": [
    "# Fonction somme et différence\n",
    "def somme_diff(a, b):\n",
    "    return a+b, a-b\n",
    "s, d = somme_diff(3, 9)\n",
    "print(s, d)"
   ]
  },
  {
   "cell_type": "markdown",
   "metadata": {
    "slideshow": {
     "slide_type": "notes"
    }
   },
   "source": [
    "Les différents arguments en sortie sont séparés par une virgule."
   ]
  },
  {
   "cell_type": "markdown",
   "metadata": {
    "slideshow": {
     "slide_type": "slide"
    }
   },
   "source": [
    "### Les boucles <b>`while`</b>"
   ]
  },
  {
   "cell_type": "markdown",
   "metadata": {
    "slideshow": {
     "slide_type": "fragment"
    }
   },
   "source": [
    "La boucle `while` permet de répéter l'éxécution d'une série d'instruction tant qu'une condition est pas vérifiée. En pseudo-code :\n",
    "\n",
    "* Tant que <i>condition</i> est vérifiée\n",
    "* Faire <i>opération</i>"
   ]
  },
  {
   "cell_type": "markdown",
   "metadata": {
    "slideshow": {
     "slide_type": "slide"
    }
   },
   "source": [
    "En Python :"
   ]
  },
  {
   "cell_type": "markdown",
   "metadata": {
    "slideshow": {
     "slide_type": "fragment"
    }
   },
   "source": [
    "<b>`while`</b> condition<b>:</b>       <br/>\n",
    "&nbsp;&nbsp;&nbsp;&nbsp;opération  <br/>"
   ]
  },
  {
   "cell_type": "markdown",
   "metadata": {
    "slideshow": {
     "slide_type": "notes"
    }
   },
   "source": [
    "Notez encore une fois l'indentation."
   ]
  },
  {
   "cell_type": "markdown",
   "metadata": {
    "slideshow": {
     "slide_type": "slide"
    }
   },
   "source": [
    "#### Exemple de boucle `while`"
   ]
  },
  {
   "cell_type": "code",
   "execution_count": 15,
   "metadata": {
    "slideshow": {
     "slide_type": "fragment"
    }
   },
   "outputs": [
    {
     "name": "stdout",
     "output_type": "stream",
     "text": [
      "0\n",
      "1\n",
      "2\n",
      "3\n",
      "4\n",
      "5\n",
      "6\n",
      "7\n",
      "8\n",
      "9\n",
      "La valeur finale de i est :  10\n"
     ]
    }
   ],
   "source": [
    "# Programmation d'un compteur\n",
    "i = 0\n",
    "while i<10:\n",
    "    print(i)\n",
    "    i += 1\n",
    "print(\"La valeur finale de i est : \", i)"
   ]
  },
  {
   "cell_type": "markdown",
   "metadata": {
    "slideshow": {
     "slide_type": "notes"
    }
   },
   "source": [
    "Ici il faut bien comprendre pourquoi la dernière valeur affichée n'est pas `10` mais `9`. Il faut également remarquer que la dernière ligne de code n'étant pas indentée, elle n'est pas éxécutée à l'intérieur de la boucle mais à l'issu de l'éxécution de celle-ci."
   ]
  },
  {
   "cell_type": "markdown",
   "metadata": {
    "slideshow": {
     "slide_type": "slide"
    }
   },
   "source": [
    "#### Interrompre une boucle `while` avec `break`"
   ]
  },
  {
   "cell_type": "markdown",
   "metadata": {
    "slideshow": {
     "slide_type": "notes"
    }
   },
   "source": [
    "Dans certains cas on peut avoir besoin d'interrompre une boucle while prématurément. Cela peut se faire avec l'instruction `break`. C'est utile si l'on saouhaite arrêter la boucle seulement après avoir effectué un certain nombre d'instructions."
   ]
  },
  {
   "cell_type": "code",
   "execution_count": 16,
   "metadata": {
    "slideshow": {
     "slide_type": "fragment"
    }
   },
   "outputs": [
    {
     "name": "stdout",
     "output_type": "stream",
     "text": [
      "La valeur finale de i est :  10\n"
     ]
    }
   ],
   "source": [
    "# Programmation d'un compteur avec arrêt à l'intérieur de la boucle\n",
    "i = 0\n",
    "while i<10000:\n",
    "    if i>=10:\n",
    "        break\n",
    "    i += 1\n",
    "print(\"La valeur finale de i est : \", i)"
   ]
  },
  {
   "cell_type": "markdown",
   "metadata": {
    "slideshow": {
     "slide_type": "slide"
    }
   },
   "source": [
    "#### L'instruction `continue`"
   ]
  },
  {
   "cell_type": "markdown",
   "metadata": {
    "slideshow": {
     "slide_type": "notes"
    }
   },
   "source": [
    "Lorsque l'interpréteur rencontre l'instruction `continue` à l'intérieur d'une boucle `while`, il saute toute les instructions qui suivent.  "
   ]
  },
  {
   "cell_type": "code",
   "execution_count": 17,
   "metadata": {
    "slideshow": {
     "slide_type": "fragment"
    }
   },
   "outputs": [
    {
     "name": "stdout",
     "output_type": "stream",
     "text": [
      "La valeur finale de i est :  15\n"
     ]
    }
   ],
   "source": [
    "# Programmation d'un compteur : si j est pair on ajoute 2 sinon on ajoute 1 à i\n",
    "i = 0\n",
    "j = 0\n",
    "while j<10:\n",
    "    j +=1\n",
    "    if j%2==0:\n",
    "        i += 2\n",
    "        continue\n",
    "    i += 1\n",
    "print(\"La valeur finale de i est : \", i)"
   ]
  },
  {
   "cell_type": "markdown",
   "metadata": {
    "slideshow": {
     "slide_type": "notes"
    }
   },
   "source": [
    "Il y aurait bien évidemment des manières plus simples de réaliser la fonction ci-dessus. L'instruction `continue` est rarement utilisée."
   ]
  },
  {
   "cell_type": "code",
   "execution_count": 21,
   "metadata": {},
   "outputs": [
    {
     "name": "stdout",
     "output_type": "stream",
     "text": [
      "La valeur finale de i est :  15\n"
     ]
    }
   ],
   "source": [
    "i = 0\n",
    "j = 0\n",
    "while j<10:\n",
    "    j +=1\n",
    "    if j%2==0:\n",
    "        i += 2\n",
    "    else:\n",
    "        i += 1\n",
    "print(\"La valeur finale de i est : \", i)"
   ]
  },
  {
   "cell_type": "markdown",
   "metadata": {
    "slideshow": {
     "slide_type": "slide"
    }
   },
   "source": [
    "### Les boucles `for`"
   ]
  },
  {
   "cell_type": "markdown",
   "metadata": {
    "slideshow": {
     "slide_type": "notes"
    }
   },
   "source": [
    "La boucle `for` itère sur les éléments d'une liste (par exemple une liste de nombres, nous verrons plus tard ce qu'est une liste en Python) et exécute un bloc d'instruction une fois pour chaque élément de cette liste. Par exemple lors de l'exécution de "
   ]
  },
  {
   "cell_type": "code",
   "execution_count": 22,
   "metadata": {
    "slideshow": {
     "slide_type": "fragment"
    }
   },
   "outputs": [
    {
     "name": "stdout",
     "output_type": "stream",
     "text": [
      "1\n",
      "2\n",
      "7\n",
      "9\n"
     ]
    }
   ],
   "source": [
    "# Afficher les éléments d'une liste\n",
    "for x in [1, 2, 7, 9]:\n",
    "    print(x)"
   ]
  },
  {
   "cell_type": "markdown",
   "metadata": {
    "slideshow": {
     "slide_type": "notes"
    }
   },
   "source": [
    "l'instruction `print x` est exécutée pour `x` valant successivement 1, 2, 7, et 9. Notez bien la présence du symbole \":\" et l'indentation."
   ]
  },
  {
   "cell_type": "markdown",
   "metadata": {
    "slideshow": {
     "slide_type": "slide"
    }
   },
   "source": [
    "#### La fonction `range(n)`"
   ]
  },
  {
   "cell_type": "markdown",
   "metadata": {
    "slideshow": {
     "slide_type": "notes"
    }
   },
   "source": [
    "Très souvent on a besoin d'itérer sur la liste de nombres (0,1,2,...,n). Python intègre donc une fonction qui permet de la générer. C'est la fonction `range(n)`. "
   ]
  },
  {
   "cell_type": "code",
   "execution_count": 23,
   "metadata": {
    "slideshow": {
     "slide_type": "fragment"
    }
   },
   "outputs": [
    {
     "name": "stdout",
     "output_type": "stream",
     "text": [
      "1\n",
      "range(0, 10)\n"
     ]
    }
   ],
   "source": [
    "a=range(10)\n",
    "print(a[1])\n",
    "print(a)"
   ]
  },
  {
   "cell_type": "code",
   "execution_count": 24,
   "metadata": {
    "slideshow": {
     "slide_type": "fragment"
    }
   },
   "outputs": [
    {
     "name": "stdout",
     "output_type": "stream",
     "text": [
      "0\n",
      "1\n",
      "2\n",
      "3\n",
      "4\n",
      "5\n",
      "6\n",
      "7\n",
      "8\n",
      "9\n"
     ]
    }
   ],
   "source": [
    "# Afficher les éléments d'une liste en utilisant `range`\n",
    "for x in range(10):\n",
    "    print(x)"
   ]
  },
  {
   "cell_type": "markdown",
   "metadata": {
    "slideshow": {
     "slide_type": "slide"
    }
   },
   "source": [
    "On peut alors calculer facilement la somme de la série alternée $\\sum(-1)^n/n$ (qui converge vers $-\\ln(2)$)."
   ]
  },
  {
   "cell_type": "code",
   "execution_count": 25,
   "metadata": {
    "slideshow": {
     "slide_type": "fragment"
    }
   },
   "outputs": [
    {
     "name": "stdout",
     "output_type": "stream",
     "text": [
      "-0.6931421805849816\n"
     ]
    }
   ],
   "source": [
    "somme = 0.0\n",
    "for n in range(100000):\n",
    "    somme += (-1.)**(n+1)/(n+1)\n",
    "print(somme)    "
   ]
  },
  {
   "cell_type": "code",
   "execution_count": 26,
   "metadata": {
    "slideshow": {
     "slide_type": "fragment"
    }
   },
   "outputs": [
    {
     "name": "stdout",
     "output_type": "stream",
     "text": [
      "-0.6931471805599453\n"
     ]
    }
   ],
   "source": [
    "# Comparaison avec -log(2)\n",
    "from math import log\n",
    "print(-log(2))"
   ]
  },
  {
   "cell_type": "markdown",
   "metadata": {
    "slideshow": {
     "slide_type": "notes"
    }
   },
   "source": [
    "* Notez qu'on a écrit (-1.) et non (-1) car pour que la division soit réelle il faut qu'au moins un des deux nombres soit de type `float`.\n",
    "* Notez également que comme la fonction `range()` renvoie une liste qui commence à 0, on a pris (n+1) et non n dans la somme."
   ]
  },
  {
   "cell_type": "markdown",
   "metadata": {
    "slideshow": {
     "slide_type": "slide"
    }
   },
   "source": [
    "#### range(start, stop, step)"
   ]
  },
  {
   "cell_type": "markdown",
   "metadata": {
    "slideshow": {
     "slide_type": "notes"
    }
   },
   "source": [
    "Pour créer une liste qui ne commence pas à zéro et avec un pas différent de 1, on peut utiliser range(start, stop, step)."
   ]
  },
  {
   "cell_type": "code",
   "execution_count": 27,
   "metadata": {
    "slideshow": {
     "slide_type": "fragment"
    }
   },
   "outputs": [],
   "source": [
    "# Création d'une liste de nombres commençant à deux, finissant à 29 par pas de 3\n",
    "a = range(2, 30, 3)"
   ]
  },
  {
   "cell_type": "code",
   "execution_count": 31,
   "metadata": {},
   "outputs": [
    {
     "name": "stdout",
     "output_type": "stream",
     "text": [
      "2\n",
      "5\n",
      "8\n",
      "11\n",
      "14\n",
      "17\n",
      "20\n",
      "23\n",
      "26\n",
      "29\n"
     ]
    }
   ],
   "source": [
    "a = range(2, 30, 3)\n",
    "for i in a:\n",
    "    print(i)"
   ]
  },
  {
   "cell_type": "code",
   "execution_count": 36,
   "metadata": {},
   "outputs": [
    {
     "data": {
      "text/plain": [
       "5"
      ]
     },
     "execution_count": 36,
     "metadata": {},
     "output_type": "execute_result"
    }
   ],
   "source": [
    "2*(5//2) + 5%2"
   ]
  }
 ],
 "metadata": {
  "kernelspec": {
   "display_name": "Python 3",
   "language": "python",
   "name": "python3"
  },
  "language_info": {
   "codemirror_mode": {
    "name": "ipython",
    "version": 3
   },
   "file_extension": ".py",
   "mimetype": "text/x-python",
   "name": "python",
   "nbconvert_exporter": "python",
   "pygments_lexer": "ipython3",
   "version": "3.6.5"
  }
 },
 "nbformat": 4,
 "nbformat_minor": 1
}
