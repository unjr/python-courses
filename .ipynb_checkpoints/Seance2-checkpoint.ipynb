{
 "cells": [
  {
   "cell_type": "markdown",
   "metadata": {},
   "source": [
    "## Exercices sur les listes"
   ]
  },
  {
   "cell_type": "markdown",
   "metadata": {},
   "source": [
    "### Exercice 1"
   ]
  },
  {
   "cell_type": "code",
   "execution_count": 41,
   "metadata": {},
   "outputs": [],
   "source": [
    "ma_liste = [] # Liste vide"
   ]
  },
  {
   "cell_type": "code",
   "execution_count": 42,
   "metadata": {},
   "outputs": [
    {
     "name": "stdout",
     "output_type": "stream",
     "text": [
      "[2.7, 5.1, 2.7, 'Hello World', 3]\n"
     ]
    }
   ],
   "source": [
    "ma_liste.append(2.7)\n",
    "ma_liste.append(5.1)\n",
    "ma_liste.append(2.7)\n",
    "ma_liste.append(\"Hello World\")\n",
    "ma_liste.append(3)\n",
    "print(ma_liste)"
   ]
  },
  {
   "cell_type": "code",
   "execution_count": 43,
   "metadata": {},
   "outputs": [
    {
     "name": "stdout",
     "output_type": "stream",
     "text": [
      "[4, 2.7, 5.1, 2.7, 'Hello World', 3]\n"
     ]
    }
   ],
   "source": [
    "ma_liste.insert(0,4)\n",
    "print(ma_liste)"
   ]
  },
  {
   "cell_type": "code",
   "execution_count": 44,
   "metadata": {},
   "outputs": [
    {
     "name": "stdout",
     "output_type": "stream",
     "text": [
      "[4, 2.9, 2.7, 5.1, 2.7, 'Hello World', 3]\n"
     ]
    }
   ],
   "source": [
    "ma_liste.insert(1,2.9)\n",
    "print(ma_liste)"
   ]
  },
  {
   "cell_type": "code",
   "execution_count": 45,
   "metadata": {},
   "outputs": [
    {
     "name": "stdout",
     "output_type": "stream",
     "text": [
      "[4, 2.9, 2.7, 5.1, 2.7, 3]\n"
     ]
    }
   ],
   "source": [
    "del(ma_liste[5])\n",
    "print(ma_liste)"
   ]
  },
  {
   "cell_type": "code",
   "execution_count": 46,
   "metadata": {},
   "outputs": [
    {
     "name": "stdout",
     "output_type": "stream",
     "text": [
      "[2.7, 2.7, 2.9, 3, 4, 5.1]\n"
     ]
    }
   ],
   "source": [
    "ma_liste.sort()\n",
    "print(ma_liste)"
   ]
  },
  {
   "cell_type": "code",
   "execution_count": 47,
   "metadata": {},
   "outputs": [
    {
     "name": "stdout",
     "output_type": "stream",
     "text": [
      "[5.1, 4, 3, 2.9, 2.7, 2.7]\n"
     ]
    }
   ],
   "source": [
    "ma_liste.sort(reverse=True)\n",
    "print(ma_liste)"
   ]
  },
  {
   "cell_type": "code",
   "execution_count": 48,
   "metadata": {},
   "outputs": [
    {
     "name": "stdout",
     "output_type": "stream",
     "text": [
      "[5.1, 4, 3, 2.7, 2.7]\n"
     ]
    }
   ],
   "source": [
    "ma_liste.remove(2.9)\n",
    "print(ma_liste)"
   ]
  },
  {
   "cell_type": "code",
   "execution_count": 53,
   "metadata": {},
   "outputs": [
    {
     "name": "stdout",
     "output_type": "stream",
     "text": [
      "[5.1, 4, 3, 2.7, 2.7, 5.1, 4, 3, 2.7, 2.7, 5.1, 4, 3, 2.7, 2.7, 5.1, 4, 3, 2.7, 2.7, 5.1, 4, 3, 2.7, 2.7, 5.1, 4, 3, 2.7, 2.7, 5.1, 4, 3, 2.7, 2.7, 5.1, 4, 3, 2.7, 2.7, 5.1, 4, 3, 2.7, 2.7]\n"
     ]
    }
   ],
   "source": [
    "ma_liste = ma_liste*3\n",
    "print(ma_liste)"
   ]
  },
  {
   "cell_type": "markdown",
   "metadata": {},
   "source": [
    "### Exercice 2"
   ]
  },
  {
   "cell_type": "code",
   "execution_count": 52,
   "metadata": {},
   "outputs": [
    {
     "data": {
      "text/plain": [
       "'0 1 2 3 4 5 6 7 8 9'"
      ]
     },
     "execution_count": 52,
     "metadata": {},
     "output_type": "execute_result"
    }
   ],
   "source": [
    "def nombres_entiers(n):\n",
    "    liste_creee = []\n",
    "    for i in range(n):\n",
    "        liste_creee.append(i)\n",
    "    resultat = ' '.join(map(str,liste_creee))\n",
    "    return(resultat)\n",
    "\n",
    "nombres_entiers(10)"
   ]
  },
  {
   "cell_type": "markdown",
   "metadata": {},
   "source": [
    "### Exercice 3"
   ]
  },
  {
   "cell_type": "code",
   "execution_count": 57,
   "metadata": {},
   "outputs": [
    {
     "data": {
      "text/plain": [
       "'0 1 2 3 4 5 6 7 8 9'"
      ]
     },
     "execution_count": 57,
     "metadata": {},
     "output_type": "execute_result"
    }
   ],
   "source": [
    "def nombres_entiers_2(n):\n",
    "    ma_liste = [str(i) for i in range(n)]\n",
    "    resultat = ' '.join(ma_liste)\n",
    "    return resultat\n",
    "\n",
    "nombres_entiers_2(10)"
   ]
  },
  {
   "cell_type": "code",
   "execution_count": 58,
   "metadata": {},
   "outputs": [
    {
     "data": {
      "text/plain": [
       "'0 1 2 3 4 5 6 7 8 9'"
      ]
     },
     "execution_count": 58,
     "metadata": {},
     "output_type": "execute_result"
    }
   ],
   "source": [
    "def nombres_entiers_3(n):\n",
    "    return ' '.join(str(i) for i in range(n))\n",
    "    \n",
    "nombres_entiers_3(10)"
   ]
  },
  {
   "cell_type": "code",
   "execution_count": 71,
   "metadata": {},
   "outputs": [
    {
     "name": "stdout",
     "output_type": "stream",
     "text": [
      "[75, 76, 77, 78, 79, 80, 81, 82, 83, 84, 85, 86, 87, 88, 89, 90, 91, 92, 93, 94, 95, 96, 97, 98, 99, 100]\n"
     ]
    }
   ],
   "source": [
    "ma_liste = [i for i in range(75,101,1)]\n",
    "print(ma_liste)"
   ]
  },
  {
   "cell_type": "code",
   "execution_count": 72,
   "metadata": {},
   "outputs": [
    {
     "name": "stdout",
     "output_type": "stream",
     "text": [
      "[75, 76, 77, 78, 79, 80, 81, 82, 83, 90, 91, 92, 93, 94, 95, 96, 97, 98, 99, 100, 101, 102, 103, 104, 105, 106]\n"
     ]
    }
   ],
   "source": [
    "for i in range(len(ma_liste)):\n",
    "    if ma_liste[i]>=84:\n",
    "        ma_liste[i]+=6\n",
    "print(ma_liste)"
   ]
  },
  {
   "cell_type": "code",
   "execution_count": 76,
   "metadata": {},
   "outputs": [
    {
     "name": "stdout",
     "output_type": "stream",
     "text": [
      "[96, 97, 98, 99, 100, 101, 102, 103, 104, 105, 106, 107, 108, 109, 110, 111, 112]\n"
     ]
    }
   ],
   "source": [
    "ma_liste = [ma_liste[i]+6 for i in range(len(ma_liste)) if ma_liste[i]>=84]\n",
    "print(ma_liste)"
   ]
  },
  {
   "cell_type": "code",
   "execution_count": 78,
   "metadata": {},
   "outputs": [
    {
     "ename": "SyntaxError",
     "evalue": "invalid syntax (<ipython-input-78-e6aa6b643710>, line 1)",
     "output_type": "error",
     "traceback": [
      "\u001b[0;36m  File \u001b[0;32m\"<ipython-input-78-e6aa6b643710>\"\u001b[0;36m, line \u001b[0;32m1\u001b[0m\n\u001b[0;31m    ma_liste = [for i in range(len(ma_liste)): if ma_liste[i]>=84 ma_liste[i]+6: else: ma_liste[i]]\u001b[0m\n\u001b[0m                  ^\u001b[0m\n\u001b[0;31mSyntaxError\u001b[0m\u001b[0;31m:\u001b[0m invalid syntax\n"
     ]
    }
   ],
   "source": [
    "ma_liste = [for i in range(len(ma_liste)): if ma_liste[i]>=84 ma_liste[i]+6: else: ma_liste[i]]\n",
    "print(ma_liste)"
   ]
  },
  {
   "cell_type": "markdown",
   "metadata": {},
   "source": [
    "### Exercice 4"
   ]
  },
  {
   "cell_type": "code",
   "execution_count": 82,
   "metadata": {},
   "outputs": [
    {
     "name": "stdout",
     "output_type": "stream",
     "text": [
      "[0, 1, 2, 3, 4, 5, 6, 7, 8, 9]\n"
     ]
    }
   ],
   "source": [
    "liste_nombres = [i for i in range(10)]\n",
    "print(liste_nombres)"
   ]
  },
  {
   "cell_type": "code",
   "execution_count": 83,
   "metadata": {},
   "outputs": [
    {
     "data": {
      "text/plain": [
       "7"
      ]
     },
     "execution_count": 83,
     "metadata": {},
     "output_type": "execute_result"
    }
   ],
   "source": [
    "liste_nombres.index(7) #find index in list"
   ]
  },
  {
   "cell_type": "code",
   "execution_count": 84,
   "metadata": {},
   "outputs": [],
   "source": [
    "def trouver_indice(liste,elementCherche):\n",
    "    for indice, element in enumerate(liste):\n",
    "        if element == elementCherche:\n",
    "            return indice"
   ]
  },
  {
   "cell_type": "code",
   "execution_count": 85,
   "metadata": {},
   "outputs": [
    {
     "data": {
      "text/plain": [
       "7"
      ]
     },
     "execution_count": 85,
     "metadata": {},
     "output_type": "execute_result"
    }
   ],
   "source": [
    "trouver_indice(liste_nombres,7)"
   ]
  },
  {
   "cell_type": "markdown",
   "metadata": {},
   "source": [
    "### Exercice 5"
   ]
  },
  {
   "cell_type": "code",
   "execution_count": 96,
   "metadata": {},
   "outputs": [],
   "source": [
    "liste1 = [1,5,8,1,2,6,9,4]\n",
    "liste2 = [0,5,6,1,3,6,5,2]"
   ]
  },
  {
   "cell_type": "code",
   "execution_count": 98,
   "metadata": {},
   "outputs": [
    {
     "data": {
      "text/plain": [
       "[1, 3, 5]"
      ]
     },
     "execution_count": 98,
     "metadata": {},
     "output_type": "execute_result"
    }
   ],
   "source": [
    "def trouver_indice_commun(liste1,liste2):\n",
    "    resultat = []\n",
    "    for indice,elements in enumerate(zip(liste1, liste2)):\n",
    "        if elements[0] == elements[1]:\n",
    "            resultat.append(indice)\n",
    "    return resultat\n",
    "\n",
    "trouver_indice_commun(liste1,liste2)"
   ]
  },
  {
   "cell_type": "code",
   "execution_count": null,
   "metadata": {},
   "outputs": [],
   "source": [
    "def trouver_indice_commun_2(liste1,liste2):\n",
    "    resultat = []\n",
    "    for indice,elements in enumerate(zip(liste1, liste2)):\n",
    "        if elements[0] == elements[1]:\n",
    "            resultat.append(indice)\n",
    "    return resultat\n",
    "\n",
    "trouver_indice_commun_2(liste1,liste2)"
   ]
  },
  {
   "cell_type": "markdown",
   "metadata": {},
   "source": [
    "## Exercices sur les dictionnaires"
   ]
  },
  {
   "cell_type": "markdown",
   "metadata": {},
   "source": [
    "### Exercice 1"
   ]
  },
  {
   "cell_type": "code",
   "execution_count": 1,
   "metadata": {},
   "outputs": [],
   "source": [
    "chaine = '''Voici venir les temps où vibrant sur sa tige\n",
    "Chaque fleur s'évapore ainsi qu'un encensoir ;\n",
    "Les sons et les parfums tournent dans l'air du soir ;\n",
    "Valse mélancolique et langoureux vertige !\n",
    "\n",
    "Chaque fleur s'évapore ainsi qu'un encensoir ;\n",
    "Le violon frémit comme un coeur qu'on afflige ;\n",
    "Valse mélancolique et langoureux vertige !\n",
    "Le ciel est triste et beau comme un grand reposoir.\n",
    "\n",
    "Le violon frémit comme un coeur qu'on afflige,\n",
    "Un coeur tendre, qui hait le néant vaste et noir !\n",
    "Le ciel est triste et beau comme un grand reposoir ;\n",
    "Le soleil s'est noyé dans son sang qui se fige.\n",
    "\n",
    "Un coeur tendre, qui hait le néant vaste et noir,\n",
    "Du passé lumineux recueille tout vestige !\n",
    "Le soleil s'est noyé dans son sang qui se fige...\n",
    "Ton souvenir en moi luit comme un ostensoir !'''\n"
   ]
  },
  {
   "cell_type": "code",
   "execution_count": 2,
   "metadata": {},
   "outputs": [],
   "source": [
    "def creer_dictionnaire(chaine):\n",
    "    dictionnaire = {}\n",
    "    chaine = chaine.lower()\n",
    "    liste = chaine.split()\n",
    "    listeAlpha = [liste[i] for i in range(len(liste)) if liste[i].isalpha()]\n",
    "    listeAlpha.sort()\n",
    "    for mot in listeAlpha:\n",
    "        nombre_occurences = chaine.count(mot)\n",
    "        dictionnaire[mot] = nombre_occurences\n",
    "    return dictionnaire"
   ]
  },
  {
   "cell_type": "code",
   "execution_count": 3,
   "metadata": {},
   "outputs": [
    {
     "name": "stdout",
     "output_type": "stream",
     "text": [
      "{'afflige': 2, 'ainsi': 2, 'beau': 2, 'chaque': 2, 'ciel': 2, 'coeur': 4, 'comme': 5, 'dans': 3, 'du': 2, 'en': 11, 'encensoir': 2, 'est': 5, 'et': 7, 'fleur': 2, 'frémit': 2, 'grand': 2, 'hait': 2, 'langoureux': 2, 'le': 16, 'les': 3, 'luit': 1, 'lumineux': 1, 'moi': 1, 'mélancolique': 2, 'noir': 2, 'noyé': 2, 'néant': 2, 'ostensoir': 1, 'où': 1, 'parfums': 1, 'passé': 1, 'qui': 4, 'recueille': 1, 'reposoir': 2, 'sa': 3, 'sang': 2, 'se': 4, 'soir': 6, 'soleil': 2, 'son': 3, 'sons': 1, 'souvenir': 1, 'sur': 1, 'temps': 1, 'tige': 4, 'ton': 1, 'tournent': 1, 'tout': 1, 'triste': 2, 'un': 9, 'valse': 2, 'vaste': 2, 'venir': 2, 'vertige': 2, 'vestige': 1, 'vibrant': 1, 'violon': 2, 'voici': 1}\n"
     ]
    }
   ],
   "source": [
    "dico = creer_dictionnaire(chaine)\n",
    "print(dico)"
   ]
  },
  {
   "cell_type": "markdown",
   "metadata": {},
   "source": [
    "### Exercice 2"
   ]
  },
  {
   "cell_type": "code",
   "execution_count": 235,
   "metadata": {},
   "outputs": [],
   "source": [
    "# version naive\n",
    "def double_dictionnaire_poeme(poeme):\n",
    "    poeme += '\\n'\n",
    "    debutVers = 0; finVers = 0;\n",
    "    numeroStrophe = 1; numeroVers = 1;\n",
    "    vers = '';\n",
    "    dictionnaire = {}\n",
    "    dictionnaire['Strophe '+str(numeroStrophe)] = {}\n",
    "\n",
    "    while finVers < len(poeme)-1:\n",
    "        finVers = poeme.find('\\n', debutVers)\n",
    "        if finVers == debutVers:\n",
    "            numeroStrophe += 1; numeroVers = 1;\n",
    "            dictionnaire['Strophe '+str(numeroStrophe)] = {}\n",
    "            debutVers += 1\n",
    "        else:\n",
    "            vers = poeme[debutVers:finVers]\n",
    "            dictionnaire['Strophe '+str(numeroStrophe)]['Vers '+str(numeroVers)] = vers\n",
    "            debutVers = finVers+1\n",
    "            numeroVers += 1\n",
    "    return dictionnaire"
   ]
  },
  {
   "cell_type": "code",
   "execution_count": 236,
   "metadata": {},
   "outputs": [
    {
     "name": "stdout",
     "output_type": "stream",
     "text": [
      "{'Strophe 1': {'Vers 1': 'Voici venir les temps où vibrant sur sa tige', 'Vers 2': \"Chaque fleur s'évapore ainsi qu'un encensoir ;\", 'Vers 3': \"Les sons et les parfums tournent dans l'air du soir ;\", 'Vers 4': 'Valse mélancolique et langoureux vertige !'}, 'Strophe 2': {'Vers 1': \"Chaque fleur s'évapore ainsi qu'un encensoir ;\", 'Vers 2': \"Le violon frémit comme un coeur qu'on afflige ;\", 'Vers 3': 'Valse mélancolique et langoureux vertige !', 'Vers 4': 'Le ciel est triste et beau comme un grand reposoir.'}, 'Strophe 3': {'Vers 1': \"Le violon frémit comme un coeur qu'on afflige,\", 'Vers 2': 'Un coeur tendre, qui hait le néant vaste et noir !', 'Vers 3': 'Le ciel est triste et beau comme un grand reposoir ;', 'Vers 4': \"Le soleil s'est noyé dans son sang qui se fige.\"}, 'Strophe 4': {'Vers 1': 'Un coeur tendre, qui hait le néant vaste et noir,', 'Vers 2': 'Du passé lumineux recueille tout vestige !', 'Vers 3': \"Le soleil s'est noyé dans son sang qui se fige...\", 'Vers 4': 'Ton souvenir en moi luit comme un ostensoir !'}}\n"
     ]
    }
   ],
   "source": [
    "print(double_dictionnaire_poeme(chaine))"
   ]
  },
  {
   "cell_type": "code",
   "execution_count": null,
   "metadata": {},
   "outputs": [],
   "source": []
  },
  {
   "cell_type": "markdown",
   "metadata": {},
   "source": [
    "## Exercices sur la lecture/écriture"
   ]
  },
  {
   "cell_type": "markdown",
   "metadata": {},
   "source": [
    "### Exercice 1"
   ]
  },
  {
   "cell_type": "code",
   "execution_count": 237,
   "metadata": {},
   "outputs": [
    {
     "name": "stdout",
     "output_type": "stream",
     "text": [
      "Voici venir les temps où vibrant sur sa tige\n",
      "Chaque fleur s'évapore ainsi qu'un encensoir ;\n",
      "Les sons et les parfums tournent dans l'air du soir ;\n",
      "Valse mélancolique et langoureux vertige !\n",
      "\n",
      "Chaque fleur s'évapore ainsi qu'un encensoir ;\n",
      "Le violon frémit comme un coeur qu'on afflige ;\n",
      "Valse mélancolique et langoureux vertige !\n",
      "Le ciel est triste et beau comme un grand reposoir.\n",
      "\n",
      "Le violon frémit comme un coeur qu'on afflige,\n",
      "Un coeur tendre, qui hait le néant vaste et noir !\n",
      "Le ciel est triste et beau comme un grand reposoir ;\n",
      "Le soleil s'est noyé dans son sang qui se fige.\n",
      "\n",
      "Un coeur tendre, qui hait le néant vaste et noir,\n",
      "Du passé lumineux recueille tout vestige !\n",
      "Le soleil s'est noyé dans son sang qui se fige...\n",
      "Ton souvenir en moi luit comme un ostensoir !\n"
     ]
    }
   ],
   "source": [
    "print(chaine)"
   ]
  },
  {
   "cell_type": "code",
   "execution_count": null,
   "metadata": {},
   "outputs": [],
   "source": [
    "#Ecrire dans un fichier\n"
   ]
  }
 ],
 "metadata": {
  "kernelspec": {
   "display_name": "Python 3",
   "language": "python",
   "name": "python3"
  },
  "language_info": {
   "codemirror_mode": {
    "name": "ipython",
    "version": 3
   },
   "file_extension": ".py",
   "mimetype": "text/x-python",
   "name": "python",
   "nbconvert_exporter": "python",
   "pygments_lexer": "ipython3",
   "version": "3.6.5"
  }
 },
 "nbformat": 4,
 "nbformat_minor": 2
}
